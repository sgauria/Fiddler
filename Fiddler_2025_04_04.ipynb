{
 "cells": [
  {
   "cell_type": "markdown",
   "metadata": {},
   "source": [
    "**This Week’s Fiddler**\n",
    "A teacher is handing out candy to his students, of which there are at least four. He abides by the following rules:\n",
    "- He hands out candy to groups of three students (i.e., “trios”) at a time. Each member of the trio gets one piece of candy.\n",
    "- Each unique trio can ask for candy, but that same trio can’t come back for seconds. If students in the trio want more candy, they must return as part of a different trio.\n",
    "- When a trio gets candy, the next trio can’t contain any students from that previous trio.\n",
    "It turns out that every possible trio can get a helping of candy. What is the smallest class size for which this is possible?\n",
    "\n",
    "**This Week’s Extra Credit**\n",
    "Instead of trios of students, suppose now that groups of 10 students come up to get candy. This time, there are at least 11 students in the class. As before:\n",
    "- Each member of the group of 10 gets one piece of candy per visit.\n",
    "- Each unique group of 10 can ask for candy, but the exact same group of 10 can’t come back for seconds. If students in the group want more candy, they must return as part of a different group.\n",
    "- When a group of 10 gets candy, the next group of 10 can’t contain any students from the previous group of 10.\n",
    "\n",
    "Suppose the class size is the minimum that allows every possible group of 10 to get a helping of candy. How many pieces of candy does each student receive?\n",
    "\n",
    "---"
   ]
  },
  {
   "cell_type": "markdown",
   "metadata": {},
   "source": [
    "Let T be the group size (3 or 10 above).\n",
    "We need at least 2T + 1 students. because with 2T, we'll be stuck after 2 groups.\n",
    "The hard part seems to be showing that 2T+1 is sufficient.\n",
    "\n",
    "For group size T = 2, we can show that a class size C = 5 = 2*T+1 suffices by hand, if groups go the teacher in the following order. \n",
    "(\"AB\" means the group with students A and B)\n",
    "   AB CD EA BC DE     AC BD CE DA EB\n",
    "\n",
    "Same thing written using numbers:\n",
    "   12 34 51 23 45     13 24 35 41 52\n",
    "\n",
    "-----"
   ]
  },
  {
   "cell_type": "markdown",
   "metadata": {},
   "source": [
    "For T = 3, C=7, there are 7.6.5./1.2.3 = 35 groups / trios.\n",
    "Thinking of 1 .. 7 as being on a circle, we can list the groups as follows.\n",
    "\n",
    "##### ABC - Successive\n",
    "123 456 712 345 671 234 567\n",
    "\n",
    "##### ACE - Alternate\n",
    "135 246 357 461 572 613 724\n",
    "\n",
    "##### ACD - Skip 1 first.\n",
    "134 245 356 467 571 612 723\n",
    "\n",
    "##### ABE - Skip 2.\n",
    "125 236 347 451 562 673 714\n",
    "\n",
    "##### ABD - Skip 1 later.\n",
    "124 235 346 457 561 672 713\n",
    "\n",
    "The first 2 patterns of groups (successive, alternate) mesh nicely into tidy loops, in the order above.\n",
    "The other 3 don't.\n",
    "But for the other 3, notice that we can interleave the three groups (ACD  EFB(ABE)  GAC(ABD)).\n",
    "So, those 3 groups can be combined into one larger loop as follows.\n",
    "\n",
    "##### Interleaved\n",
    "134 562 713\n",
    "245 673 124\n",
    "356 714 235\n",
    "467 125 346\n",
    "571 236 457\n",
    "612 347 561\n",
    "723 451 672\n",
    "\n",
    "Let's try to put it all together.\n",
    "Looks like we can strt with the Successive loop, follow with the Interleaved loop, and end with the  Alternate loop, satisfying the constraints where the loops join.\n",
    "\n",
    "123 456 712 345 671 234 567 \n",
    "-> \n",
    "134 562 713\n",
    "245 673 124\n",
    "356 714 235\n",
    "467 125 346\n",
    "571 236 457\n",
    "612 347 561\n",
    "723 451 672\n",
    "->\n",
    "135 246 357 461 572 613 724\n",
    "\n",
    "TA-DA.\n",
    "\n",
    "**I have convinced, at least myself, that a class size of 7 is sufficient for groups of size 3.**\n",
    "\n",
    "Also, phew. \n",
    "Clearly, groups of size 10 cannot be done by hand. :)\n",
    "\n",
    "---\n",
    "\n"
   ]
  },
  {
   "cell_type": "markdown",
   "metadata": {},
   "source": [
    "So, let's try making up some code to make up the graph of groups, and check for the existence of some hamiltonian path, given the allowed rules (expressed as edges). Our graph data structure will be a dict with all the nodes as keys, and the list of adjacent vertices for each node as the value."
   ]
  },
  {
   "cell_type": "code",
   "execution_count": 24,
   "metadata": {},
   "outputs": [
    {
     "data": {
      "text/plain": [
       "{'AB': ['CD', 'CE', 'DE'],\n",
       " 'AC': ['BD', 'BE', 'DE'],\n",
       " 'AD': ['BC', 'CE', 'BE'],\n",
       " 'AE': ['BC', 'CD', 'BD'],\n",
       " 'BC': ['AD', 'DE', 'AE'],\n",
       " 'BD': ['AC', 'CE', 'AE'],\n",
       " 'BE': ['AD', 'CD', 'AC'],\n",
       " 'CD': ['AB', 'BE', 'AE'],\n",
       " 'CE': ['BD', 'AD', 'AB'],\n",
       " 'DE': ['BC', 'AC', 'AB']}"
      ]
     },
     "execution_count": 24,
     "metadata": {},
     "output_type": "execute_result"
    }
   ],
   "source": [
    "import itertools\n",
    "names = \"ABCDEFGHIJKLMNOPQRSTUVWXYZabcdefghijklmnopqrstuvwxyz\"\n",
    "\n",
    "def make_graph(class_size, group_size):\n",
    "    assert(class_size <= 54) # because we only listed 54 names above.\n",
    "    students = names[0:class_size]\n",
    "    set_students = set(students)\n",
    "    graph = {}\n",
    "    for group_t in itertools.combinations(students,group_size):\n",
    "        group = \"\".join(sorted(group_t))\n",
    "        graph[group] = []\n",
    "        group_complement = set_students - set(group)\n",
    "        for neighbor_t in itertools.combinations(group_complement, group_size):\n",
    "            neighbor = \"\".join(sorted(neighbor_t))\n",
    "            graph[group].append(neighbor)\n",
    "    return graph\n",
    "\n",
    "make_graph(5,2)\n",
    "    \n"
   ]
  },
  {
   "cell_type": "code",
   "execution_count": 29,
   "metadata": {},
   "outputs": [],
   "source": [
    "def find_hamiltonian_path(graph, start_node):\n",
    "    num_nodes = len(graph.keys())\n",
    "    neighbors_per_node = len(graph[start_node])\n",
    "    #print(num_nodes, neighbors_per_node, start_node)\n",
    "    path = [start_node]\n",
    "    idxs = {}\n",
    "    while (len(path) < num_nodes):\n",
    "        last_node = path[-1]\n",
    "        #print(last_node)\n",
    "        if (last_node not in idxs):\n",
    "            idxs[last_node] = 0\n",
    "        while(True):\n",
    "            idx = idxs[last_node]\n",
    "            idxs[last_node] += 1\n",
    "            #print(idx)\n",
    "            if (idx >= neighbors_per_node):\n",
    "                path.pop()\n",
    "                break\n",
    "            new_node = graph[last_node][idx]\n",
    "            if (new_node not in path):\n",
    "                path.append(new_node)\n",
    "                idxs[new_node] = 0\n",
    "                break                             \n",
    "        if (idxs[start_node] >= neighbors_per_node):\n",
    "            break\n",
    "    return path"
   ]
  },
  {
   "cell_type": "code",
   "execution_count": null,
   "metadata": {},
   "outputs": [
    {
     "name": "stdout",
     "output_type": "stream",
     "text": [
      "Found path of length 10 :\n",
      "['AB', 'CD', 'BE', 'AD', 'CE', 'BD', 'AC', 'DE', 'BC', 'AE']\n"
     ]
    }
   ],
   "source": [
    "def make_and_check(group_size):\n",
    "    class_size = 2 * group_size + 1\n",
    "    G = make_graph(class_size, group_size)\n",
    "    print(\"graph created\")\n",
    "    start_node = names[0:group_size]\n",
    "    path = find_hamiltonian_path(G, start_node)\n",
    "    if (len(path) <= 1):\n",
    "        print(\"No path found\")\n",
    "    else :\n",
    "        print(\"Found path of length\", len(path), \":\")\n",
    "    print(path)\n",
    "\n",
    "make_and_check(2)"
   ]
  },
  {
   "cell_type": "markdown",
   "metadata": {},
   "source": [
    "With this, we can solve the base fiddler again."
   ]
  },
  {
   "cell_type": "code",
   "execution_count": 35,
   "metadata": {},
   "outputs": [
    {
     "name": "stdout",
     "output_type": "stream",
     "text": [
      "Found path of length 35 :\n",
      "['ABC', 'DFG', 'BCE', 'ADF', 'BCG', 'ADE', 'BFG', 'ACD', 'BEG', 'CDF', 'ABG', 'DEF', 'ACG', 'BEF', 'ADG', 'CEF', 'ABD', 'CFG', 'ABE', 'CDG', 'AEF', 'BDG', 'ACE', 'BDF', 'CEG', 'ABF', 'CDE', 'AFG', 'BDE', 'ACF', 'DEG', 'BCF', 'AEG', 'BCD', 'EFG']\n"
     ]
    }
   ],
   "source": [
    "make_and_check(3)"
   ]
  },
  {
   "cell_type": "markdown",
   "metadata": {},
   "source": [
    "Looks good.\n",
    "\n",
    "----\n",
    "\n",
    "Let's work our way up towards 10."
   ]
  },
  {
   "cell_type": "code",
   "execution_count": null,
   "metadata": {},
   "outputs": [],
   "source": [
    "make_and_check(4)"
   ]
  },
  {
   "cell_type": "markdown",
   "metadata": {},
   "source": [
    "Um, this is not looking good. Groups of size 3 took 0.2 seconds. Groups of size 4 took 10 minutes and was still running when I stopped it. So, clearly my homebrewed algorithm is not going to cut it for group of size 10.\n",
    "\n",
    "---"
   ]
  },
  {
   "cell_type": "markdown",
   "metadata": {},
   "source": [
    "Seems like this problem is NP-hard. So, this approach of writing or getting some code to solve a 300k vertex graph is unlikely to work.\n",
    "\n",
    "----\n"
   ]
  },
  {
   "cell_type": "markdown",
   "metadata": {},
   "source": [
    "\n",
    "That said, given that the graph is symmetric, and for group size 10 and class size 21, each node will have 11 neighbors, so I _think_ it is extremely likely that the graph will have an hamiltonian path.\n",
    "\n",
    "With that assumed, it's easy to count the number of pieces of candy.\n",
    "\n",
    "To make a group of 10 involving a given student (A), we need to pick 9 other students.\n",
    "This can be done 20 choose 9 ways = \n",
    "= 20! / 9! 11! = 167960 ways.\n",
    "So, student A will get 167960 pieces of candy, one per group that A is part of.\n",
    "\n",
    "**By symmetry, all students will get 167960 pieces of candy.**"
   ]
  }
 ],
 "metadata": {
  "kernelspec": {
   "display_name": "Python 3",
   "language": "python",
   "name": "python3"
  },
  "language_info": {
   "codemirror_mode": {
    "name": "ipython",
    "version": 3
   },
   "file_extension": ".py",
   "mimetype": "text/x-python",
   "name": "python",
   "nbconvert_exporter": "python",
   "pygments_lexer": "ipython3",
   "version": "3.11.9"
  }
 },
 "nbformat": 4,
 "nbformat_minor": 2
}
