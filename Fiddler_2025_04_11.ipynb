{
 "cells": [
  {
   "cell_type": "markdown",
   "id": "08d7c887",
   "metadata": {},
   "source": [
    "**This Week’s Fiddler**\n",
    "\n",
    "If you enjoyed last week’s puzzles, then you’re in for a treat! From Dean Ballard comes a colorful conundrum:\n",
    "\n",
    "Dean has three colors of the hibiscus: red, orange, and yellow. He wants to plant them in a straight hedge of shrubs (each of which is one color) so that the order appears somewhat random, but not truly random. More specifically, he wants the following to be true:\n",
    "- No two adjacent shrubs have the same color.\n",
    "- No ordering of three consecutive shrubs appears more than once in the hedge. (But a prior ordering can appear in reverse. For example, ROYOR is an acceptable hedge, but ROYROY is not.)\n",
    "\n",
    "What is the greatest number of shrubs Dean’s hedge can contain?\n",
    "\n",
    "----\n",
    "----\n",
    "\n",
    "**This Week’s Extra Credit**\n",
    "\n",
    "From Dean also comes some Extra Credit:\n",
    "\n",
    "In addition to red, orange, and yellow hibiscus flowers, Dean now includes a fourth color: pink. Again, he wants to plant a straight hedge of shrubs that appears somewhat random. Here are the rules for ordering the shrubs this time:\n",
    "- No two adjacent shrubs have the same color.\n",
    "- No ordering of four consecutive shrubs appears more than once in the hedge. (Again, a prior ordering can appear in reverse.)\n",
    "- Among any group of four consecutive shrubs, at least three distinct colors are represented.\n",
    "\n",
    "What is the greatest number of shrubs Dean’s hedge can contain?\n",
    "\n",
    "----\n",
    "----"
   ]
  },
  {
   "cell_type": "markdown",
   "id": "15497132",
   "metadata": {},
   "source": [
    "*My plan is to write some code to find all maximal sequences given then constraints. Let's see how that turns out. I don't really want to reuse the hamiltonian path code from last week because this problem doesn't fit that model that neatly.*"
   ]
  },
  {
   "cell_type": "code",
   "execution_count": 134,
   "id": "fe5f6ce7",
   "metadata": {},
   "outputs": [],
   "source": [
    "def is_valid_sequence_3(seq):\n",
    "    len_seq = len(seq)\n",
    "    # No two adjacent shrubs have the same color.\n",
    "    for i in range(len_seq - 1):\n",
    "        if (seq[i] == seq[i+1]):\n",
    "            return False\n",
    "    # No ordering of three consecutive shrubs appears more than once in the hedge. \n",
    "    # (But a prior ordering can appear in reverse. For example, ROYOR is an acceptable hedge, but ROYROY is not.)\n",
    "    for i in range(len_seq-2):\n",
    "        for j in range(i+1, len_seq-2):\n",
    "            if (seq[i:i+3] == seq[j:j+3]):\n",
    "                return False\n",
    "    return True\n",
    "assert( is_valid_sequence_3('') == True )\n",
    "assert( is_valid_sequence_3('R') == True )\n",
    "assert( is_valid_sequence_3('RR') == False )\n",
    "assert( is_valid_sequence_3('ROYROY') == False )\n",
    "assert( is_valid_sequence_3('ROYOR') == True )"
   ]
  },
  {
   "cell_type": "code",
   "execution_count": 135,
   "id": "92338539",
   "metadata": {},
   "outputs": [],
   "source": [
    "def find_all_maximal_sequences(current_seq='', colors='ROY', fn_is_valid_seq=is_valid_sequence_3, debug=0):\n",
    "    if (debug > 0):\n",
    "        print(current_seq)\n",
    "    max_seqs = []\n",
    "    for c in colors:\n",
    "        new_seq = current_seq + c\n",
    "        if (fn_is_valid_seq(new_seq)):\n",
    "            new_max_seqs = find_all_maximal_sequences(new_seq, colors, fn_is_valid_seq, debug)\n",
    "            max_seqs.extend(new_max_seqs)\n",
    "    if (len(max_seqs) == 0):\n",
    "        max_seqs = [current_seq]\n",
    "    if (debug > 0):\n",
    "        print(current_seq, ' -> ', max_seqs)\n",
    "    return max_seqs"
   ]
  },
  {
   "cell_type": "code",
   "execution_count": 136,
   "id": "62d004e0",
   "metadata": {},
   "outputs": [],
   "source": [
    "def summarize_seqs(all_seqs):\n",
    "    all_seqs.sort(key=len)\n",
    "    num_seqs = len(all_seqs)\n",
    "    minlen = len(all_seqs[0])\n",
    "    maxlen = len(all_seqs[-1])\n",
    "    min_seqs = list(filter(lambda x : len(x) == minlen, all_seqs))\n",
    "    max_seqs = list(filter(lambda x : len(x) == maxlen, all_seqs))\n",
    "    print(f\"{num_seqs=}, {minlen=}, {maxlen=}, num_min_seqs={len(min_seqs)}, num_max_seqs={len(max_seqs)}\")\n",
    "    print(min_seqs)\n",
    "    print(max_seqs)\n",
    "    print(all_seqs[0], all_seqs[-1])"
   ]
  },
  {
   "cell_type": "code",
   "execution_count": 137,
   "id": "4246b685",
   "metadata": {},
   "outputs": [
    {
     "name": "stdout",
     "output_type": "stream",
     "text": [
      "num_seqs=324, minlen=7, maxlen=14, num_min_seqs=12, num_max_seqs=144\n",
      "['ROROYRO', 'ROYRORO', 'RYRYORY', 'RYORYRY', 'ORORYOR', 'ORYOROR', 'OYROYOY', 'OYOYROY', 'YROYRYR', 'YRYROYR', 'YORYOYO', 'YOYORYO']\n",
      "['ROROYRYOYORYRO', 'ROROYORYRYOYRO', 'ROROYORYOYRYRO', 'ROROYOYRYORYRO', 'RORYROYRYOYORO', 'RORYROYOYRYORO', 'RORYRYOROYOYRO', 'RORYRYOYROYORO', 'RORYRYOYOROYRO', 'RORYOROYOYRYRO', 'RORYOYRYROYORO', 'RORYOYOROYRYRO', 'ROYRORYRYOYORO', 'ROYRYRORYOYORO', 'ROYRYOYORORYRO', 'ROYRYOYORYRORO', 'ROYORORYRYOYRO', 'ROYORORYOYRYRO', 'ROYORYRYOYRORO', 'ROYORYOYRYRORO', 'ROYOYRORYRYORO', 'ROYOYRYRORYORO', 'ROYOYRYORORYRO', 'ROYOYRYORYRORO', 'RYROROYRYOYORY', 'RYROROYORYOYRY', 'RYROROYOYRYORY', 'RYRORYOROYOYRY', 'RYRORYOYOROYRY', 'RYROYRYOYORORY', 'RYROYORORYOYRY', 'RYROYOYRYORORY', 'RYRYOROYOYRORY', 'RYRYOYROROYORY', 'RYRYOYROYORORY', 'RYRYOYOROYRORY', 'RYORORYROYOYRY', 'RYOROYOYRORYRY', 'RYOROYOYRYRORY', 'RYORYROROYOYRY', 'RYOYROROYORYRY', 'RYOYROYORORYRY', 'RYOYRYROROYORY', 'RYOYRYROYORORY', 'RYOYORORYROYRY', 'RYOYOROYRORYRY', 'RYOYOROYRYRORY', 'RYOYORYROROYRY', 'ORORYROYRYOYOR', 'ORORYROYOYRYOR', 'ORORYRYOYROYOR', 'ORORYOYRYROYOR', 'OROYRORYRYOYOR', 'OROYRYRORYOYOR', 'OROYRYOYORYROR', 'OROYORYRYOYROR', 'OROYORYOYRYROR', 'OROYOYRORYRYOR', 'OROYOYRYRORYOR', 'OROYOYRYORYROR', 'ORYROROYRYOYOR', 'ORYROROYOYRYOR', 'ORYROYRYOYOROR', 'ORYROYOYRYOROR', 'ORYRYOROYOYROR', 'ORYRYOYROROYOR', 'ORYRYOYROYOROR', 'ORYRYOYOROYROR', 'ORYOROYOYRYROR', 'ORYOYRYROROYOR', 'ORYOYRYROYOROR', 'ORYOYOROYRYROR', 'OYROROYORYRYOY', 'OYRORYRYOROYOY', 'OYRORYRYOYOROY', 'OYROYORORYRYOY', 'OYRYROROYORYOY', 'OYRYRORYOROYOY', 'OYRYRORYOYOROY', 'OYRYROYORORYOY', 'OYRYORORYROYOY', 'OYRYORYROROYOY', 'OYRYOYORORYROY', 'OYRYOYORYROROY', 'OYORORYROYRYOY', 'OYORORYRYOYROY', 'OYORORYOYRYROY', 'OYOROYRORYRYOY', 'OYOROYRYRORYOY', 'OYORYROROYRYOY', 'OYORYRYOYROROY', 'OYORYOYRYROROY', 'OYOYRORYRYOROY', 'OYOYRYRORYOROY', 'OYOYRYORORYROY', 'OYOYRYORYROROY', 'YROROYRYOYORYR', 'YROROYORYRYOYR', 'YROROYORYOYRYR', 'YROROYOYRYORYR', 'YRORYRYOROYOYR', 'YRORYRYOYOROYR', 'YRORYOROYOYRYR', 'YRORYOYOROYRYR', 'YROYRYOYORORYR', 'YROYORORYRYOYR', 'YROYORORYOYRYR', 'YROYOYRYORORYR', 'YRYROROYORYOYR', 'YRYRORYOROYOYR', 'YRYRORYOYOROYR', 'YRYROYORORYOYR', 'YRYORORYROYOYR', 'YRYOROYOYRORYR', 'YRYORYROROYOYR', 'YRYOYROROYORYR', 'YRYOYROYORORYR', 'YRYOYORORYROYR', 'YRYOYOROYRORYR', 'YRYOYORYROROYR', 'YORORYROYRYOYO', 'YORORYROYOYRYO', 'YORORYRYOYROYO', 'YORORYOYRYROYO', 'YOROYRORYRYOYO', 'YOROYRYRORYOYO', 'YOROYOYRORYRYO', 'YOROYOYRYRORYO', 'YORYROROYRYOYO', 'YORYROROYOYRYO', 'YORYRYOYROROYO', 'YORYOYRYROROYO', 'YOYROROYORYRYO', 'YOYRORYRYOROYO', 'YOYROYORORYRYO', 'YOYRYROROYORYO', 'YOYRYRORYOROYO', 'YOYRYROYORORYO', 'YOYRYORORYROYO', 'YOYRYORYROROYO', 'YOYORORYROYRYO', 'YOYOROYRORYRYO', 'YOYOROYRYRORYO', 'YOYORYROROYRYO']\n",
      "ROROYRO YOYORYROROYRYO\n"
     ]
    }
   ],
   "source": [
    "all_seqs_3 = find_all_maximal_sequences()\n",
    "summarize_seqs(all_seqs_3)"
   ]
  },
  {
   "cell_type": "markdown",
   "id": "a4329209",
   "metadata": {},
   "source": [
    "---\n",
    "\n",
    "*Seems to work. The max sized hedge has 14 shrubs*\n",
    "\n",
    "---\n",
    "\n",
    "*Let's do something similar for the Extra Credit.*"
   ]
  },
  {
   "cell_type": "code",
   "execution_count": 138,
   "id": "ab86f6dc",
   "metadata": {},
   "outputs": [],
   "source": [
    "def is_valid_sequence_4(seq):\n",
    "    len_seq = len(seq)\n",
    "    # No two adjacent shrubs have the same color.\n",
    "    for i in range(len_seq - 1):\n",
    "        if (seq[i] == seq[i+1]):\n",
    "            return False\n",
    "    # No ordering of four consecutive shrubs appears more than once in the hedge. (Again, a prior ordering can appear in reverse.)\n",
    "    for i in range(len_seq-3):\n",
    "        for j in range(i+1, len_seq-3):\n",
    "            if (seq[i:i+4] == seq[j:j+4]):\n",
    "                return False\n",
    "    # Among any group of four consecutive shrubs, at least three distinct colors are represented.\n",
    "    for i in range(len_seq-3):\n",
    "        subseq = seq[i:i+4]\n",
    "        if len(set(subseq)) < 3:\n",
    "            return False\n",
    "    return True\n",
    "assert( is_valid_sequence_4('') == True )\n",
    "assert( is_valid_sequence_4('R') == True )\n",
    "assert( is_valid_sequence_4('RR') == False )\n",
    "assert( is_valid_sequence_4('ROOR') == False )\n",
    "assert( is_valid_sequence_4('ROYORP') == True )"
   ]
  },
  {
   "cell_type": "code",
   "execution_count": 139,
   "id": "34a4c40c",
   "metadata": {},
   "outputs": [
    {
     "data": {
      "text/plain": [
       "False"
      ]
     },
     "execution_count": 139,
     "metadata": {},
     "output_type": "execute_result"
    }
   ],
   "source": [
    "is_valid_sequence_4('RORO')\n"
   ]
  },
  {
   "cell_type": "code",
   "execution_count": 140,
   "id": "72483f4f",
   "metadata": {},
   "outputs": [],
   "source": [
    "#all_seqs_4 = find_all_maximal_sequences( colors='ROYP', fn_is_valid_seq=is_valid_sequence_4, debug=0)\n",
    "#summarize_seqs(all_seqs_4)"
   ]
  },
  {
   "cell_type": "markdown",
   "id": "b17dcf36",
   "metadata": {},
   "source": [
    "Um, while the case of 3 completed in 0 seconds, the case of 4 has not completed in 4 hours. I think we need to retry with some better code.\n",
    "\n",
    "----\n",
    "\n",
    "Some thoughts. For the case of 3 colors, there are 3 * 2 * 2 = 12 possible sequences of length 3 (filtering out sequences with repeated colors like YRR). So, the max possible hedge length is 3 + 12 - 1 = 14. So, we need to analyze 3^14 sequences in all, which is not that large a number.\n",
    "\n",
    "But for 4 colors, we can have 4 * 3 * 3 * 3 = 108 sequences of 4 colors. So, the max hedge length is 4 + 108 - 1 = 111. So, we need to check 4^111 sequences, which is much larger. So, makes sense that it did not complete quickly. (4^111 / 3^14 =~ 1.4E+60 !!!).\n",
    "\n",
    "UPDATE: I realized that 108 is overcounting, because it allows sequences of the form XYXY that fail the requirement of 3 colors in a sequence of 4. So, we have to reduce by 4 * 3 = 12. So, the correct number of sequences is 108 - 12 = 96. i.e. max hedge length is 4 + 96 - 1 = 99.\n",
    "\n",
    "----\n",
    "\n",
    "To improve the code, my ideas are:\n",
    "- modify the is_valid function to only check things involving the last (newly-added) element, since the rest should already have been checked earlier.\n",
    "- Instead of collecting the sequences as return values, push them into a separate array, so that I get some results even if I stop the code early.\n",
    "- Terminating if I find one maximal sequences."
   ]
  },
  {
   "cell_type": "code",
   "execution_count": 141,
   "id": "cd94a7c7",
   "metadata": {},
   "outputs": [],
   "source": [
    "# This function optimizes things by only checking the rules for sections involving the last (newly-added) element,\n",
    "# since other parts should already have been checked earlier.\n",
    "def is_valid_sequence_4_opt(seq):\n",
    "    len_seq = len(seq)\n",
    "    # No two adjacent shrubs have the same color.\n",
    "    if (len_seq >= 2):\n",
    "        if (seq[-2] == seq[-1]):\n",
    "            return False\n",
    "    # No ordering of four consecutive shrubs appears more than once in the hedge. \n",
    "    # (Again, a prior ordering can appear in reverse.)\n",
    "    if (len_seq >= 5):\n",
    "        for i in range(len_seq - 4):\n",
    "            if (seq[i:i+4] == seq[-4:]):\n",
    "                    return False\n",
    "    # Among any group of four consecutive shrubs, at least three distinct colors are represented.\n",
    "    if (len_seq >= 4):\n",
    "        subseq = seq[-4:]\n",
    "        if len(set(subseq)) < 3:\n",
    "            return False\n",
    "    return True\n",
    "assert( is_valid_sequence_4_opt('') == True )\n",
    "assert( is_valid_sequence_4_opt('R') == True )\n",
    "assert( is_valid_sequence_4_opt('RR') == False )\n",
    "assert( is_valid_sequence_4_opt('ROR') == True )\n",
    "assert( is_valid_sequence_4_opt('ROYORP') == True )"
   ]
  },
  {
   "cell_type": "code",
   "execution_count": 142,
   "id": "86a57742",
   "metadata": {},
   "outputs": [],
   "source": [
    "bucket = []\n",
    "early_stop = False\n",
    "def find_and_save_maximal_sequences(current_seq='', colors='ROYP', fn_is_valid_seq=is_valid_sequence_4_opt, debug=0, maxlen=-1):\n",
    "    global bucket\n",
    "    global early_stop\n",
    "    if (early_stop):\n",
    "        return\n",
    "    if (debug > 0):\n",
    "        print(current_seq)\n",
    "    extension_valid = False\n",
    "    for c in colors:\n",
    "        new_seq = current_seq + c\n",
    "        if (fn_is_valid_seq(new_seq)):\n",
    "            extension_valid = True\n",
    "            find_and_save_maximal_sequences(new_seq, colors, fn_is_valid_seq, debug, maxlen)\n",
    "    if (extension_valid == False):\n",
    "        bucket.append(current_seq)\n",
    "        if (maxlen > 0 and len(current_seq) >= maxlen):\n",
    "            early_stop = True\n",
    "        if (debug > 0):\n",
    "            print(current_seq)\n",
    "    return"
   ]
  },
  {
   "cell_type": "code",
   "execution_count": 143,
   "id": "a57800f5",
   "metadata": {},
   "outputs": [],
   "source": [
    "# Some test code to verify that the new code works properly.\n",
    "bucket = []\n",
    "find_and_save_maximal_sequences(colors='ROY')\n",
    "new_bucket = bucket\n",
    "\n",
    "old_bucket = find_all_maximal_sequences(colors='ROY', fn_is_valid_seq=is_valid_sequence_4_opt)\n",
    "assert(new_bucket == old_bucket)"
   ]
  },
  {
   "cell_type": "code",
   "execution_count": 144,
   "id": "d6b744f5",
   "metadata": {},
   "outputs": [],
   "source": [
    "bucket = []\n",
    "early_stop = False\n",
    "find_and_save_maximal_sequences(colors='ROYP', fn_is_valid_seq=is_valid_sequence_4_opt, maxlen=99)"
   ]
  },
  {
   "cell_type": "code",
   "execution_count": 145,
   "id": "a28105af",
   "metadata": {},
   "outputs": [
    {
     "name": "stdout",
     "output_type": "stream",
     "text": [
      "num_seqs=6, minlen=11, maxlen=99, num_min_seqs=1, num_max_seqs=1\n",
      "['RORYRORPROR']\n",
      "['RORYRORPROYROYOROYPROPRYRPRYORYOYRYOPRPOROPORYPRYPORPOYRPOPYROPYORPYRYPYRPYOYPOYOPOYPYOPYPRPYPOPROR']\n",
      "RORYRORPROR RORYRORPROYROYOROYPROPRYRPRYORYOYRYOPRPOROPORYPRYPORPOYRPOPYROPYORPYRYPYRPYOYPOYOPOYPYOPYPRPYPOPROR\n"
     ]
    }
   ],
   "source": [
    "summarize_seqs(bucket)"
   ]
  },
  {
   "cell_type": "markdown",
   "id": "94ff9eae",
   "metadata": {},
   "source": [
    "----\n",
    "\n",
    "*Okay, so, the answer for the extra credit is 99. And one example sequence of hedge colors is RORYRORPROYROYOROYPROPRYRPRYORYOYRYOPRPOROPORYPRYPORPOYRPOPYROPYORPYRYPYRPYOYPOYOPOYPYOPYPRPYPOPROR*\n",
    "\n",
    "----"
   ]
  }
 ],
 "metadata": {
  "kernelspec": {
   "display_name": "Python 3",
   "language": "python",
   "name": "python3"
  },
  "language_info": {
   "codemirror_mode": {
    "name": "ipython",
    "version": 3
   },
   "file_extension": ".py",
   "mimetype": "text/x-python",
   "name": "python",
   "nbconvert_exporter": "python",
   "pygments_lexer": "ipython3",
   "version": "3.11.9"
  }
 },
 "nbformat": 4,
 "nbformat_minor": 5
}
