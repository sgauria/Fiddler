{
 "cells": [
  {
   "cell_type": "markdown",
   "id": "1871be32",
   "metadata": {},
   "source": [
    "Input\n",
    "----\n",
    "\n",
    "https://thefiddler.substack.com/p/can-you-permeate-the-pyramid\n",
    "\n",
    "Output\n",
    "----"
   ]
  },
  {
   "cell_type": "markdown",
   "id": "9d69ae6b",
   "metadata": {},
   "source": [
    "**Solution to the fiddler**\n",
    "\n",
    "A few observations:\n",
    "- Since we cannot move upwards, each path from the top to the bottom must be a sequence of downward moves interleaved with sideways moves. \n",
    "- At each level of vertices, if you specify the input edge (coming from above) and the output edge (going down), you will also uniquely specify the sideways path that should exist between these two downward moves. Because of the 1 dimensional nature of each level, and the clause that no vertex can be repeated, there cannot be 2 different ways of getting from one point to the other.\n",
    "- So, it suffices to just specify which edges are used for the downward moves. This completely specifies the path from the top to the bottom.\n",
    "- The number of edges between the seven levels are 2,4,6,6,4,2.\n",
    "- So, the total number of paths is their product = ( 2 * 4 * 6 ) ^ 2 = 48 ^ 2 = 2304.\n",
    "\n",
    "\n"
   ]
  },
  {
   "cell_type": "markdown",
   "id": "8ba6acd0",
   "metadata": {},
   "source": [
    "**Solution to the Extra Credit**\n",
    "\n",
    "The extra credit is trickier because multiple paths are possible at each level, and the number of paths depends on the choice of input edge / start vertex and output edge / end vertex. So, we have to really count all the options.\n",
    "\n",
    "Let's write some code for that, starting with generating the graph in question. We'll number vertices as (x, y,z) tuples. So, all the vertices of the same level have the same z value."
   ]
  },
  {
   "cell_type": "code",
   "execution_count": 81,
   "id": "8ec3f3d6",
   "metadata": {},
   "outputs": [
    {
     "name": "stdout",
     "output_type": "stream",
     "text": [
      "5 14 30\n"
     ]
    }
   ],
   "source": [
    "def make_graph(n):\n",
    "    \"\"\"\n",
    "    Given a number n, return a graph with 2n+1 levels\n",
    "    where each vertex is connected to its neighbors.\n",
    "    \"\"\"\n",
    "    # Create an empty graph\n",
    "    graph = {}\n",
    "    \n",
    "    # Iterate through each vertex\n",
    "    for z in range(-n,n+1):\n",
    "        for x in range(0,n-abs(z)+1):\n",
    "            for y in range(0,n-abs(z)-x+1):\n",
    "                # Our vertex is represented by a tuple (x,y,z)\n",
    "                # where x y z  are the coordinates in the triangular grid\n",
    "                t = (x,y,z)\n",
    "                \n",
    "                # Initialize the list of neighbors for vertex t\n",
    "                graph[t] = []\n",
    "\n",
    "                # Iterate through the possible neighbors in the triangular grid\n",
    "                for dz in [-1,0,1]:\n",
    "                    for dx in [-1,0,1]:\n",
    "                        for dy in [-1,0,1]:\n",
    "                            if (dx,dy,dz) != (0,0,0):\n",
    "                                # Calculate the new coordinates\n",
    "                                x2 = x + dx\n",
    "                                y2 = y + dy\n",
    "                                z2 = z + dz\n",
    "                                t2 = (x2,y2,z2)\n",
    "                                                            \n",
    "                                # Check if the new coordinates are valid\n",
    "                                coords_in_range = (0 <= x2 and 0 <= y2 and\n",
    "                                                   -n <= z2 and z2 <= n and \n",
    "                                                    x2 + y2 <= n - abs(z2))\n",
    "\n",
    "                                direct_neighbor = (abs(dx) + abs(dy) + abs(dz)) == 1\n",
    "\n",
    "                                same_level_diagonal_neighbor = (dz == 0 and (dx + dy) == 0)\n",
    "\n",
    "                                positive_diagonal_neighbor = (z >= 0 and z2 >= 0 and dz != 0 and (dx + dy) == -dz)\n",
    "                                negative_diagonal_neighbor = (z <= 0 and z2 <= 0 and dz != 0 and (dx + dy) == dz)\n",
    "                                    \n",
    "                                #print(t, t2)\n",
    "                                    \n",
    "                                # Check if the new coordinates are in range and if they are a valid neighbor\n",
    "                                # A neighbor is valid if it is a direct neighbor or a diagonal neighbor\n",
    "                                if (coords_in_range and (direct_neighbor or\n",
    "                                    same_level_diagonal_neighbor or positive_diagonal_neighbor or\n",
    "                                    negative_diagonal_neighbor)):\n",
    "                                        # Add the neighbor to the list\n",
    "                                        graph[t].append(t2)\n",
    "        \n",
    "    return graph\n",
    "\n",
    "G1 = make_graph(1)\n",
    "G2 = make_graph(2)\n",
    "G3 = make_graph(3)\n",
    "print(len(G1), len(G2), len(G3))\n",
    "\n",
    "G = {1 : G1, 2 : G2, 3 : G3}"
   ]
  },
  {
   "cell_type": "markdown",
   "id": "f26baceb",
   "metadata": {},
   "source": [
    "Graphs seem correct, as far as I can tell. Number of vertices is correct, and the edges also seemed to be correct for G1. \n",
    "\n",
    "Let's proceed with using these."
   ]
  },
  {
   "cell_type": "code",
   "execution_count": 82,
   "id": "975d6c57",
   "metadata": {},
   "outputs": [],
   "source": [
    "\n",
    "def count_paths(graph, start, end, path=[], allow_X_gt_0=True, allow_Y_gt_0=True, allow_Z_up=False, allow_Z_down=True):\n",
    "    \"\"\"\n",
    "    Count the number of paths from start to end in the graph.\n",
    "    \"\"\"\n",
    "    #print(\"start\", start, \"end\", end, \"path\", path)\n",
    "\n",
    "    # If we have reached the end vertex, return 1\n",
    "    if start == end:\n",
    "        return 1\n",
    "    \n",
    "    # If we have visited the vertex before, return 0\n",
    "    if start in path:\n",
    "        return 0\n",
    "    \n",
    "    # Add the current vertex to the path\n",
    "    path = path + [start]\n",
    "    \n",
    "    # Initialize the number of paths to 0\n",
    "    num_paths = 0\n",
    "    \n",
    "    # Iterate through each neighbor of the current vertex\n",
    "    for neighbor in graph[start]:\n",
    "        \n",
    "        # Check if the neighbor is valid based on the constraints\n",
    "        x_ok = (allow_X_gt_0 or neighbor[0] == 0)\n",
    "        y_ok = (allow_Y_gt_0 or neighbor[1] == 0)\n",
    "        z_up_ok = (allow_Z_up or neighbor[2] <= start[2])\n",
    "        z_down_ok = (allow_Z_down or neighbor[2] >= start[2])\n",
    "\n",
    "        #print(\"neighbor\", neighbor, \"x_ok\", x_ok, \"y_ok\", y_ok, \"z_ok\", z_ok)\n",
    "\n",
    "        # If the neighbor is valid, recursively count the paths from the neighbor to the end vertex\n",
    "        if x_ok and y_ok and z_up_ok and z_down_ok:\n",
    "            num_paths += count_paths(graph, neighbor, end, path, allow_X_gt_0, allow_Y_gt_0, allow_Z_up, allow_Z_down)\n",
    "    \n",
    "    return num_paths"
   ]
  },
  {
   "cell_type": "code",
   "execution_count": 83,
   "id": "a8b2dcd6",
   "metadata": {},
   "outputs": [
    {
     "data": {
      "text/plain": [
       "15"
      ]
     },
     "execution_count": 83,
     "metadata": {},
     "output_type": "execute_result"
    }
   ],
   "source": [
    "count_paths(G1, (0,0,1), (0,0,-1))\n"
   ]
  },
  {
   "cell_type": "markdown",
   "id": "552090db",
   "metadata": {},
   "source": [
    "This count is correct. So, looking good.\n",
    "\n",
    "---"
   ]
  },
  {
   "cell_type": "code",
   "execution_count": 84,
   "id": "5ec75310",
   "metadata": {},
   "outputs": [
    {
     "data": {
      "text/plain": [
       "2304"
      ]
     },
     "execution_count": 84,
     "metadata": {},
     "output_type": "execute_result"
    }
   ],
   "source": [
    "count_paths(G3, (0,0,3), (0,0,-3), allow_Y_gt_0=False)"
   ]
  },
  {
   "cell_type": "markdown",
   "id": "0edd0500",
   "metadata": {},
   "source": [
    "This is also correct. So continuing to looking good. (This part is simulating the 2D fiddler case in the 3D code by disallowing the Y dimension).\n",
    "\n",
    "---"
   ]
  },
  {
   "cell_type": "code",
   "execution_count": 85,
   "id": "ed5859a2",
   "metadata": {},
   "outputs": [
    {
     "data": {
      "text/plain": [
       "11475"
      ]
     },
     "execution_count": 85,
     "metadata": {},
     "output_type": "execute_result"
    }
   ],
   "source": [
    "count_paths(G2, (0,0,2), (0,0,-2))"
   ]
  },
  {
   "cell_type": "markdown",
   "id": "d735d4e0",
   "metadata": {},
   "source": [
    "I don't know if this is correct or not, but it seems plausible, since it is greater than 3 x 9 x 9 x 3 = 729.\n",
    "\n",
    "---"
   ]
  },
  {
   "cell_type": "code",
   "execution_count": 86,
   "id": "ddd710f4",
   "metadata": {},
   "outputs": [],
   "source": [
    "#count_paths(G3, (0,0,3), (0,0,-3))\n",
    "# 1093007025\n",
    "# But takes 33 minutes to run"
   ]
  },
  {
   "cell_type": "markdown",
   "id": "7975cee0",
   "metadata": {},
   "source": [
    "1093007025\n",
    "\n",
    "Wow. That took 33 minutes to run, and I was about to cancel the run a few times, but it did finally complete.\n",
    "\n",
    "I am going to take that answer as correct. :)\n",
    "\n",
    "---\n",
    "\n",
    "Note: While I see the sequence from the 2D case (1,4,64,2304) on OEIS ( https://oeis.org/A002454 ), I don't see the sequence from the 3D case (1,15,11475,1093007025)\n",
    "\n",
    "---\n",
    "\n",
    "Actually, I am going to try writing a bit more code to verify the answer."
   ]
  },
  {
   "cell_type": "code",
   "execution_count": 87,
   "id": "4125baf1",
   "metadata": {},
   "outputs": [
    {
     "name": "stdout",
     "output_type": "stream",
     "text": [
      "S2 5/3\n",
      "S1 37/6\n",
      "S0 2603/50\n",
      "Total_Paths= 1298898301.5\n"
     ]
    }
   ],
   "source": [
    "from fractions import Fraction\n",
    "def average_paths_per_level(graph, z):\n",
    "    num_pairs = 0\n",
    "    num_paths = 0\n",
    "    for src in graph:\n",
    "        for dst in graph:\n",
    "            if src[2] == z and dst[2] == z:\n",
    "                num_pairs += 1\n",
    "                num_paths += count_paths(graph, src, dst, allow_Z_up=False, allow_Z_down=False)\n",
    "    #print(\"num_pairs\", num_pairs)\n",
    "    #print(\"num_paths\", num_paths)\n",
    "    return Fraction(num_paths, num_pairs)\n",
    "\n",
    "# average sideways paths_per_level in G3\n",
    "S2 = average_paths_per_level(G3, 2)\n",
    "S1 = average_paths_per_level(G3, 1)\n",
    "S0 = average_paths_per_level(G3, 0)\n",
    "print(\"S2\", S2)\n",
    "print(\"S1\", S1)\n",
    "print(\"S0\", S0)\n",
    "\n",
    "Total_Paths = (3 * S2 * 9 * S1 * 18 * S0 * 18 * S1 * 9 * S2 * 3) * 1.0\n",
    "\n",
    "print(f\"Total_Paths= {Total_Paths}\")"
   ]
  },
  {
   "cell_type": "markdown",
   "id": "39d36607",
   "metadata": {},
   "source": [
    "Well, the answer is the same order of magnitude, but not exactly the same.\n",
    "The fact that this new answer is not an integer probably means that my approximation is not exact.\n",
    "I guess the choices at each level are not independent, so just multiplying the numbers from each level may not be correct.\n",
    "So, the other answer is more likely to be correct than this one.\n",
    "Maybe I'll write something more ???"
   ]
  },
  {
   "cell_type": "code",
   "execution_count": 98,
   "id": "d66f7541",
   "metadata": {},
   "outputs": [
    {
     "name": "stdout",
     "output_type": "stream",
     "text": [
      "15\n",
      "11475\n",
      "1093007025\n"
     ]
    }
   ],
   "source": [
    "from functools import cache\n",
    "@cache\n",
    "def sideways_paths(n, src, dst):\n",
    "    \"\"\"\n",
    "    Count the number of sideways paths from src to dst in the graph.\n",
    "    \"\"\"\n",
    "    graph = G[n]\n",
    "    num_side_paths = count_paths(graph, src, dst, allow_Z_up=False, allow_Z_down=False)\n",
    "    #print(f\"sideways_paths({n}, {src}, {dst}) = {num_side_paths}\")\n",
    "    return num_side_paths\n",
    "\n",
    "@cache\n",
    "def downward_paths(n, src, dst):\n",
    "    \"\"\"\n",
    "    Count the number of downward paths from src to dst in the graph.\n",
    "    \"\"\"\n",
    "    if (src == dst):\n",
    "        return 1\n",
    "    \n",
    "    graph = G[n]\n",
    "    num_paths = 0\n",
    "    for sidestep in graph:\n",
    "        if sidestep[2] == src[2]:\n",
    "            paths_to_sidestep =  sideways_paths(n, src, sidestep)         \n",
    "            #print(f\"paths_to_sidestep({n}, {src}, {sidestep}) = {paths_to_sidestep}\")\n",
    "            for neighbor in graph[sidestep]:\n",
    "                if neighbor[2] < sidestep[2]:\n",
    "                    #print(f\"neighbor {neighbor} sidestep {sidestep}\")\n",
    "                    num_paths += paths_to_sidestep * downward_paths(n, neighbor, dst)\n",
    "    #print(f\"downward_paths({n}, {src}, {dst}) = {num_paths}\")\n",
    "    return num_paths\n",
    "\n",
    "print(downward_paths(1, (0,0,1), (0,0,-1)))\n",
    "print(downward_paths(2, (0,0,2), (0,0,-2)))\n",
    "print(downward_paths(3, (0,0,3), (0,0,-3)))\n"
   ]
  },
  {
   "cell_type": "markdown",
   "id": "6eed2328",
   "metadata": {},
   "source": [
    "Yay!!!!\n",
    "\n",
    "This matches the original results exactly, runs in 0 seconds, and uses caching to speed things up.\n",
    "\n",
    "While this reuses some of the original code, it is sufficiently different too. So, does give some more confidence in the reuslts."
   ]
  }
 ],
 "metadata": {
  "kernelspec": {
   "display_name": "Python 3",
   "language": "python",
   "name": "python3"
  },
  "language_info": {
   "codemirror_mode": {
    "name": "ipython",
    "version": 3
   },
   "file_extension": ".py",
   "mimetype": "text/x-python",
   "name": "python",
   "nbconvert_exporter": "python",
   "pygments_lexer": "ipython3",
   "version": "3.11.9"
  }
 },
 "nbformat": 4,
 "nbformat_minor": 5
}
