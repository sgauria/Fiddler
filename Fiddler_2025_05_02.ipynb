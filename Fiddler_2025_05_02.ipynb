{
 "cells": [
  {
   "cell_type": "markdown",
   "id": "7ed3f5d6",
   "metadata": {},
   "source": [
    "https://thefiddler.substack.com/p/how-many-rides-can-you-reserve\n",
    "\n",
    "----\n",
    "\n",
    "My plan is to calculate the expected number of rides by using some recursive functions.\n",
    "\n",
    "I am going to label the slots 1 to 12 for convenience. 1 is (9am-10am) and 12 is (8pm - 9pm).\n",
    "\n",
    "----"
   ]
  },
  {
   "cell_type": "code",
   "execution_count": 43,
   "id": "4e878acb",
   "metadata": {},
   "outputs": [],
   "source": [
    "from functools import cache\n",
    "\n",
    "@cache\n",
    "def additional_rides(existing_slots=frozenset(), max_slot=12, debug=0, policy='Fiddler'):\n",
    "    \"\"\"\n",
    "    :param existing_slots: frozenset of existing slots\n",
    "    :param max_slot: Maximum slot number\n",
    "    :return: Expected number of rides \n",
    "    \"\"\"\n",
    "    \n",
    "    sum_EV = 0\n",
    "    num_EV = 0\n",
    "    \n",
    "    max_existing_slot = max(existing_slots, default=0)\n",
    "    min_existing_slot = min(existing_slots, default=0)\n",
    "\n",
    "    if (len(existing_slots) < 3):\n",
    "        start_value = 1 \n",
    "    else:\n",
    "        if policy == 'Fiddler':\n",
    "            start_value = max_existing_slot + 1\n",
    "        elif policy == 'ExtraCredit':\n",
    "            start_value = min_existing_slot + 1\n",
    "        else:\n",
    "            raise ValueError(\"Invalid policy. Use 'Fiddler' or 'ExtraCredit'.\")\n",
    "    \n",
    "    for i in range(start_value, max_slot + 1):\n",
    "        if i not in existing_slots:\n",
    "            slots_new = existing_slots | {i}\n",
    "            if (policy == 'ExtraCredit' and len(slots_new) > 3):\n",
    "                slots_new = slots_new - {min_existing_slot}\n",
    "            sum_EV += 1 + additional_rides(slots_new, max_slot, debug, policy)\n",
    "            num_EV += 1\n",
    "        \n",
    "    avg_EV = (sum_EV / num_EV if num_EV > 0 else 0)\n",
    "\n",
    "    if (debug > 0):\n",
    "        print (f\"existing_slots: {existing_slots}, max_slot: {max_slot}, sum_EV: {sum_EV}, num_EV: {num_EV}, avg_EV: {avg_EV}\")\n",
    "    \n",
    "    return avg_EV\n"
   ]
  },
  {
   "cell_type": "markdown",
   "id": "6461606e",
   "metadata": {},
   "source": [
    "Checking simpler cases first."
   ]
  },
  {
   "cell_type": "code",
   "execution_count": 44,
   "id": "eed22952",
   "metadata": {},
   "outputs": [],
   "source": [
    "assert(additional_rides(max_slot=3, debug=0) == 3)"
   ]
  },
  {
   "cell_type": "markdown",
   "id": "04d93c4b",
   "metadata": {},
   "source": [
    "----\n",
    "\n",
    "And now we can solve the Fiddler and the Extra Credit"
   ]
  },
  {
   "cell_type": "code",
   "execution_count": 45,
   "id": "cba2978b",
   "metadata": {},
   "outputs": [
    {
     "data": {
      "text/plain": [
       "4.269877344877345"
      ]
     },
     "execution_count": 45,
     "metadata": {},
     "output_type": "execute_result"
    }
   ],
   "source": [
    "additional_rides(max_slot=12, debug=0, policy='Fiddler')"
   ]
  },
  {
   "cell_type": "code",
   "execution_count": 46,
   "id": "6164f38c",
   "metadata": {},
   "outputs": [
    {
     "data": {
      "text/plain": [
       "6.809632034632034"
      ]
     },
     "execution_count": 46,
     "metadata": {},
     "output_type": "execute_result"
    }
   ],
   "source": [
    "additional_rides(max_slot=12, debug=0, policy='ExtraCredit')"
   ]
  },
  {
   "cell_type": "markdown",
   "id": "e8e8204c",
   "metadata": {},
   "source": [
    "---\n",
    "\n",
    "But to make sure, I am going to also solve the fiddler a different way.\n",
    "\n",
    "Probability of particular max values after the first 3 are chosen can computed directly.\n",
    "\n",
    "And expected additional turns given a max value can be computed iteratively."
   ]
  },
  {
   "cell_type": "code",
   "execution_count": 47,
   "id": "b7a95f77",
   "metadata": {},
   "outputs": [],
   "source": [
    "from fractions import Fraction as F\n",
    "# prob max == k is prob max is not 12, and prob max is not 11 ... down to not k+1, and is k.\n",
    "@cache\n",
    "def p_max(k, max_slot=12):\n",
    "    if k < 3 or max_slot < k:\n",
    "        return 0\n",
    "    p = 1\n",
    "    for i in reversed(range(k+1, max_slot + 1)):\n",
    "        p *= F(i - 3, i)\n",
    "    p *= F(3,k)\n",
    "    return p\n",
    "\n",
    "# Additional rides given that max so far is m is the average of the expected number of rides for each possible next max slot.\n",
    "from statistics import mean\n",
    "@cache\n",
    "def more_rides(m, max_slot=12):\n",
    "    if max_slot <= m:\n",
    "        return F(0)\n",
    "    s = mean( [ (F(1) + more_rides(i,max_slot)) for i in range(m+1, max_slot+1) ] )\n",
    "    return s"
   ]
  },
  {
   "cell_type": "code",
   "execution_count": 48,
   "id": "7355515a",
   "metadata": {},
   "outputs": [
    {
     "name": "stdout",
     "output_type": "stream",
     "text": [
      "pX:  [0, 0, Fraction(1, 220), Fraction(3, 220), Fraction(3, 110), Fraction(1, 22), Fraction(3, 44), Fraction(21, 220), Fraction(7, 55), Fraction(9, 55), Fraction(9, 44), Fraction(1, 4)]\n",
      "mX:  [Fraction(83711, 27720), Fraction(7381, 2520), Fraction(7129, 2520), Fraction(761, 280), Fraction(363, 140), Fraction(49, 20), Fraction(137, 60), Fraction(25, 12), Fraction(11, 6), Fraction(3, 2), Fraction(1, 1), Fraction(0, 1)]\n"
     ]
    },
    {
     "data": {
      "text/plain": [
       "Fraction(1, 1)"
      ]
     },
     "execution_count": 48,
     "metadata": {},
     "output_type": "execute_result"
    }
   ],
   "source": [
    "pmX = [p_max(i) for i in range(1, 13)]\n",
    "mrX = [more_rides(i) for i in range(1, 13)]\n",
    "\n",
    "print(\"pX: \", pmX)\n",
    "print(\"mX: \", mrX)\n",
    "\n",
    "sum(pmX)"
   ]
  },
  {
   "cell_type": "code",
   "execution_count": 49,
   "id": "287be8ae",
   "metadata": {},
   "outputs": [
    {
     "name": "stdout",
     "output_type": "stream",
     "text": [
      "Expected value:  118361/27720    =   4.269877344877345\n"
     ]
    }
   ],
   "source": [
    "expected_value = sum([pmX[i] * (3 + mrX[i]) for i in range(0, 12)])\n",
    "print(\"Expected value: \", expected_value, \"   =  \", expected_value*1.0)"
   ]
  },
  {
   "cell_type": "markdown",
   "id": "6b824401",
   "metadata": {},
   "source": [
    "Okay, it matches !!!\n",
    "I like this way of calculating much better, as it could almost be done by hand.\n",
    "\n",
    "\n",
    "But not trying to solve the extra credit this way. :)\n",
    "\n",
    "Honestly, it's because I am not too certain how to extend this scheme to the extra credit - I think that's because we need to track more information for the extra credit, so it seems harder to factor as cleanly.\n",
    "\n",
    "----"
   ]
  }
 ],
 "metadata": {
  "kernelspec": {
   "display_name": "Python 3",
   "language": "python",
   "name": "python3"
  },
  "language_info": {
   "codemirror_mode": {
    "name": "ipython",
    "version": 3
   },
   "file_extension": ".py",
   "mimetype": "text/x-python",
   "name": "python",
   "nbconvert_exporter": "python",
   "pygments_lexer": "ipython3",
   "version": "3.11.9"
  }
 },
 "nbformat": 4,
 "nbformat_minor": 5
}
