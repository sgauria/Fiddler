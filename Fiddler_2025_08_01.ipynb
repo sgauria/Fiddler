{
 "cells": [
  {
   "cell_type": "markdown",
   "id": "5e4aa14a",
   "metadata": {},
   "source": [
    "[[_TOC_]]\n",
    "\n",
    "Puzzle\n",
    "--\n",
    "\n",
    "https://thefiddler.substack.com/p/can-you-squeeze-the-squares\n",
    "\n",
    "**This Week’s Fiddler**\n",
    "\n",
    "There’s a square board with side length A. Your friend cleverly places a unit square on the board and challenges you to place another unit square on the board—without moving the first one—so that it too is entirely on the board and the squares don’t overlap. (The unit squares can touch each other.)\n",
    "\n",
    "Alas, it’s impossible for you to do so! But there’s some minimum value of A for which you can always place a second unit square on the board, no matter how cleverly your friend places the first one.\n",
    "\n",
    "What is this minimum value of A?\n",
    "\n",
    "**This Week’s Extra Credit**\n",
    "\n",
    "Now there’s another square board with side length B. This time, your friend cleverly places three unit squares (which can touch but not overlap) and issues a similar challenge, asking you to place one more unit square on the board.\n",
    "\n",
    "Once again, it’s impossible for you to do so! But there’s some minimum value of B for which you can always place a fourth unit square on the board, no matter how cleverly your friend places the first three squares.\n",
    "\n",
    "What is this minimum value of B?"
   ]
  },
  {
   "cell_type": "markdown",
   "id": "384714b4",
   "metadata": {},
   "source": [
    "Fiddler Solution\n",
    "---\n",
    "\n",
    "By symmetry, the blocking piece should be placed in the center of the board. If it is placed or tilted to one side, it will allow a piece to be placed on the other side.\n",
    "\n",
    "There are 2 symmetric options. \n",
    "\n",
    "1. *Centered and parallel to the sides of the board*. This yields $A = 3$.\n",
    "\n",
    "2. *Centered and diagonal to the sides of the board* This yields $A = 2 + 1/\\sqrt{2} = 2.707$\n",
    "\n",
    "So $A = 3$.\n",
    "\n",
    "| -- | -- | -- |\n",
    "| -- | -- | -- |\n",
    "| -- | X  | -- |\n",
    "| -- | -- | -- |"
   ]
  },
  {
   "cell_type": "markdown",
   "id": "84d38ffc",
   "metadata": {},
   "source": [
    "Extra Credit Solution\n",
    "---\n",
    "\n",
    "Let's start with some observations.\n",
    "\n",
    "B must be greater than 3 because a board of size 3 is blocked by a single tile (Fiddler case). \n",
    "\n",
    "When we go from 3 to 4, we get another 7 unit squares added to the board. I can see how to use the extra 2 pieces to block 3 more each, but that still leaves space for another unit square. So, B is likely to be less than 4, unless I missed something clever.\n",
    "\n",
    "Considering further simple cases like 5 and 6, it gets increasingly hard to conceive of how 3 tiles could block such larger boards.\n",
    "\n",
    "So, B is quite likely to be between 3 and 4, with a small chance of being between 4 and 5. This helps limit our search space.\n",
    "\n",
    "I also think that the optimal blocking arrangement is likely to have an axis of symmetry, but I am not as certain. Anyway, there are 2 possible axes of symmetry (parallel to the sides, or along a diagonal). So, we could definitely make sure to search such arrangements particularly carefully.\n",
    "\n",
    "---\n",
    "\n",
    "I am going to try to use shapely to actually search configurations to pin down B more closely."
   ]
  },
  {
   "cell_type": "code",
   "execution_count": 2,
   "id": "a7ac2b96",
   "metadata": {},
   "outputs": [
    {
     "name": "stdout",
     "output_type": "stream",
     "text": [
      "True\n",
      "10.25\n",
      "[(0.0, 0.0), (3.5, 0.0), (3.5, 3.5), (0.0, 3.5), (0.0, 0.0)]\n",
      "2\n"
     ]
    },
    {
     "data": {
      "image/svg+xml": [
       "<svg xmlns=\"http://www.w3.org/2000/svg\" xmlns:xlink=\"http://www.w3.org/1999/xlink\" width=\"100.0\" height=\"100.0\" viewBox=\"-0.14 -0.14 3.7800000000000002 3.7800000000000002\" preserveAspectRatio=\"xMinYMin meet\"><g transform=\"matrix(1,0,0,-1,0,3.5)\"><path fill-rule=\"evenodd\" fill=\"#66cc99\" stroke=\"#555555\" stroke-width=\"0.0756\" opacity=\"0.6\" d=\"M 0.0,0.0 L 3.5,0.0 L 3.5,3.5 L 0.0,3.5 L 0.0,0.0 z M 1.75,1.0428932188134525 L 2.457106781186548,1.7500000000000004 L 1.75,2.457106781186548 L 1.0428932188134523,1.7500000000000004 L 1.75,1.0428932188134525 z M 0.6919872981077806,1.9419872981077808 L 1.5580127018922194,2.441987298107781 L 1.0580127018922194,3.3080127018922196 L 0.1919872981077806,2.8080127018922196 L 0.6919872981077806,1.9419872981077808 z\" /></g></svg>"
      ],
      "text/plain": [
       "<POLYGON ((0 0, 3.5 0, 3.5 3.5, 0 3.5, 0 0), (1.75 1.043, 2.457 1.75, 1.75 2...>"
      ]
     },
     "execution_count": 2,
     "metadata": {},
     "output_type": "execute_result"
    }
   ],
   "source": [
    "import shapely\n",
    "\n",
    "def create_square_on_board(board_side, frac_x, frac_y, theta, square_side=1.0):\n",
    "    from shapely.geometry import Polygon\n",
    "    from shapely.affinity import rotate\n",
    "    aligned_sq = Polygon([ \n",
    "            (frac_x * board_side - square_side/2, frac_y * board_side - square_side/2),\n",
    "            (frac_x * board_side + square_side/2, frac_y * board_side - square_side/2),\n",
    "            (frac_x * board_side + square_side/2, frac_y * board_side + square_side/2),\n",
    "            (frac_x * board_side - square_side/2, frac_y * board_side + square_side/2)\n",
    "        ])\n",
    "    rotated_sq = rotate(aligned_sq, theta, origin=(frac_x * board_side, frac_y * board_side))\n",
    "    return rotated_sq\n",
    "\n",
    "def create_board_with_holes(board_side, hole_pattern):\n",
    "    \"\"\"\n",
    "    Create a square board with specified side length and square holes.\n",
    "    parameters:\n",
    "    side (float): Length of the sides of the board.\n",
    "    hole_pattern (list of tuples): Each tuple contains (frac_x, frac_Y, theta(in degrees))\n",
    "    \"\"\"   \n",
    "    from shapely.geometry import Polygon\n",
    "\n",
    "    # Create holes based on the provided pattern\n",
    "    # Each hole is defined by its center (frac_x, frac_y) and rotation angle theta\n",
    "    hole_coords = []\n",
    "    for pattern in hole_pattern:\n",
    "        frac_x, frac_y, theta = pattern        \n",
    "        rotated_hole = create_square_on_board(board_side, frac_x, frac_y, theta)\n",
    "        rotated_coords = list(rotated_hole.exterior.coords)\n",
    "        hole_coords.append(rotated_coords)\n",
    "\n",
    "    # Create the main square board\n",
    "    board_coords = [(0, 0), (board_side, 0), (board_side, board_side), (0, board_side)]\n",
    "    board = Polygon(board_coords, holes=hole_coords)\n",
    "\n",
    "    return board\n",
    "\n",
    "X = create_board_with_holes(3.5, [(0.5, 0.5, 45), (0.25, 0.75, 30)])\n",
    "#print(X)\n",
    "print(X.is_valid)\n",
    "print(X.area)\n",
    "print(X.exterior.coords[:])\n",
    "print(len(X.interiors))\n",
    "X\n"
   ]
  },
  {
   "cell_type": "markdown",
   "id": "836c56b1",
   "metadata": {},
   "source": [
    "UPDATE: I have a guess that B is going to turn out to be $2 + \\sqrt{2} = 3.414$. I'll use that in case I can't finish the code below."
   ]
  },
  {
   "cell_type": "code",
   "execution_count": 3,
   "id": "9da2ace0",
   "metadata": {},
   "outputs": [
    {
     "data": {
      "image/svg+xml": [
       "<svg xmlns=\"http://www.w3.org/2000/svg\" xmlns:xlink=\"http://www.w3.org/1999/xlink\" width=\"100.0\" height=\"100.0\" viewBox=\"-0.1366 -0.1366 3.6882 3.6882\" preserveAspectRatio=\"xMinYMin meet\"><g transform=\"matrix(1,0,0,-1,0,3.415)\"><path fill-rule=\"evenodd\" fill=\"#66cc99\" stroke=\"#555555\" stroke-width=\"0.073764\" opacity=\"0.6\" d=\"M 0.0,0.0 L 3.415,0.0 L 3.415,3.415 L 0.0,3.415 L 0.0,0.0 z M 0.9904364381956647,0.9904364381956647 L 1.9904364381956647,0.9904364381956647 L 1.9904364381956647,1.9904364381956647 L 0.9904364381956647,1.9904364381956647 L 0.9904364381956647,0.9904364381956647 z M 2.7077929115407144,1.0003932188134523 L 3.414899692727262,1.7075000000000002 L 2.7077929115407144,2.4146067811865475 L 2.0006861303541665,1.7074999999999998 L 2.7077929115407144,1.0003932188134523 z M 1.7074999999999996,2.0006861303541665 L 2.4146067811865475,2.7077929115407144 L 1.7074999999999996,3.4148996927272623 L 1.0003932188134521,2.7077929115407144 L 1.7074999999999996,2.0006861303541665 z\" /></g></svg>"
      ],
      "text/plain": [
       "<POLYGON ((0 0, 3.415 0, 3.415 3.415, 0 3.415, 0 0), (0.99 0.99, 1.99 0.99, ...>"
      ]
     },
     "execution_count": 3,
     "metadata": {},
     "output_type": "execute_result"
    }
   ],
   "source": [
    "create_board_with_holes(3.415, [(1.49/3.414, 1.49/3.414, 0), (2.707/3.414, 0.5, 45), (0.5, 2.707/3.414, 45)])"
   ]
  },
  {
   "cell_type": "code",
   "execution_count": 4,
   "id": "c471a92b",
   "metadata": {},
   "outputs": [],
   "source": [
    "#create_board_with_holes(3.415, [(1.49/3.414, 1.49/3.414, 0), (2.707/3.414, 0.5, 45), (0.5, 2.707/3.414, 45), ((1-0.5/3.414), (1-0.5/3.414), 0)])"
   ]
  },
  {
   "cell_type": "markdown",
   "id": "2a13d2a8",
   "metadata": {},
   "source": [
    "Here there's just enough room to insert a square on 4 corners, but there's no room in the center, so maybe this is not optimal.\n",
    "\n",
    "But even if I move the lower left square, expanding the board is not possible because the 2 diagonal squares can't really block any more. There are 3 corners still open. So, maybe this is optimal after all??\n",
    "\n",
    "Or maybe you can shift the top one left, the right one upward, and then slant the other one to block out other stuff and make the board slightly larger ???"
   ]
  },
  {
   "cell_type": "code",
   "execution_count": 5,
   "id": "5d5a1fa9",
   "metadata": {},
   "outputs": [],
   "source": [
    "def square_fits_on_board(board, frac_x, frac_y, theta, square_side=1.0):\n",
    "    \"\"\"\n",
    "    Check if a square can be added to the board at the specified position and rotation.\n",
    "    \"\"\"\n",
    "    sq = create_square_on_board(board.bounds[2] - board.bounds[0], frac_x, frac_y, theta, square_side)\n",
    "    return board.contains(sq)\n",
    "\n",
    "def board_has_space_for_square(board, num_tries=1000, square_side=1.0):\n",
    "    \"\"\"\n",
    "    Check if a square can be added to the board without overlapping existing holes.\n",
    "    \"\"\"\n",
    "    import random\n",
    "    for i in range(num_tries):\n",
    "        frac_x = random.uniform(0.12, 0.88)\n",
    "        frac_y = random.uniform(0.12, 0.88)\n",
    "        theta = random.uniform(0, 90)\n",
    "        if square_fits_on_board(board, frac_x, frac_y, theta, square_side):\n",
    "            return True\n",
    "    return False # No space found after num_tries attempts\n",
    "\n",
    "def find_minimum_board_size(hole_pattern, square_side=1.0):\n",
    "    \"\"\"\n",
    "    Find the minimum board size that can accommodate the holes defined by hole_pattern.\n",
    "    \"\"\"\n",
    "    for i in range(1, 200):\n",
    "        board_side = 3.3 + i * 0.01\n",
    "        board = create_board_with_holes(board_side, hole_pattern)\n",
    "        if not board.is_valid:\n",
    "            return None, None  \n",
    "            # Invalid board configuration - return right away\n",
    "        if board_has_space_for_square(board, square_side=square_side):\n",
    "            return board_side, board\n",
    "    return None, None  # No suitable board size found\n",
    "\n",
    "def find_good_hole_patterns(num_patterns=1000, square_side=1.0):\n",
    "    import random\n",
    "    good_results = []\n",
    "    num_invalid_results = 0\n",
    "    for i in range(num_patterns):\n",
    "        hole_pattern = [(random.uniform(0.12, 0.88), random.uniform(0.12, .88), random.uniform(0, 90)) for _ in range(3)]\n",
    "        board_side, board = find_minimum_board_size(hole_pattern, square_side=square_side) \n",
    "        if board_side is not None:\n",
    "            good_results.append((board_side, board, hole_pattern))\n",
    "        else:\n",
    "            num_invalid_results += 1\n",
    "    print(f\"Found {len(good_results)} good hole patterns out of {num_patterns} attempts.\")\n",
    "    print(f\"Number of invalid results: {num_invalid_results}\")\n",
    "    good_results.sort(key=lambda x: x[0], reverse=True)  # Sort by board size\n",
    "    for size, board, pattern in good_results[:20]:  # Display top 20 results\n",
    "        print(f\"Board Size: {size:.4f}, Area: {board.area:.4f}\")\n",
    "    return good_results[0][1] if good_results else None"
   ]
  },
  {
   "cell_type": "code",
   "execution_count": 6,
   "id": "36b88454",
   "metadata": {},
   "outputs": [
    {
     "name": "stdout",
     "output_type": "stream",
     "text": [
      "Found 14 good hole patterns out of 1000 attempts.\n",
      "Number of invalid results: 986\n",
      "Board Size: 3.3500, Area: 8.2225\n",
      "Board Size: 3.3100, Area: 7.9561\n",
      "Board Size: 3.3100, Area: 7.9561\n",
      "Board Size: 3.3100, Area: 7.9561\n",
      "Board Size: 3.3100, Area: 7.9561\n",
      "Board Size: 3.3100, Area: 7.9561\n",
      "Board Size: 3.3100, Area: 7.9561\n",
      "Board Size: 3.3100, Area: 7.9561\n",
      "Board Size: 3.3100, Area: 7.9561\n",
      "Board Size: 3.3100, Area: 7.9561\n",
      "Board Size: 3.3100, Area: 7.9561\n",
      "Board Size: 3.3100, Area: 7.9561\n",
      "Board Size: 3.3100, Area: 7.9561\n",
      "Board Size: 3.3100, Area: 7.9561\n"
     ]
    },
    {
     "data": {
      "image/svg+xml": [
       "<svg xmlns=\"http://www.w3.org/2000/svg\" xmlns:xlink=\"http://www.w3.org/1999/xlink\" width=\"100.0\" height=\"100.0\" viewBox=\"-0.13399999999999998 -0.13399999999999998 3.6179999999999994 3.6179999999999994\" preserveAspectRatio=\"xMinYMin meet\"><g transform=\"matrix(1,0,0,-1,0,3.3499999999999996)\"><path fill-rule=\"evenodd\" fill=\"#66cc99\" stroke=\"#555555\" stroke-width=\"0.07236\" opacity=\"0.6\" d=\"M 0.0,0.0 L 3.3499999999999996,0.0 L 3.3499999999999996,3.3499999999999996 L 0.0,3.3499999999999996 L 0.0,0.0 z M 2.364731102861122,1.3969928932933393 L 3.029364549813752,2.144162473236116 L 2.282194969870975,2.808795920188746 L 1.6175615229183453,2.061626340245969 L 2.364731102861122,1.3969928932933393 z M 1.4289035915549373,1.867502765812724 L 1.495842603548914,2.865259834779549 L 0.49808553458208893,2.9321988467735256 L 0.43114652258811237,1.9344417778067005 L 1.4289035915549373,1.867502765812724 z M 1.6612597840476213,0.21404724411165876 L 2.309270963941965,0.9756780672352636 L 1.5476401408183604,1.6236892471296076 L 0.8996289609240166,0.862058424006003 L 1.6612597840476213,0.21404724411165876 z\" /></g></svg>"
      ],
      "text/plain": [
       "<POLYGON ((0 0, 3.35 0, 3.35 3.35, 0 3.35, 0 0), (2.365 1.397, 3.029 2.144, ...>"
      ]
     },
     "execution_count": 6,
     "metadata": {},
     "output_type": "execute_result"
    }
   ],
   "source": [
    "find_good_hole_patterns(1000, square_side=1.0)"
   ]
  },
  {
   "cell_type": "markdown",
   "id": "7f194f46",
   "metadata": {},
   "source": [
    "These results are not convincing at all. Need better code.\n",
    "\n",
    "Conclusion\n",
    "---\n",
    "\n",
    "Didn't really have enough time and ideas to make the coding approach work.\n",
    "\n",
    "But I do think the answer is 3.414, with one arrangement being something like this."
   ]
  },
  {
   "cell_type": "code",
   "execution_count": 23,
   "id": "7b91f9fe",
   "metadata": {},
   "outputs": [
    {
     "data": {
      "image/svg+xml": [
       "<svg xmlns=\"http://www.w3.org/2000/svg\" xmlns:xlink=\"http://www.w3.org/1999/xlink\" width=\"100.0\" height=\"100.0\" viewBox=\"-0.13656000000000001 -0.13656000000000001 3.68712 3.68712\" preserveAspectRatio=\"xMinYMin meet\"><g transform=\"matrix(1,0,0,-1,0,3.4139999999999997)\"><path fill-rule=\"evenodd\" fill=\"#66cc99\" stroke=\"#555555\" stroke-width=\"0.0737424\" opacity=\"0.6\" d=\"M 0.0,0.0 L 3.414,0.0 L 3.414,3.414 L 0.0,3.414 L 0.0,0.0 z M 0.99,0.99 L 1.99,0.99 L 1.99,1.99 L 0.99,1.99 L 0.99,0.99 z M 2.7,0.9998932188134528 L 3.407106781186548,1.7070000000000003 L 2.7,2.4141067811865478 L 1.9928932188134527,1.7069999999999999 L 2.7,0.9998932188134528 z M 1.707,1.992893218813453 L 2.4141067811865478,2.7 L 1.7069999999999999,3.407106781186548 L 0.9998932188134524,2.7 L 1.707,1.992893218813453 z\" /></g></svg>"
      ],
      "text/plain": [
       "<POLYGON ((0 0, 3.414 0, 3.414 3.414, 0 3.414, 0 0), (0.99 0.99, 1.99 0.99, ...>"
      ]
     },
     "execution_count": 23,
     "metadata": {},
     "output_type": "execute_result"
    }
   ],
   "source": [
    "create_board_with_holes(3.414, [\n",
    "    (1.49/3.414, 1.49/3.414, 0), \n",
    "    (2.7/3.414, 0.5, 45), \n",
    "    (0.5, 2.7/3.414, 45), \n",
    "    ])"
   ]
  },
  {
   "cell_type": "markdown",
   "id": "3f2e3349",
   "metadata": {},
   "source": [
    "And here it is with some corner squares added to show where unit squares could be squeezed in as the board grows larger."
   ]
  },
  {
   "cell_type": "code",
   "execution_count": 24,
   "id": "bf1e601b",
   "metadata": {},
   "outputs": [
    {
     "data": {
      "image/svg+xml": [
       "<svg xmlns=\"http://www.w3.org/2000/svg\" xmlns:xlink=\"http://www.w3.org/1999/xlink\" width=\"100.0\" height=\"100.0\" viewBox=\"-0.138 -0.138 3.726 3.726\" preserveAspectRatio=\"xMinYMin meet\"><g transform=\"matrix(1,0,0,-1,0,3.45)\"><path fill-rule=\"evenodd\" fill=\"#66cc99\" stroke=\"#555555\" stroke-width=\"0.07452\" opacity=\"0.6\" d=\"M 0.0,0.0 L 3.45,0.0 L 3.45,3.45 L 0.0,3.45 L 0.0,0.0 z M 1.0057117750439366,1.0057117750439366 L 2.0057117750439364,1.0057117750439366 L 2.0057117750439364,2.0057117750439364 L 1.0057117750439366,2.0057117750439364 L 1.0057117750439366,1.0057117750439366 z M 2.728471001757469,1.0178932188134524 L 3.4355777829440166,1.7249999999999999 L 2.7284710017574687,2.4321067811865476 L 2.0213642205709217,1.7249999999999999 L 2.728471001757469,1.0178932188134524 z M 1.725,2.0213642205709217 L 2.4321067811865476,2.7284710017574696 L 1.7250000000000003,3.4355777829440175 L 1.0178932188134526,2.7284710017574696 L 1.725,2.0213642205709217 z M 2.444727592267135,2.444727592267135 L 3.444727592267135,2.444727592267135 L 3.444727592267135,3.444727592267135 L 2.444727592267135,3.444727592267135 L 2.444727592267135,2.444727592267135 z M 0.005272407732864748,2.444727592267135 L 1.0052724077328647,2.444727592267135 L 1.0052724077328647,3.444727592267135 L 0.005272407732864748,3.444727592267135 L 0.005272407732864748,2.444727592267135 z M 2.444727592267135,0.005272407732864748 L 3.444727592267135,0.005272407732864748 L 3.444727592267135,1.0052724077328647 L 2.444727592267135,1.0052724077328647 L 2.444727592267135,0.005272407732864748 z M 0.005272407732864748,0.005272407732864748 L 1.0052724077328647,0.005272407732864748 L 1.0052724077328647,1.0052724077328647 L 0.005272407732864748,1.0052724077328647 L 0.005272407732864748,0.005272407732864748 z\" /></g></svg>"
      ],
      "text/plain": [
       "<POLYGON ((0 0, 3.45 0, 3.45 3.45, 0 3.45, 0 0), (1.006 1.006, 2.006 1.006, ...>"
      ]
     },
     "execution_count": 24,
     "metadata": {},
     "output_type": "execute_result"
    }
   ],
   "source": [
    "create_board_with_holes(3.45, [\n",
    "    (1.49/3.414, 1.49/3.414, 0), \n",
    "    (2.7/3.414, 0.5, 45), \n",
    "    (0.5, 2.7/3.414, 45), \n",
    "    (1-0.5/3.414, 1-0.5/3.414, 0), \n",
    "    (0.5/3.414, 1-0.5/3.414, 0),\n",
    "    (1-0.5/3.414, 0.5/3.414, 0),\n",
    "    (0.5/3.414, 0.5/3.414, 0),\n",
    "    ])"
   ]
  },
  {
   "cell_type": "markdown",
   "id": "90901fa5",
   "metadata": {},
   "source": [
    "Solution\n",
    "----\n",
    "https://thefiddler.substack.com/p/can-you-canoodle-at-the-coldplay"
   ]
  }
 ],
 "metadata": {
  "kernelspec": {
   "display_name": "Python 3",
   "language": "python",
   "name": "python3"
  },
  "language_info": {
   "codemirror_mode": {
    "name": "ipython",
    "version": 3
   },
   "file_extension": ".py",
   "mimetype": "text/x-python",
   "name": "python",
   "nbconvert_exporter": "python",
   "pygments_lexer": "ipython3",
   "version": "3.11.9"
  }
 },
 "nbformat": 4,
 "nbformat_minor": 5
}
