{
 "cells": [
  {
   "cell_type": "markdown",
   "id": "5e4aa14a",
   "metadata": {},
   "source": [
    "Puzzle\n",
    "--\n",
    "\n",
    "https://thefiddler.substack.com/p/can-you-squeeze-the-squares\n",
    "\n",
    "**This Week’s Fiddler**\n",
    "\n",
    "There’s a square board with side length A. Your friend cleverly places a unit square on the board and challenges you to place another unit square on the board—without moving the first one—so that it too is entirely on the board and the squares don’t overlap. (The unit squares can touch each other.)\n",
    "\n",
    "Alas, it’s impossible for you to do so! But there’s some minimum value of A for which you can always place a second unit square on the board, no matter how cleverly your friend places the first one.\n",
    "\n",
    "What is this minimum value of A?\n",
    "\n",
    "**This Week’s Extra Credit**\n",
    "\n",
    "Now there’s another square board with side length B. This time, your friend cleverly places three unit squares (which can touch but not overlap) and issues a similar challenge, asking you to place one more unit square on the board.\n",
    "\n",
    "Once again, it’s impossible for you to do so! But there’s some minimum value of B for which you can always place a fourth unit square on the board, no matter how cleverly your friend places the first three squares.\n",
    "\n",
    "What is this minimum value of B?"
   ]
  },
  {
   "cell_type": "markdown",
   "id": "384714b4",
   "metadata": {},
   "source": [
    "Fiddler Solution\n",
    "---\n",
    "\n",
    "By symmetry, the blocking piece should be placed in the center of the board. If it is placed or tilted to one side, it will allow a piece to be placed on the other side.\n",
    "\n",
    "There are 2 symmetric options. \n",
    "\n",
    "1. *Centered and parallel to the sides of the board*. This yields $A = 3$.\n",
    "\n",
    "2. *Centered and diagonal to the sides of the board* This yields $A = 2 + 1/\\sqrt{2} = 2.707$\n",
    "\n",
    "So $A = 3$.\n",
    "\n",
    "| -- | -- | -- |\n",
    "| -- | -- | -- |\n",
    "| -- | X  | -- |\n",
    "| -- | -- | -- |"
   ]
  },
  {
   "cell_type": "markdown",
   "id": "84d38ffc",
   "metadata": {},
   "source": [
    "Extra Credit Solution\n",
    "---\n",
    "\n",
    "Let's start with some observations.\n",
    "\n",
    "B must be greater than 3 because a board of size 3 is blocked by a single tile (Fiddler case). \n",
    "\n",
    "When we go from 3 to 4, we get another 7 unit squares added to the board. I can see how to use the extra 2 pieces to block 3 more each, but that still leaves space for another unit square. So, B is likely to be less than 4, unless I missed something clever.\n",
    "\n",
    "Considering further simple cases like 5 and 6, it gets increasingly hard to conceive of how 3 tiles could block such larger boards.\n",
    "\n",
    "So, B is quite likely to be between 3 and 4, with a small chance of being between 4 and 5. This helps limit our search space.\n",
    "\n",
    "I also think that the optimal blocking arrangement is likely to have an axis of symmetry, but I am not as certain. Anyway, there are 2 possible axes of symmetry (parallel to the sides, or along a diagonal). So, we could definitely make sure to search such arrangements particularly carefully.\n",
    "\n",
    "---\n",
    "\n",
    "I am going to try to use shapely to actually search configurations to pin down B more closely."
   ]
  },
  {
   "cell_type": "code",
   "execution_count": 16,
   "id": "a7ac2b96",
   "metadata": {},
   "outputs": [
    {
     "name": "stdout",
     "output_type": "stream",
     "text": [
      "True\n",
      "10.25\n",
      "[(0.0, 0.0), (3.5, 0.0), (3.5, 3.5), (0.0, 3.5), (0.0, 0.0)]\n",
      "2\n"
     ]
    },
    {
     "data": {
      "image/svg+xml": [
       "<svg xmlns=\"http://www.w3.org/2000/svg\" xmlns:xlink=\"http://www.w3.org/1999/xlink\" width=\"100.0\" height=\"100.0\" viewBox=\"-0.14 -0.14 3.7800000000000002 3.7800000000000002\" preserveAspectRatio=\"xMinYMin meet\"><g transform=\"matrix(1,0,0,-1,0,3.5)\"><path fill-rule=\"evenodd\" fill=\"#66cc99\" stroke=\"#555555\" stroke-width=\"0.0756\" opacity=\"0.6\" d=\"M 0.0,0.0 L 3.5,0.0 L 3.5,3.5 L 0.0,3.5 L 0.0,0.0 z M 1.75,1.0428932188134525 L 2.457106781186548,1.7500000000000004 L 1.75,2.457106781186548 L 1.0428932188134523,1.7500000000000004 L 1.75,1.0428932188134525 z M 0.6919872981077806,1.9419872981077808 L 1.5580127018922194,2.441987298107781 L 1.0580127018922194,3.3080127018922196 L 0.1919872981077806,2.8080127018922196 L 0.6919872981077806,1.9419872981077808 z\" /></g></svg>"
      ],
      "text/plain": [
       "<POLYGON ((0 0, 3.5 0, 3.5 3.5, 0 3.5, 0 0), (1.75 1.043, 2.457 1.75, 1.75 2...>"
      ]
     },
     "execution_count": 16,
     "metadata": {},
     "output_type": "execute_result"
    }
   ],
   "source": [
    "import shapely\n",
    "\n",
    "def create_square_on_board(board_side, frac_x, frac_y, theta, square_side=1.0):\n",
    "    from shapely.geometry import Polygon\n",
    "    from shapely.affinity import rotate\n",
    "    aligned_sq = Polygon([ \n",
    "            (frac_x * board_side - square_side/2, frac_y * board_side - square_side/2),\n",
    "            (frac_x * board_side + square_side/2, frac_y * board_side - square_side/2),\n",
    "            (frac_x * board_side + square_side/2, frac_y * board_side + square_side/2),\n",
    "            (frac_x * board_side - square_side/2, frac_y * board_side + square_side/2)\n",
    "        ])\n",
    "    rotated_sq = rotate(aligned_sq, theta, origin=(frac_x * board_side, frac_y * board_side))\n",
    "    return rotated_sq\n",
    "\n",
    "def create_board_with_holes(board_side, hole_pattern):\n",
    "    \"\"\"\n",
    "    Create a square board with specified side length and square holes.\n",
    "    parameters:\n",
    "    side (float): Length of the sides of the board.\n",
    "    hole_pattern (list of tuples): Each tuple contains (frac_x, frac_Y, theta(in degrees))\n",
    "    \"\"\"   \n",
    "    from shapely.geometry import Polygon\n",
    "\n",
    "    # Create holes based on the provided pattern\n",
    "    # Each hole is defined by its center (frac_x, frac_y) and rotation angle theta\n",
    "    hole_coords = []\n",
    "    for pattern in hole_pattern:\n",
    "        frac_x, frac_y, theta = pattern        \n",
    "        rotated_hole = create_square_on_board(board_side, frac_x, frac_y, theta)\n",
    "        rotated_coords = list(rotated_hole.exterior.coords)\n",
    "        hole_coords.append(rotated_coords)\n",
    "\n",
    "    # Create the main square board\n",
    "    board_coords = [(0, 0), (board_side, 0), (board_side, board_side), (0, board_side)]\n",
    "    board = Polygon(board_coords, holes=hole_coords)\n",
    "\n",
    "    return board\n",
    "\n",
    "X = create_board_with_holes(3.5, [(0.5, 0.5, 45), (0.25, 0.75, 30)])\n",
    "#print(X)\n",
    "print(X.is_valid)\n",
    "print(X.area)\n",
    "print(X.exterior.coords[:])\n",
    "print(len(X.interiors))\n",
    "X\n"
   ]
  },
  {
   "cell_type": "markdown",
   "id": "836c56b1",
   "metadata": {},
   "source": [
    "UPDATE: I have a guess that B is going to turn out to be $2 + \\sqrt{2} = 3.414$. I'll use that in case I can't finish the code below."
   ]
  },
  {
   "cell_type": "code",
   "execution_count": 28,
   "id": "9da2ace0",
   "metadata": {},
   "outputs": [
    {
     "data": {
      "image/svg+xml": [
       "<svg xmlns=\"http://www.w3.org/2000/svg\" xmlns:xlink=\"http://www.w3.org/1999/xlink\" width=\"100.0\" height=\"100.0\" viewBox=\"-0.1366 -0.1366 3.6882 3.6882\" preserveAspectRatio=\"xMinYMin meet\"><g transform=\"matrix(1,0,0,-1,0,3.415)\"><path fill-rule=\"evenodd\" fill=\"#66cc99\" stroke=\"#555555\" stroke-width=\"0.073764\" opacity=\"0.6\" d=\"M 0.0,0.0 L 3.415,0.0 L 3.415,3.415 L 0.0,3.415 L 0.0,0.0 z M 0.9904364381956647,0.9904364381956647 L 1.9904364381956647,0.9904364381956647 L 1.9904364381956647,1.9904364381956647 L 0.9904364381956647,1.9904364381956647 L 0.9904364381956647,0.9904364381956647 z M 2.7077929115407144,1.0003932188134523 L 3.414899692727262,1.7075000000000002 L 2.7077929115407144,2.4146067811865475 L 2.0006861303541665,1.7074999999999998 L 2.7077929115407144,1.0003932188134523 z M 1.7074999999999996,2.0006861303541665 L 2.4146067811865475,2.7077929115407144 L 1.7074999999999996,3.4148996927272623 L 1.0003932188134521,2.7077929115407144 L 1.7074999999999996,2.0006861303541665 z\" /></g></svg>"
      ],
      "text/plain": [
       "<POLYGON ((0 0, 3.415 0, 3.415 3.415, 0 3.415, 0 0), (0.99 0.99, 1.99 0.99, ...>"
      ]
     },
     "execution_count": 28,
     "metadata": {},
     "output_type": "execute_result"
    }
   ],
   "source": [
    "create_board_with_holes(3.415, [(1.49/3.414, 1.49/3.414, 0), (2.707/3.414, 0.5, 45), (0.5, 2.707/3.414, 45)])"
   ]
  },
  {
   "cell_type": "code",
   "execution_count": 30,
   "id": "c471a92b",
   "metadata": {},
   "outputs": [],
   "source": [
    "#create_board_with_holes(3.415, [(1.49/3.414, 1.49/3.414, 0), (2.707/3.414, 0.5, 45), (0.5, 2.707/3.414, 45), ((1-0.5/3.414), (1-0.5/3.414), 0)])"
   ]
  },
  {
   "cell_type": "markdown",
   "id": "2a13d2a8",
   "metadata": {},
   "source": [
    "Here there's just enough room to insert a square on 4 corners, but there's no room in the center, so maybe this is not optimal.\n",
    "\n",
    "But even if I move the lower left square, expanding the board is not possible because the 2 diagonal squares can't really block any more. There are 3 corners still open. So, maybe this is optimal after all??\n",
    "\n",
    "Or maybe you can shift the top one left, the right one upward, and then slant the other one to block out other stuff and make the board slightly larger ???"
   ]
  },
  {
   "cell_type": "code",
   "execution_count": 50,
   "id": "5d5a1fa9",
   "metadata": {},
   "outputs": [],
   "source": [
    "def square_fits_on_board(board, frac_x, frac_y, theta, square_side=1.0):\n",
    "    \"\"\"\n",
    "    Check if a square can be added to the board at the specified position and rotation.\n",
    "    \"\"\"\n",
    "    sq = create_square_on_board(board.bounds[2] - board.bounds[0], frac_x, frac_y, theta, square_side)\n",
    "    return board.contains(sq)\n",
    "\n",
    "def board_has_space_for_square(board, num_tries=1000, square_side=1.0):\n",
    "    \"\"\"\n",
    "    Check if a square can be added to the board without overlapping existing holes.\n",
    "    \"\"\"\n",
    "    import random\n",
    "    for i in range(num_tries):\n",
    "        frac_x = random.uniform(0.12, 0.88)\n",
    "        frac_y = random.uniform(0.12, 0.88)\n",
    "        theta = random.uniform(0, 90)\n",
    "        if square_fits_on_board(board, frac_x, frac_y, theta, square_side):\n",
    "            return True\n",
    "    return False # No space found after num_tries attempts\n",
    "\n",
    "def find_minimum_board_size(hole_pattern, square_side=1.0):\n",
    "    \"\"\"\n",
    "    Find the minimum board size that can accommodate the holes defined by hole_pattern.\n",
    "    \"\"\"\n",
    "    for i in range(1, 200):\n",
    "        board_side = 3.3 + i * 0.01\n",
    "        board = create_board_with_holes(board_side, hole_pattern)\n",
    "        if not board.is_valid:\n",
    "            return None, None  \n",
    "            # Invalid board configuration - return right away\n",
    "        if board_has_space_for_square(board, square_side=square_side):\n",
    "            return board_side, board\n",
    "    return None, None  # No suitable board size found\n",
    "\n",
    "def find_good_hole_patterns(num_patterns=1000, square_side=1.0):\n",
    "    import random\n",
    "    good_results = []\n",
    "    num_invalid_results = 0\n",
    "    for i in range(num_patterns):\n",
    "        hole_pattern = [(random.uniform(0.12, 0.88), random.uniform(0.12, .88), random.uniform(0, 90)) for _ in range(3)]\n",
    "        board_side, board = find_minimum_board_size(hole_pattern, square_side=square_side) \n",
    "        if board_side is not None:\n",
    "            good_results.append((board_side, board, hole_pattern))\n",
    "        else:\n",
    "            num_invalid_results += 1\n",
    "    print(f\"Found {len(good_results)} good hole patterns out of {num_patterns} attempts.\")\n",
    "    print(f\"Number of invalid results: {num_invalid_results}\")\n",
    "    good_results.sort(key=lambda x: x[0], reverse=True)  # Sort by board size\n",
    "    for size, board, pattern in good_results[:20]:  # Display top 20 results\n",
    "        print(f\"Board Size: {size:.4f}, Area: {board.area:.4f}\")\n",
    "    return good_results[0][1] if good_results else None"
   ]
  },
  {
   "cell_type": "code",
   "execution_count": 51,
   "id": "36b88454",
   "metadata": {},
   "outputs": [
    {
     "name": "stdout",
     "output_type": "stream",
     "text": [
      "Found 19 good hole patterns out of 1000 attempts.\n",
      "Number of invalid results: 981\n",
      "Board Size: 3.4300, Area: 8.7649\n",
      "Board Size: 3.3100, Area: 7.9561\n",
      "Board Size: 3.3100, Area: 7.9561\n",
      "Board Size: 3.3100, Area: 7.9561\n",
      "Board Size: 3.3100, Area: 7.9561\n",
      "Board Size: 3.3100, Area: 7.9561\n",
      "Board Size: 3.3100, Area: 7.9561\n",
      "Board Size: 3.3100, Area: 7.9561\n",
      "Board Size: 3.3100, Area: 7.9561\n",
      "Board Size: 3.3100, Area: 7.9561\n",
      "Board Size: 3.3100, Area: 7.9561\n",
      "Board Size: 3.3100, Area: 7.9561\n",
      "Board Size: 3.3100, Area: 7.9561\n",
      "Board Size: 3.3100, Area: 7.9561\n",
      "Board Size: 3.3100, Area: 7.9561\n",
      "Board Size: 3.3100, Area: 7.9561\n",
      "Board Size: 3.3100, Area: 7.9561\n",
      "Board Size: 3.3100, Area: 7.9561\n",
      "Board Size: 3.3100, Area: 7.9561\n"
     ]
    },
    {
     "data": {
      "image/svg+xml": [
       "<svg xmlns=\"http://www.w3.org/2000/svg\" xmlns:xlink=\"http://www.w3.org/1999/xlink\" width=\"100.0\" height=\"100.0\" viewBox=\"-0.1372 -0.1372 3.7043999999999997 3.7043999999999997\" preserveAspectRatio=\"xMinYMin meet\"><g transform=\"matrix(1,0,0,-1,0,3.4299999999999997)\"><path fill-rule=\"evenodd\" fill=\"#66cc99\" stroke=\"#555555\" stroke-width=\"0.07408799999999999\" opacity=\"0.6\" d=\"M 0.0,0.0 L 3.4299999999999997,0.0 L 3.4299999999999997,3.4299999999999997 L 0.0,3.4299999999999997 L 0.0,0.0 z M 2.50311219476884,0.407120689349977 L 3.3278851607164803,0.9725847064562223 L 2.7624211436102346,1.7973576724038627 L 1.9376481776625947,1.231893655297617 L 2.50311219476884,0.407120689349977 z M 1.7240015980395516,1.833736293050886 L 2.6997709223247908,2.0525380887106257 L 2.4809691266650513,3.028307412995866 L 1.5051998023798119,2.809505617336126 L 1.7240015980395516,1.833736293050886 z M 1.0833529368321133,1.0098506702131775 L 1.5377102270196676,1.900670210217449 L 0.6468906870153961,2.355027500405004 L 0.19253339682784154,1.464207960400732 L 1.0833529368321133,1.0098506702131775 z\" /></g></svg>"
      ],
      "text/plain": [
       "<POLYGON ((0 0, 3.43 0, 3.43 3.43, 0 3.43, 0 0), (2.503 0.407, 3.328 0.973, ...>"
      ]
     },
     "execution_count": 51,
     "metadata": {},
     "output_type": "execute_result"
    }
   ],
   "source": [
    "find_good_hole_patterns(1000, square_side=1.0)"
   ]
  },
  {
   "cell_type": "markdown",
   "id": "7f194f46",
   "metadata": {},
   "source": [
    "These results are not convincing at all. Need better code."
   ]
  }
 ],
 "metadata": {
  "kernelspec": {
   "display_name": "Python 3",
   "language": "python",
   "name": "python3"
  },
  "language_info": {
   "codemirror_mode": {
    "name": "ipython",
    "version": 3
   },
   "file_extension": ".py",
   "mimetype": "text/x-python",
   "name": "python",
   "nbconvert_exporter": "python",
   "pygments_lexer": "ipython3",
   "version": "3.11.9"
  }
 },
 "nbformat": 4,
 "nbformat_minor": 5
}
