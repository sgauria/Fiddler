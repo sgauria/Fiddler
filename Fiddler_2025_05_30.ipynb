{
 "cells": [
  {
   "cell_type": "markdown",
   "id": "6c1b3c43",
   "metadata": {},
   "source": [
    "Puzzle\n",
    "----\n",
    "\n",
    "https://thefiddler.substack.com/p/can-you-weave-the-web\n",
    "\n",
    "Summary:\n",
    "Pick 2 point at random in a square and cover all points along the line joining them.\n",
    "Which points are the most likely to be covered, and by how much relative to the least likely points.\n",
    "\n",
    "Solution\n",
    "----\n",
    "\n",
    "The only feasible scheme I can think of is to create a discrete parallel of NxN points, and calculate these values for that discrete case by exhaustive enumeration of all the cases. And see how it progresses as N increases, and hopefully it converges to something. Let's give it a shot.\n"
   ]
  },
  {
   "cell_type": "code",
   "execution_count": null,
   "id": "89955740",
   "metadata": {},
   "outputs": [],
   "source": [
    "def count_coverage(N, normalize=True, return_counts=False):\n",
    "    counts = [[0 for _ in range(N)] for _ in range(N)]\n",
    "    \n",
    "    #(x1, y1) and (x2, y2) are the randomly selected points.\n",
    "    # (xt, yt) is a (target) point on the line joining (x1, y1) and (x2, y2).\n",
    "    for x1 in range(N):\n",
    "        for x2 in range(N):\n",
    "            dx = x1 - x2\n",
    "            for y1 in range(N):\n",
    "                for y2 in range(N):\n",
    "                    if (x1, y1) != (x2, y2):                      \n",
    "                        dy = y1 - y2\n",
    "                        slope = dy / dx if dx != 0 else float('inf')\n",
    "                        # Slope low, iterate over x, calculate y\n",
    "                        # Slope high, iterate over y, calculate x\n",
    "                        if -1 < slope < 1:\n",
    "                            for xt in range(N):\n",
    "                                yt = round(slope * (xt - x1) + y1)\n",
    "                                if 0 <= yt < N:\n",
    "                                    counts[xt][yt] += 1                                    \n",
    "                        else:\n",
    "                            for yt in range(N):\n",
    "                                xt = round(x1 + (yt - y1) / slope) if dx != 0 else x1\n",
    "                                if 0 <= xt < N:\n",
    "                                    counts[xt][yt] += 1\n",
    "    \n",
    "    if (normalize):\n",
    "        # Normalize the counts to the range [0, 1] to some extent.\n",
    "        normalization_factor = N * N *(N * N - 1)      \n",
    "        for i in range(N):\n",
    "            for j in range(N):\n",
    "                counts[i][j] /= normalization_factor\n",
    "\n",
    "    max_value = 0\n",
    "    min_value = float('inf')\n",
    "    for i in range(N):\n",
    "        for j in range(N):\n",
    "            if counts[i][j] > max_value:\n",
    "                max_value = counts[i][j]\n",
    "            if counts[i][j] < min_value:\n",
    "                min_value = counts[i][j]\n",
    "    \n",
    "    max_locations = []\n",
    "    min_locations = [] \n",
    "    for i in range(N):\n",
    "        for j in range(N):\n",
    "            if counts[i][j] == max_value:\n",
    "                max_locations.append(\"(%.3f, %.3f)\"%(i/(N-1), j/(N-1)))\n",
    "            if counts[i][j] == min_value:\n",
    "                min_locations.append(\"(%.3f, %.3f)\"%(i/(N-1), j/(N-1)))\n",
    "    \n",
    "    max_to_min = max_value / min_value if min_value != 0 else float('inf')\n",
    "\n",
    "    print(f\"N:{N} ratio: {max_to_min:.4f} max: {max_value:.4f} min: {min_value:.4f} max_locations: {max_locations} min_locations: {min_locations}\")\n",
    "    if return_counts:\n",
    "        return counts"
   ]
  },
  {
   "cell_type": "code",
   "execution_count": 3,
   "id": "a97a80a8",
   "metadata": {},
   "outputs": [
    {
     "name": "stdout",
     "output_type": "stream",
     "text": [
      "N:3 ratio: 1.0909 max: 0.3333 min: 0.3056 max_locations: ['(0.000, 0.500)', '(0.500, 0.000)', '(0.500, 0.500)', '(0.500, 1.000)', '(1.000, 0.500)'] min_locations: ['(0.000, 0.000)', '(0.000, 1.000)', '(1.000, 0.000)', '(1.000, 1.000)']\n"
     ]
    }
   ],
   "source": [
    "# Simple example for debug.\n",
    "count_coverage(3)"
   ]
  },
  {
   "cell_type": "code",
   "execution_count": 4,
   "id": "af0a39a7",
   "metadata": {},
   "outputs": [
    {
     "name": "stdout",
     "output_type": "stream",
     "text": [
      "N:11 ratio: 2.1210 max: 1858.0000 min: 876.0000 max_locations: ['(0.400, 0.400)', '(0.400, 0.600)', '(0.600, 0.400)', '(0.600, 0.600)'] min_locations: ['(0.000, 0.500)', '(0.500, 0.000)', '(0.500, 1.000)', '(1.000, 0.500)']\n"
     ]
    },
    {
     "data": {
      "text/plain": [
       "[[1062, 968, 1018, 908, 992, 876, 992, 908, 1018, 968, 1062],\n",
       " [968, 1024, 1176, 1082, 1220, 1084, 1220, 1082, 1176, 1024, 968],\n",
       " [1018, 1176, 1410, 1400, 1556, 1452, 1556, 1400, 1410, 1176, 1018],\n",
       " [908, 1082, 1400, 1352, 1590, 1412, 1590, 1352, 1400, 1082, 908],\n",
       " [992, 1220, 1556, 1590, 1858, 1736, 1858, 1590, 1556, 1220, 992],\n",
       " [876, 1084, 1452, 1412, 1736, 1544, 1736, 1412, 1452, 1084, 876],\n",
       " [992, 1220, 1556, 1590, 1858, 1736, 1858, 1590, 1556, 1220, 992],\n",
       " [908, 1082, 1400, 1352, 1590, 1412, 1590, 1352, 1400, 1082, 908],\n",
       " [1018, 1176, 1410, 1400, 1556, 1452, 1556, 1400, 1410, 1176, 1018],\n",
       " [968, 1024, 1176, 1082, 1220, 1084, 1220, 1082, 1176, 1024, 968],\n",
       " [1062, 968, 1018, 908, 992, 876, 992, 908, 1018, 968, 1062]]"
      ]
     },
     "execution_count": 4,
     "metadata": {},
     "output_type": "execute_result"
    }
   ],
   "source": [
    "count_coverage(11, normalize=False, return_counts=True)"
   ]
  },
  {
   "cell_type": "code",
   "execution_count": 5,
   "id": "84d1ae4c",
   "metadata": {},
   "outputs": [
    {
     "name": "stdout",
     "output_type": "stream",
     "text": [
      "N:3 ratio: 1.0909 max: 0.3333 min: 0.3056 max_locations: ['(0.000, 0.500)', '(0.500, 0.000)', '(0.500, 0.500)', '(0.500, 1.000)', '(1.000, 0.500)'] min_locations: ['(0.000, 0.000)', '(0.000, 1.000)', '(1.000, 0.000)', '(1.000, 1.000)']\n",
      "N:13 ratio: 2.2753 max: 0.1141 min: 0.0502 max_locations: ['(0.500, 0.500)'] min_locations: ['(0.000, 0.417)', '(0.000, 0.583)', '(0.417, 0.000)', '(0.417, 1.000)', '(0.583, 0.000)', '(0.583, 1.000)', '(1.000, 0.417)', '(1.000, 0.583)']\n",
      "N:23 ratio: 2.3519 max: 0.0615 min: 0.0261 max_locations: ['(0.455, 0.455)', '(0.455, 0.545)', '(0.545, 0.455)', '(0.545, 0.545)'] min_locations: ['(0.000, 0.500)', '(0.500, 0.000)', '(0.500, 1.000)', '(1.000, 0.500)']\n",
      "N:33 ratio: 2.4108 max: 0.0428 min: 0.0177 max_locations: ['(0.500, 0.500)'] min_locations: ['(0.000, 0.531)', '(0.469, 0.000)', '(0.469, 1.000)', '(0.531, 0.000)', '(0.531, 1.000)', '(1.000, 0.531)']\n",
      "N:43 ratio: 2.4262 max: 0.0324 min: 0.0134 max_locations: ['(0.476, 0.476)', '(0.476, 0.524)', '(0.524, 0.476)', '(0.524, 0.524)'] min_locations: ['(0.000, 0.500)', '(0.500, 0.000)']\n",
      "N:53 ratio: 2.4445 max: 0.0262 min: 0.0107 max_locations: ['(0.500, 0.500)'] min_locations: ['(0.481, 0.000)', '(0.519, 0.000)']\n"
     ]
    }
   ],
   "source": [
    "for i in range(3,60,10):\n",
    "    count_coverage(i)"
   ]
  },
  {
   "cell_type": "markdown",
   "id": "b4aa1d14",
   "metadata": {},
   "source": [
    "It is clear that the max is in the center, min is at the centers of the edges, and the max to min ratio could be converging to something, but not sure what.\n",
    "Also, from the matrix for N=11, the center of the edges thing seems to be real, not an artifact of the grid approximation."
   ]
  },
  {
   "cell_type": "code",
   "execution_count": null,
   "id": "8dc8fb9d",
   "metadata": {},
   "outputs": [],
   "source": [
    "#count_coverage(101)"
   ]
  },
  {
   "cell_type": "markdown",
   "id": "bb786d3c",
   "metadata": {},
   "source": [
    "<pre>N:101 ratio: 2.4621 max: 0.0135 min: 0.0055 max_locations: [(0.49504950495049505, 0.49504950495049505)] min_locations: [(0.0, 0.48514851485148514), (0.0, 0.504950495049505)]</pre>\n",
    "This is also consistent with the results earlier. But still need to check convergence of ratio."
   ]
  },
  {
   "cell_type": "code",
   "execution_count": null,
   "id": "3a9b1fa5",
   "metadata": {},
   "outputs": [],
   "source": [
    "#count_coverage(121)"
   ]
  },
  {
   "cell_type": "markdown",
   "id": "9ced2ae8",
   "metadata": {},
   "source": [
    "<pre>N:121 ratio: 2.4643 max: 0.0113 min: 0.0046 max_locations: ['(0.500, 0.500)'] min_locations: ['(0.492, 0.000)', '(0.508, 0.000)']</pre>\n"
   ]
  },
  {
   "cell_type": "markdown",
   "id": "dc487d62",
   "metadata": {},
   "source": [
    "All consistent-ish so far\n",
    "\n",
    "----\n",
    "\n",
    "**Epiphany** has been received.\n",
    "\n",
    "The probability that we want to compute can be written as \n",
    "\n",
    ": Integral over all lines passing through the target point  ( probability first point is on the line * probability second point is on the line)\n",
    "\n",
    "Since each of the probabilities should be proportional to the length of the line, the whole thing should be proportional to \n",
    "\n",
    ": Integral over all lines passing through the target point  ( (Length of line)^2 )\n",
    "\n",
    "Now this integral can be approximated numerically by picking a bunch of lines and calculating the lengths. And since we know the 2 points we need to evaluate it at, it should be much faster ( O(N) ) than the grid counting approach ( O (N^5) ).\n"
   ]
  },
  {
   "cell_type": "code",
   "execution_count": 7,
   "id": "e38f9329",
   "metadata": {},
   "outputs": [],
   "source": [
    "# C is center = (0.5, 0.5)\n",
    "# B is bottom center = (0.5, 0.0)\n",
    "# We only need to calculate 0 to pi.\n",
    "# But since our points are centered, the lengths are symmetric, and so it suffices to calculate from 0 to pi/2.\n",
    "def calc_probability_ratio(N):\n",
    "    from math import pi, tan\n",
    "    \n",
    "    # theta = 0.\n",
    "    C_Lsq_sum = 1\n",
    "    B_Lsq_sum = 1\n",
    "\n",
    "    for i in range(1, N):\n",
    "        t = (i * pi) / (2 * N) # t = theta\n",
    "        tt = tan(t)\n",
    "        B_y = 0.5 * tt   # intersection of line through B with vertical line x=1.\n",
    "        if B_y <= 1:\n",
    "            B_Lsq_sum += (0.25 + B_y * B_y)\n",
    "        else :\n",
    "            B_x = 1/tt + 0.5 # intersection of line through B with horizontal line y=1.\n",
    "            B_Lsq_sum += (1 + (B_x - 0.5) * (B_x - 0.5))\n",
    "\n",
    "        C_y = B_y + 0.5  # intersection of line through C with vertical line x=1.\n",
    "        if C_y <= 1:\n",
    "            C_Lsq_sum += (1 + (2 * C_y - 1) * (2 * C_y - 1))\n",
    "        else:            \n",
    "            C_x = 0.5/tt + 0.5  # intersection of line through C with horizontal line y=1.\n",
    "            C_Lsq_sum += (1 + (2 * C_x - 1) * (2 * C_x - 1))\n",
    "    \n",
    "    ratio = C_Lsq_sum / B_Lsq_sum\n",
    "    print(f\"Probability ratio for N={N} is {ratio:.5f}  [ = {C_Lsq_sum:.4f} / {B_Lsq_sum:.4f} ]\")\n",
    "    return ratio\n",
    "        "
   ]
  },
  {
   "cell_type": "code",
   "execution_count": 8,
   "id": "534db7c2",
   "metadata": {},
   "outputs": [
    {
     "name": "stdout",
     "output_type": "stream",
     "text": [
      "Probability ratio for N=101 is 1.98830  [ = 128.5920 / 64.6742 ]\n",
      "Probability ratio for N=1101 is 1.99893  [ = 1401.8363 / 701.2940 ]\n",
      "Probability ratio for N=2101 is 1.99944  [ = 2675.0760 / 1337.9132 ]\n",
      "Probability ratio for N=3101 is 1.99962  [ = 3948.3157 / 1974.5328 ]\n",
      "Probability ratio for N=4101 is 1.99971  [ = 5221.5552 / 2611.1526 ]\n",
      "Probability ratio for N=5101 is 1.99977  [ = 6494.7948 / 3247.7724 ]\n",
      "Probability ratio for N=6101 is 1.99981  [ = 7768.0344 / 3884.3922 ]\n",
      "Probability ratio for N=7101 is 1.99983  [ = 9041.2739 / 4521.0121 ]\n",
      "Probability ratio for N=8101 is 1.99985  [ = 10314.5135 / 5157.6318 ]\n",
      "Probability ratio for N=9101 is 1.99987  [ = 11587.7530 / 5794.2515 ]\n"
     ]
    }
   ],
   "source": [
    "for i in range(101,9999,1000):\n",
    "    calc_probability_ratio(i)"
   ]
  },
  {
   "cell_type": "markdown",
   "id": "86db7439",
   "metadata": {},
   "source": [
    "Um, these numbers are very different from the grid numbers. This looks like it converging to 2, and that might have been converging to 2.5\n",
    "\n",
    "----\n",
    "\n",
    "I am realizing that the hand-wavy probability is proportional to length is the problem.\n",
    "\n",
    "If we do this properly as an integral in polar coordinates, then the probability will be proportional to the area = radius^2 * dtheta. And radius = length for point B, but radius = length / 2 for point C. So, overall, we'll need to sum something like length^4, not length^2 and there is some constant factor also different for B vs C.\n",
    "\n",
    "So, let's try again."
   ]
  },
  {
   "cell_type": "code",
   "execution_count": 9,
   "id": "99eac3a6",
   "metadata": {},
   "outputs": [
    {
     "name": "stdout",
     "output_type": "stream",
     "text": [
      "Probability ratio for N=101 is 0.80694  [ = 42.8605 / 53.1149 ]\n",
      "Probability ratio for N=1101 is 0.80064  [ = 467.2784 / 583.6315 ]\n",
      "Probability ratio for N=2101 is 0.80034  [ = 891.6918 / 1114.1466 ]\n",
      "Probability ratio for N=3101 is 0.80023  [ = 1316.1051 / 1644.6627 ]\n",
      "Probability ratio for N=4101 is 0.80017  [ = 1740.5183 / 2175.1791 ]\n",
      "Probability ratio for N=5101 is 0.80014  [ = 2164.9315 / 2705.6957 ]\n",
      "Probability ratio for N=6101 is 0.80012  [ = 2589.3447 / 3236.2123 ]\n",
      "Probability ratio for N=7101 is 0.80010  [ = 3013.7579 / 3766.7290 ]\n",
      "Probability ratio for N=8101 is 0.80009  [ = 3438.1711 / 4297.2453 ]\n",
      "Probability ratio for N=9101 is 0.80008  [ = 3862.5843 / 4827.7616 ]\n"
     ]
    }
   ],
   "source": [
    "# C is center = (0.5, 0.5)\n",
    "# B is bottom center = (0.5, 0.0)\n",
    "# We only need to calculate 0 to pi.\n",
    "# But since our points are centered, the lengths are symmetric, and so it suffices to calculate from 0 to pi/2.\n",
    "def calc_probability_ratio_take2(N):\n",
    "    from math import pi, tan, sqrt\n",
    "    \n",
    "    C_sum = 0\n",
    "    B_sum = 0\n",
    "\n",
    "    for i in range(0, N):\n",
    "        t = (i * pi) / (2 * N) # t = theta\n",
    "        tt = tan(t)\n",
    "        B_y = 0.5 * tt   # intersection of line through B with vertical line x=1.\n",
    "        if B_y <= 1:\n",
    "            B_len = sqrt(0.25 + B_y * B_y)\n",
    "        else :\n",
    "            B_x = 1/tt + 0.5 # intersection of line through B with horizontal line y=1.\n",
    "            B_len = sqrt(1 + (B_x - 0.5) * (B_x - 0.5))\n",
    "        B_area = B_len ** 2 # * dt \n",
    "        B_prob = B_area ** 2 # because we are selecting 2 points.\n",
    "\n",
    "        C_y = B_y + 0.5  # intersection of line through C with vertical line x=1.\n",
    "        if C_y <= 1:\n",
    "            C_len = sqrt(1 + (2 * C_y - 1) * (2 * C_y - 1))\n",
    "        else:            \n",
    "            C_x = 0.5/tt + 0.5  # intersection of line through C with horizontal line y=1.\n",
    "            C_len = sqrt(1 + (2 * C_x - 1) * (2 * C_x - 1))\n",
    "        C_area = ((C_len/2) ** 2) * 2 # * dt \n",
    "        C_prob = C_area ** 2 # because we are selecting 2 points.\n",
    "\n",
    "        B_sum += B_prob\n",
    "\n",
    "        C_sum += C_prob\n",
    "\n",
    "    ratio = C_sum / B_sum\n",
    "    print(f\"Probability ratio for N={N} is {ratio:.5f}  [ = {C_sum:.4f} / {B_sum:.4f} ]\")\n",
    "    return ratio\n",
    "\n",
    "for i in range(101,9999,1000):\n",
    "    calc_probability_ratio_take2(i)\n",
    "    "
   ]
  },
  {
   "cell_type": "markdown",
   "id": "f05991eb",
   "metadata": {},
   "source": [
    "Well, the center prob is now less than the edge prob ... ???? !!!!\n",
    "\n",
    "--\n",
    "\n",
    "I think the issue may be that while our calculations for B and C will both approach the correct integral, they will do so at different rates. And so, the ratio of their probabilities may not be correct.\n",
    "\n",
    "The differences can be seen by comparing the probability of a nearly vertical line for B and C, which should be the same. But the C value will be d-theta/4, while the B value will be d-theta/2. So, in this direction, B's probability is twice what is should be relative to C's probability.\n",
    "\n",
    "----\n",
    "\n",
    "I am going to give it another shot calculating the exact probability, just to make sure I didn't miss something in dropping common factors.\n"
   ]
  },
  {
   "cell_type": "code",
   "execution_count": 10,
   "id": "a26f0194",
   "metadata": {},
   "outputs": [
    {
     "name": "stdout",
     "output_type": "stream",
     "text": [
      "Probability ratio for N=101 is 0.80694  [ = 0.0026 / 0.0032 ]\n",
      "Probability ratio for N=1101 is 0.80064  [ = 0.0002 / 0.0003 ]\n",
      "Probability ratio for N=2101 is 0.80034  [ = 0.0001 / 0.0002 ]\n",
      "Probability ratio for N=3101 is 0.80023  [ = 0.0001 / 0.0001 ]\n",
      "Probability ratio for N=4101 is 0.80017  [ = 0.0001 / 0.0001 ]\n",
      "Probability ratio for N=5101 is 0.80014  [ = 0.0001 / 0.0001 ]\n",
      "Probability ratio for N=6101 is 0.80012  [ = 0.0000 / 0.0001 ]\n",
      "Probability ratio for N=7101 is 0.80010  [ = 0.0000 / 0.0000 ]\n",
      "Probability ratio for N=8101 is 0.80009  [ = 0.0000 / 0.0000 ]\n",
      "Probability ratio for N=9101 is 0.80008  [ = 0.0000 / 0.0000 ]\n"
     ]
    }
   ],
   "source": [
    "# C is center = (0.5, 0.5)\n",
    "# B is bottom center = (0.5, 0.0)\n",
    "# We only need to calculate 0 to pi.\n",
    "# But since our points are centered, the lengths are symmetric, and so it suffices to calculate from 0 to pi/2.\n",
    "def calc_probability_ratio_take3(N):\n",
    "    from math import pi, tan, sqrt\n",
    "    \n",
    "    C_sum = 0\n",
    "    B_sum = 0\n",
    "\n",
    "    dt = pi / (2 * N)  # delta theta\n",
    "\n",
    "    for i in range(0, N):\n",
    "        t = i * dt # t = theta\n",
    "        tt = tan(t)\n",
    "        B_y = 0.5 * tt   # intersection of line through B with vertical line x=1.\n",
    "        if B_y <= 1:\n",
    "            B_len = sqrt(0.25 + B_y * B_y)\n",
    "        else :\n",
    "            B_x = 1/tt + 0.5 # intersection of line through B with horizontal line y=1.\n",
    "            B_len = sqrt(1 + (B_x - 0.5) * (B_x - 0.5))\n",
    "        B_area = (B_len ** 2) * dt / 2\n",
    "        B_prob = B_area ** 2 # because we are selecting 2 points.\n",
    "\n",
    "        C_y = B_y + 0.5  # intersection of line through C with vertical line x=1.\n",
    "        if C_y <= 1:\n",
    "            C_len = sqrt(1 + (2 * C_y - 1) * (2 * C_y - 1))\n",
    "        else:            \n",
    "            C_x = 0.5/tt + 0.5  # intersection of line through C with horizontal line y=1.\n",
    "            C_len = sqrt(1 + (2 * C_x - 1) * (2 * C_x - 1))\n",
    "        C_area = 2 * ((C_len/2) ** 2) * dt / 2\n",
    "        C_prob = C_area ** 2 # because we are selecting 2 points.\n",
    "\n",
    "        B_sum += B_prob\n",
    "\n",
    "        C_sum += C_prob\n",
    "\n",
    "    ratio = C_sum / B_sum\n",
    "    print(f\"Probability ratio for N={N} is {ratio:.5f}  [ = {C_sum:.4f} / {B_sum:.4f} ]\")\n",
    "    return ratio\n",
    "\n",
    "for i in range(101,9999,1000):\n",
    "    calc_probability_ratio_take3(i)\n",
    "    "
   ]
  },
  {
   "cell_type": "markdown",
   "id": "275007cd",
   "metadata": {},
   "source": [
    "Okay, that's the same.\n",
    "\n",
    "-----\n",
    "\n",
    "Next idea is to use online solvers to calculate these integrals exactly.\n",
    "\n",
    "Probability of a line through C is\n",
    "\n",
    ": 2 * [ Integral from 0 to pi/4  (( 1 + tan(x)^2 )/2 dx/2 ) ^2  + Integral from pi/4 to pi/2  (( 1 + cot(x)^2 )/2 dx/2 ) ^2 ]\n",
    "\n",
    "= 1/2 * [ Integral from 0 to pi/4  (( 1 + tan(x)^2 )/2 dx ) ^2  + Integral from pi/4 to pi/2  (( 1 + cot(x)^2 )/2 dx ) ^2]\n",
    "\n",
    "That has dx^2, but a single integral, which drives the value to 0.\n",
    "\n",
    "\n",
    "Probability of a line through B is\n",
    "\n",
    ": 2 * [ Integral from 0 to atan(2)  (( 1/4 + tan(x)^2/4 ) dx/2 ) ^2   +   Integral from atan(2) to pi/2  (( 1 + cot(x)^2 ) dx/2 ) ^2 ]\n",
    "\n",
    "= 1/2 * [ Integral from 0 to atan(2)  (( 1 + tan(x)^2 )/4 dx ) ^2   +   Integral from atan(2) to pi/2  (( 1 + cot(x)^2 ) dx ) ^2 ]\n",
    "\n",
    "Ratio C/B = \n",
    "\n",
    "= 1 * [ \n",
    "        Integral from 0 to pi/4  (4) dx   +   \n",
    "        Integral from pi/4 to atan(2) (2 * ( 1 + cot(x)^2 ) / (1 + tan(x)^2) ) ^2 dx   +  \n",
    "        Integral from atan(2) to pi/2  (1/4) dx \n",
    "      ]\n",
    "\n",
    "where I have cancelled out the second dx.\n",
    "\n",
    "\n",
    "Acc to Wolfram Alpha \n",
    "\n",
    "First Integral = pi = 3.14159\n",
    "\n",
    "https://www.wolframalpha.com/input?i=Integral+from+0+to+pi%2F4++%284%29+dx\n",
    "\n",
    "Second Integral = 0.45367\n",
    "\n",
    "https://www.wolframalpha.com/input?i=Integral+from+pi%2F4+to+atan%282%29+%282+*+%28+1+%2B+cot%28x%29%5E2+%29+%2F+%281+%2B+tan%28x%29%5E2%29+%29+%5E2+dx\n",
    "\n",
    "Third Integral = 0.11591\n",
    "\n",
    "https://www.wolframalpha.com/input?i=Integral+from+atan%282%29+to+pi%2F2++%281%2F4%29+dx\n",
    "\n",
    "\n",
    "So, Ratio C/B = (3.14159 + 0.45367 + 0.11591 ) = 3.71117\n",
    "\n",
    "Ha, ha. Yet another number, inconsistent with all the rest. :)\n",
    "\n",
    "I guess the error is taking the ratio by parts.   (A + B) / (C + D) == A/(C+D) + B /(C+D) != A/C + B/D \n",
    "\n",
    "---"
   ]
  },
  {
   "cell_type": "markdown",
   "id": "c323f61d",
   "metadata": {},
   "source": [
    "So, let me do it again, evaluating each separately (ignoring the extra dx as a constant).\n",
    "\n",
    "Probability of a line through C is\n",
    "\n",
    ": 2 * [ Integral from 0 to pi/4  (( 1 + tan(x)^2 )/2 dx/2 ) ^2  + Integral from pi/4 to pi/2  (( 1 + cot(x)^2 )/2 dx/2 ) ^2 ]\n",
    "\n",
    "= 1/2 * [ Integral from 0 to pi/4  (( 1 + tan(x)^2 )/2 dx ) ^2  + Integral from pi/4 to pi/2  (( 1 + cot(x)^2 )/2 dx ) ^2]\n",
    "\n",
    "= dx/4 [ Integral from 0 to pi/4  ( 1 + tan(x)^2 ) ^2  dx ]\n",
    "\n",
    "= dx/4 * 4/3 \n",
    "\n",
    "= dx * 1/3\n",
    "\n",
    "= dx * 4/12\n",
    "\n",
    "https://www.wolframalpha.com/input?i=Integral+from+0+to+pi%2F4++%28+1+%2B+tan%28x%29%5E2+%29+%5E2++dx\n",
    "\n",
    "\n",
    "\n",
    "Probability of a line through B is\n",
    "\n",
    ": 2 * [ Integral from 0 to atan(2)  (( 1/4 + tan(x)^2/4 ) dx/2 ) ^2   +   Integral from atan(2) to pi/2  (( 1 + cot(x)^2 ) dx/2 ) ^2 ]\n",
    "\n",
    "= 1/2 * [ Integral from 0 to atan(2)  (( 1 + tan(x)^2 )/4 dx ) ^2   +   Integral from atan(2) to pi/2  (( 1 + cot(x)^2 ) dx ) ^2 ]\n",
    "\n",
    "= dx/2 * [ 1/16 * Integral from 0 to atan(2)  ( 1 + tan(x)^2 )^2 dx   +   Integral from atan(2) to pi/2  ( 1 + cot(x)^2 )^2 dx]\n",
    "\n",
    "= dx/2 * [ 1/16 * 14/3 + 13/24 ]\n",
    "\n",
    "= dx/2 * [ 14/48 + 26 /48 ]\n",
    "\n",
    "= dx/2 * [ 40/48 ]\n",
    "\n",
    "= dx * 5/12\n",
    "\n",
    "https://www.wolframalpha.com/input?i=Integral+from+0+to+atan%282%29++%28+1+%2B+tan%28x%29%5E2+%29%5E2+dx\n",
    "https://www.wolframalpha.com/input?i=Integral+from+atan%282%29+to+pi%2F2++%28+1+%2B+cot%28x%29%5E2+%29%5E2+dx\n",
    "\n",
    "Ratio C/B\n",
    "\n",
    "= 4/5 \n",
    "\n",
    "= 0.8\n",
    "\n",
    "Okay, that's consistent with the numerical result in take3.\n"
   ]
  },
  {
   "cell_type": "markdown",
   "id": "b0b65858",
   "metadata": {},
   "source": [
    "-----\n",
    "\n",
    "So, in summary, not sure. I think I'll go with the grid simulation results."
   ]
  }
 ],
 "metadata": {
  "kernelspec": {
   "display_name": "Python 3",
   "language": "python",
   "name": "python3"
  },
  "language_info": {
   "codemirror_mode": {
    "name": "ipython",
    "version": 3
   },
   "file_extension": ".py",
   "mimetype": "text/x-python",
   "name": "python",
   "nbconvert_exporter": "python",
   "pygments_lexer": "ipython3",
   "version": "3.11.9"
  }
 },
 "nbformat": 4,
 "nbformat_minor": 5
}
