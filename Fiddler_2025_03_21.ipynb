{
 "cells": [
  {
   "cell_type": "markdown",
   "metadata": {},
   "source": [
    "This Week’s Extra Credit\n",
    "\n",
    "As before, the probability that an M-seed defeats an N-seed is N/(M+N). But instead of 16 teams in a region, now suppose there are 2k teams, where k is a very large whole number.\n",
    "\n",
    "The teams are seeded 1 through 2k, and play in a traditional seeded tournament format. That is, in the first round, the sum of opponents’ seeds is 2k+1. If the stronger team always advances, then the sum of opponents’ seeds in the second round is 2k−1+1, and so on. Of course, stronger teams may not always advance, but this convention tells you which seeds can play which other seeds in each round.\n",
    "\n",
    "For any such region with 2k teams, what is the probability that the 1-seed emerges victorious from the region?"
   ]
  },
  {
   "cell_type": "markdown",
   "metadata": {},
   "source": [
    "Plan is to create some code to calculate this probability and hope that it converges to something"
   ]
  },
  {
   "cell_type": "code",
   "execution_count": 2,
   "metadata": {},
   "outputs": [],
   "source": [
    "#from fractions import Fraction\n",
    "import matplotlib.pyplot as plt\n",
    "def outcomes(k, level=0, min_seed=1):\n",
    "    \"\"\"This function takes k, level, and min_seed, which define where in the tree you are.\n",
    "    On the downward part of the recursion, it fills out the tree, figuring out who will play against whom.\n",
    "    On the upward part of the recursion, it calculates the probabilities of each outcome.\n",
    "    Final result is all the teams along with their probability of emerging victorious\"\"\"\n",
    "\n",
    "    if (level == k):\n",
    "        # At the leaf of the tree, just return each team with probability 1.\n",
    "        return {min_seed : 1}\n",
    "    next_level = level + 1\n",
    "    min_seed_sum = (2**next_level)+1\n",
    "    Ao = outcomes(k, next_level, min_seed)\n",
    "    Bo = outcomes(k, next_level, (min_seed_sum-min_seed))\n",
    "    result = {}\n",
    "    for a,pa in Ao.items():\n",
    "        for b,pb in Bo.items():\n",
    "            p_a_plays_b = pa * pb\n",
    "            p_a_wins = (b/(a+b)) * p_a_plays_b\n",
    "            p_b_wins = (a/(a+b)) * p_a_plays_b\n",
    "            result[a] = p_a_wins + (result[a] if (a in result) else 0)\n",
    "            result[b] = p_b_wins + (result[b] if (b in result) else 0)\n",
    "    \n",
    "    return result"
   ]
  },
  {
   "cell_type": "markdown",
   "metadata": {},
   "source": [
    "Now lets try it out"
   ]
  },
  {
   "cell_type": "code",
   "execution_count": 3,
   "metadata": {},
   "outputs": [
    {
     "data": {
      "text/plain": [
       "{1: 0.6666666666666666, 2: 0.3333333333333333}"
      ]
     },
     "execution_count": 3,
     "metadata": {},
     "output_type": "execute_result"
    }
   ],
   "source": [
    "outcomes(1)"
   ]
  },
  {
   "cell_type": "markdown",
   "metadata": {},
   "source": [
    "Makes sense."
   ]
  },
  {
   "cell_type": "code",
   "execution_count": 4,
   "metadata": {},
   "outputs": [
    {
     "data": {
      "text/plain": [
       "{1: 0.56,\n",
       " 2: 0.23999999999999996,\n",
       " 3: 0.12571428571428572,\n",
       " 4: 0.07428571428571429}"
      ]
     },
     "execution_count": 4,
     "metadata": {},
     "output_type": "execute_result"
    }
   ],
   "source": [
    "outcomes(2)"
   ]
  },
  {
   "cell_type": "markdown",
   "metadata": {},
   "source": [
    "Matches hand-calculation.\n",
    "So, let's proceed and plot the probability of the 1-seed emerging as k varies."
   ]
  },
  {
   "cell_type": "code",
   "execution_count": 5,
   "metadata": {},
   "outputs": [
    {
     "data": {
      "image/png": "[encoded data removed]",
      "text/plain": [
       "<Figure size 640x480 with 1 Axes>"
      ]
     },
     "metadata": {},
     "output_type": "display_data"
    }
   ],
   "source": [
    "N=12\n",
    "k_list = range(1,N+1)\n",
    "p_list = [outcomes(k)[1] for k in k_list]\n",
    "plt.plot(k_list, p_list)\n",
    "plt.show()"
   ]
  },
  {
   "cell_type": "code",
   "execution_count": 6,
   "metadata": {},
   "outputs": [
    {
     "name": "stdout",
     "output_type": "stream",
     "text": [
      "0.6666666666666666\n",
      "0.56\n",
      "0.5279401592158794\n",
      "0.519218355130161\n",
      "0.5166943992619706\n",
      "0.515833745724985\n",
      "0.5155445666341768\n",
      "0.5154592300379058\n",
      "0.515437219149804\n",
      "0.5154322958839175\n",
      "0.5154314095552367\n",
      "0.5154313229728595\n"
     ]
    }
   ],
   "source": [
    "for p in p_list:\n",
    "    print(p)"
   ]
  },
  {
   "cell_type": "markdown",
   "metadata": {},
   "source": [
    "Is clearly converging to something, though the change in direction from decreasing to increasing is concerning.\n",
    "But I can't calculate too many more values because the runtime is exploding.\n",
    "Let's call the final value 0.51543."
   ]
  },
  {
   "cell_type": "markdown",
   "metadata": {},
   "source": [
    "------\n",
    "Revisiting\n",
    "Let's see if we can get more values with some optimized code that does not calculate all the probabilities that we don't care about (i.e. for seeds other than the seed of interest)"
   ]
  },
  {
   "cell_type": "code",
   "execution_count": 100,
   "metadata": {},
   "outputs": [],
   "source": [
    "def outcomes_optimized(k, level=0, min_seed=1, seed_of_interest=1, debug=0):\n",
    "    \"\"\"Similar to outcomes, but adds seed_of_interest. Final result is just for the seed of interest\"\"\"\n",
    "\n",
    "    if (level == k):\n",
    "        # At the leaf of the tree, just return each team with probability 1.\n",
    "        return {min_seed : 1}\n",
    "    next_level = level + 1\n",
    "    min_seed_sum = (2**next_level)+1\n",
    "    Ao = outcomes_optimized(k, next_level, min_seed, seed_of_interest, debug)\n",
    "    Bo = outcomes_optimized(k, next_level, (min_seed_sum-min_seed), seed_of_interest, debug)\n",
    "    soi_unavilable = not (seed_of_interest in Ao) and not (seed_of_interest in Bo)\n",
    "    result = {}\n",
    "    for a in Ao:\n",
    "        for b in Bo:\n",
    "            if (a == seed_of_interest or b == seed_of_interest or soi_unavilable):\n",
    "                pa = Ao[a]\n",
    "                pb = Bo[b]\n",
    "                p_a_plays_b = pa * pb\n",
    "            if (a == seed_of_interest or soi_unavilable):\n",
    "                p_a_wins = (b/(a+b)) * p_a_plays_b\n",
    "                result[a] = p_a_wins + (result[a] if (a in result) else 0)\n",
    "            if (b == seed_of_interest or soi_unavilable):\n",
    "                p_b_wins = (a/(a+b)) * p_a_plays_b\n",
    "                result[b] = p_b_wins + (result[b] if (b in result) else 0)\n",
    "    \n",
    "    if (debug):\n",
    "        if (seed_of_interest in result):\n",
    "            out_p = result[seed_of_interest]\n",
    "            in_p = Ao[seed_of_interest] if (seed_of_interest in Ao) else Bo[seed_of_interest]\n",
    "            stage_p = out_p / in_p\n",
    "            # x / (soi + x) = stage_p => x = soi * stage_p / (1- stage_p)\n",
    "            eff_seed = seed_of_interest * stage_p / (1 - stage_p)\n",
    "            correction = 0 if (level == (k-1)) else 0.5 if (level == (k-2)) else (0.9*(1.5**level))\n",
    "            expected_seed = (min_seed_sum-seed_of_interest) + correction\n",
    "            diff = eff_seed - expected_seed\n",
    "            print(f\"level {level}, {seed_of_interest} faces {eff_seed:.5f}. Diff = {diff:.5f}\")            \n",
    "            \n",
    "\n",
    "    return result"
   ]
  },
  {
   "cell_type": "code",
   "execution_count": 101,
   "metadata": {},
   "outputs": [
    {
     "data": {
      "image/png": "[encoded data removed]",
      "text/plain": [
       "<Figure size 640x480 with 1 Axes>"
      ]
     },
     "metadata": {},
     "output_type": "display_data"
    }
   ],
   "source": [
    "N2=12\n",
    "k_list_2 = range(1,N2+1)\n",
    "p_list_opt = [outcomes_optimized(k, seed_of_interest=1)[1] for k in k_list_2]\n",
    "plt.plot(k_list_2, p_list_opt)\n",
    "plt.show()"
   ]
  },
  {
   "cell_type": "code",
   "execution_count": 102,
   "metadata": {},
   "outputs": [
    {
     "name": "stdout",
     "output_type": "stream",
     "text": [
      "0.6666666666666666\n",
      "0.56\n",
      "0.5279401592158794\n",
      "0.519218355130161\n",
      "0.5166943992619706\n",
      "0.515833745724985\n",
      "0.5155445666341768\n",
      "0.5154592300379058\n",
      "0.515437219149804\n",
      "0.5154322958839175\n",
      "0.5154314095552367\n",
      "0.5154313229728595\n"
     ]
    }
   ],
   "source": [
    "for p in p_list_opt:\n",
    "    print(p)"
   ]
  },
  {
   "cell_type": "code",
   "execution_count": 103,
   "metadata": {},
   "outputs": [
    {
     "name": "stdout",
     "output_type": "stream",
     "text": [
      "[0.0, 0.0, 0.0, 0.0, 0.0, 0.0, 0.0, 0.0, 0.0, 0.0, 0.0, 0.0]\n"
     ]
    }
   ],
   "source": [
    "diff_vs_opt = [p_list[i] - p_list_opt[i] for i in range(len(p_list))]\n",
    "print(diff_vs_opt)\n"
   ]
  },
  {
   "cell_type": "markdown",
   "metadata": {},
   "source": [
    "-----\n",
    "This is twice as fast, but still rather slow."
   ]
  },
  {
   "cell_type": "markdown",
   "metadata": {},
   "source": [
    "---\n",
    "New idea.\n",
    "Conside the 4 seed case, with seeds a < b < c < d\n",
    "The probability of a winning the first match is d/(a+d)\n",
    "The probability of a winning the second match is b/(b+c) * c/(a+c)   +  c/(b+c) * b / (a+b)\n",
    "= bc/(b+c) * [ 1/(a+b) + 1/(a+c)]\n",
    "The bc/(b+c) term resmbles the harmonic mean (2bc/(b+c)).\n",
    "So, maybe approximating each match between 2 seed by the harmonic mean of the seeds might be interesting, and easier to calculate."
   ]
  },
  {
   "cell_type": "code",
   "execution_count": 104,
   "metadata": {},
   "outputs": [],
   "source": [
    "def outcomes_approx(k, level=0, min_seed=1, seed_of_interest=1, debug=0):\n",
    "    \"\"\"Similar to outcomes, but adds seed_of_interest. Final result is just for the seed of interest\"\"\"\n",
    "\n",
    "    if (level == k):\n",
    "        # At the leaf of the tree, just return each team with probability 1.\n",
    "        return {min_seed : 1}\n",
    "    next_level = level + 1\n",
    "    min_seed_sum = (2**next_level)+1\n",
    "    Ao = outcomes_approx(k, next_level, min_seed, seed_of_interest, debug)\n",
    "    Bo = outcomes_approx(k, next_level, (min_seed_sum-min_seed), seed_of_interest, debug)\n",
    "    soi_unavilable = not (seed_of_interest in Ao) and not (seed_of_interest in Bo)\n",
    "    result = {}\n",
    "    for a in Ao:\n",
    "        for b in Bo:\n",
    "            if (soi_unavilable):\n",
    "                hm = 2*a*b/(a+b)\n",
    "                result[hm] = 1\n",
    "            else:\n",
    "                pa = Ao[a]\n",
    "                pb = Bo[b]\n",
    "                p_a_plays_b = pa * pb\n",
    "                if (a == seed_of_interest):\n",
    "                    p_a_wins = (b/(a+b)) * p_a_plays_b\n",
    "                    result[a] = p_a_wins\n",
    "                if (b == seed_of_interest):\n",
    "                    p_b_wins = (a/(a+b)) * p_a_plays_b\n",
    "                    result[b] = p_b_wins\n",
    "    \n",
    "    if (debug):\n",
    "        print (Ao, Bo, result)\n",
    "    return result"
   ]
  },
  {
   "cell_type": "code",
   "execution_count": 105,
   "metadata": {},
   "outputs": [],
   "source": [
    "# d = outcomes_approx(3,seed_of_interest=1, debug=1)"
   ]
  },
  {
   "cell_type": "code",
   "execution_count": 106,
   "metadata": {},
   "outputs": [
    {
     "data": {
      "image/png": "[encoded data removed]",
      "text/plain": [
       "<Figure size 640x480 with 1 Axes>"
      ]
     },
     "metadata": {},
     "output_type": "display_data"
    }
   ],
   "source": [
    "N3=12\n",
    "k_list_3 = range(1,N3+1)\n",
    "p_list_approx = [outcomes_approx(k, seed_of_interest=1)[1] for k in k_list_3]\n",
    "plt.plot(k_list_3, p_list_approx)\n",
    "plt.show()"
   ]
  },
  {
   "cell_type": "code",
   "execution_count": 107,
   "metadata": {},
   "outputs": [
    {
     "name": "stdout",
     "output_type": "stream",
     "text": [
      "0.6666666666666666\n",
      "0.5647058823529413\n",
      "0.5643738977072311\n",
      "0.61687509588784\n",
      "0.6934321534102827\n",
      "0.7730036160781445\n",
      "0.8422807106148616\n",
      "0.8958300349636494\n",
      "0.9338577844424948\n",
      "0.9592591725233063\n",
      "0.9754870414250991\n",
      "0.9855193000635754\n"
     ]
    }
   ],
   "source": [
    "for p in p_list_approx:\n",
    "    print(p)"
   ]
  },
  {
   "cell_type": "markdown",
   "metadata": {},
   "source": [
    "Ouch.\n",
    "This harmonic mean plan starts out well, but is shortly going in the wrong direction.\n",
    "Never mind."
   ]
  },
  {
   "cell_type": "markdown",
   "metadata": {},
   "source": [
    "---- \n",
    "New idea. I want to see the distribution of how the difficulty face by seed 1 varies. So, adding some printouts to the optimized function above."
   ]
  },
  {
   "cell_type": "code",
   "execution_count": 108,
   "metadata": {},
   "outputs": [
    {
     "name": "stdout",
     "output_type": "stream",
     "text": [
      "\n",
      "level 0, 1 faces 2.00000. Diff = -0.00000\n",
      "\n",
      "level 1, 1 faces 4.00000. Diff = 0.00000\n",
      "level 0, 1 faces 2.33333. Diff = -0.16667\n",
      "\n",
      "level 2, 1 faces 8.00000. Diff = -0.00000\n",
      "level 1, 1 faces 4.40000. Diff = -0.10000\n",
      "level 0, 1 faces 2.68891. Diff = -0.21109\n",
      "\n",
      "level 3, 1 faces 16.00000. Diff = -0.00000\n",
      "level 2, 1 faces 8.44444. Diff = -0.05556\n",
      "level 1, 1 faces 5.00772. Diff = -0.34228\n",
      "level 0, 1 faces 2.84924. Diff = -0.05076\n",
      "\n",
      "level 4, 1 faces 32.00000. Diff = 0.00000\n",
      "level 3, 1 faces 16.47059. Diff = -0.02941\n",
      "level 2, 1 faces 9.52911. Diff = -0.49589\n",
      "level 1, 1 faces 5.25462. Diff = -0.09538\n",
      "level 0, 1 faces 2.89640. Diff = -0.00360\n",
      "\n",
      "level 5, 1 faces 64.00000. Diff = 0.00000\n",
      "level 4, 1 faces 32.48485. Diff = -0.01515\n",
      "level 3, 1 faces 18.49201. Diff = -0.54549\n",
      "level 2, 1 faces 9.94455. Diff = -0.08045\n",
      "level 1, 1 faces 5.32339. Diff = -0.02661\n",
      "level 0, 1 faces 2.90846. Diff = 0.00846\n",
      "\n",
      "level 6, 1 faces 128.00000. Diff = -0.00000\n",
      "level 5, 1 faces 64.49231. Diff = -0.00769\n",
      "level 4, 1 faces 36.37016. Diff = -0.18609\n",
      "level 3, 1 faces 19.24225. Diff = 0.20475\n",
      "level 2, 1 faces 10.05720. Diff = 0.03220\n",
      "level 1, 1 faces 5.34130. Diff = -0.00870\n",
      "level 0, 1 faces 2.91247. Diff = 0.01247\n",
      "\n",
      "level 7, 1 faces 256.00000. Diff = 0.00000\n",
      "level 6, 1 faces 128.49612. Diff = -0.00388\n",
      "level 5, 1 faces 72.10031. Diff = 1.26594\n",
      "level 4, 1 faces 37.78892. Diff = 1.23267\n",
      "level 3, 1 faces 19.44310. Diff = 0.40560\n",
      "level 2, 1 faces 10.08695. Diff = 0.06195\n",
      "level 1, 1 faces 5.34742. Diff = -0.00258\n",
      "level 0, 1 faces 2.91393. Diff = 0.01393\n",
      "\n",
      "level 8, 1 faces 512.00000. Diff = -0.00000\n",
      "level 7, 1 faces 256.49805. Diff = -0.00195\n",
      "level 6, 1 faces 143.54688. Diff = 5.29531\n",
      "level 5, 1 faces 74.85556. Diff = 4.02118\n",
      "level 4, 1 faces 38.16640. Diff = 1.61015\n",
      "level 3, 1 faces 19.49661. Diff = 0.45911\n",
      "level 2, 1 faces 10.09727. Diff = 0.07227\n",
      "level 1, 1 faces 5.34964. Diff = -0.00036\n",
      "level 0, 1 faces 2.91439. Diff = 0.01439\n",
      "\n",
      "level 9, 1 faces 1024.00000. Diff = -0.00000\n",
      "level 8, 1 faces 512.49903. Diff = -0.00097\n",
      "level 7, 1 faces 286.43298. Diff = 15.05563\n",
      "level 6, 1 faces 148.97485. Diff = 10.72328\n",
      "level 5, 1 faces 75.58644. Diff = 4.75206\n",
      "level 4, 1 faces 38.26748. Diff = 1.71123\n",
      "level 3, 1 faces 19.51530. Diff = 0.47780\n",
      "level 2, 1 faces 10.10098. Diff = 0.07598\n",
      "level 1, 1 faces 5.35033. Diff = 0.00033\n",
      "level 0, 1 faces 2.91452. Diff = 0.01452\n",
      "\n"
     ]
    }
   ],
   "source": [
    "for i in range(11):\n",
    "   outcomes_optimized(i,seed_of_interest=1, debug=1)\n",
    "   print(\"\")"
   ]
  },
  {
   "cell_type": "markdown",
   "metadata": {},
   "source": [
    "Hmm, the differences are kinda like a power series, maybe with a factor close 1.5\n",
    "Trying that out makes the diffs smaller, but nonzero."
   ]
  }
 ],
 "metadata": {
  "kernelspec": {
   "display_name": "Python 3",
   "language": "python",
   "name": "python3"
  },
  "language_info": {
   "codemirror_mode": {
    "name": "ipython",
    "version": 3
   },
   "file_extension": ".py",
   "mimetype": "text/x-python",
   "name": "python",
   "nbconvert_exporter": "python",
   "pygments_lexer": "ipython3",
   "version": "3.11.9"
  }
 },
 "nbformat": 4,
 "nbformat_minor": 2
}
