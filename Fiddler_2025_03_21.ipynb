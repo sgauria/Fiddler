{
 "cells": [
  {
   "cell_type": "markdown",
   "metadata": {},
   "source": [
    "This Week’s Extra Credit\n",
    "\n",
    "As before, the probability that an M-seed defeats an N-seed is N/(M+N). But instead of 16 teams in a region, now suppose there are 2k teams, where k is a very large whole number.\n",
    "\n",
    "The teams are seeded 1 through 2k, and play in a traditional seeded tournament format. That is, in the first round, the sum of opponents’ seeds is 2k+1. If the stronger team always advances, then the sum of opponents’ seeds in the second round is 2k−1+1, and so on. Of course, stronger teams may not always advance, but this convention tells you which seeds can play which other seeds in each round.\n",
    "\n",
    "For any such region with 2k teams, what is the probability that the 1-seed emerges victorious from the region?"
   ]
  },
  {
   "cell_type": "markdown",
   "metadata": {},
   "source": [
    "Plan is to create some code to calculate this probability and hope that it converges to something"
   ]
  },
  {
   "cell_type": "code",
   "execution_count": 25,
   "metadata": {},
   "outputs": [],
   "source": [
    "from fractions import Fraction\n",
    "def outcomes(k, level=0, min_seed=1):\n",
    "    \"\"\"This function takes k, level, and min_seed, which define where in the tree you are.\n",
    "    On the downward part of the recursion, it fills out the tree, figuring out who will play against whom.\n",
    "    On the upward part of the recursion, it calculates the probabilities of each outcome.\n",
    "    Final result is all the teams along with their probability of emerging victorious\"\"\"\n",
    "\n",
    "    if (level == k):\n",
    "        # At the leaf of the tree, just return each team with probability 1.\n",
    "        return {min_seed : 1}\n",
    "    next_level = level + 1\n",
    "    min_seed_sum = (2**next_level)+1\n",
    "    Ao = outcomes(k, next_level, min_seed)\n",
    "    Bo = outcomes(k, next_level, (min_seed_sum-min_seed))\n",
    "    result = {}\n",
    "    for a,pa in Ao.items():\n",
    "        for b,pb in Bo.items():\n",
    "            p_a_plays_b = pa * pb\n",
    "            p_a_wins = (b/(a+b)) * p_a_plays_b\n",
    "            p_b_wins = (a/(a+b)) * p_a_plays_b\n",
    "            result[a] = p_a_wins + (result[a] if (a in result) else 0)\n",
    "            result[b] = p_b_wins + (result[b] if (b in result) else 0)\n",
    "    \n",
    "    return result"
   ]
  },
  {
   "cell_type": "markdown",
   "metadata": {},
   "source": [
    "Now lets try it out"
   ]
  },
  {
   "cell_type": "code",
   "execution_count": 26,
   "metadata": {},
   "outputs": [
    {
     "data": {
      "text/plain": [
       "{1: 0.6666666666666666, 2: 0.3333333333333333}"
      ]
     },
     "execution_count": 26,
     "metadata": {},
     "output_type": "execute_result"
    }
   ],
   "source": [
    "outcomes(1)"
   ]
  },
  {
   "cell_type": "markdown",
   "metadata": {},
   "source": [
    "Makes sense."
   ]
  },
  {
   "cell_type": "code",
   "execution_count": 27,
   "metadata": {},
   "outputs": [
    {
     "data": {
      "text/plain": [
       "{1: 0.56,\n",
       " 2: 0.23999999999999996,\n",
       " 3: 0.12571428571428572,\n",
       " 4: 0.07428571428571429}"
      ]
     },
     "execution_count": 27,
     "metadata": {},
     "output_type": "execute_result"
    }
   ],
   "source": [
    "outcomes(2)"
   ]
  },
  {
   "cell_type": "markdown",
   "metadata": {},
   "source": [
    "Matches hand-calculation.\n",
    "So, let's proceed and plot the probability of the 1-seed emerging as k varies."
   ]
  },
  {
   "cell_type": "code",
   "execution_count": 30,
   "metadata": {},
   "outputs": [
    {
     "data": {
      "image/png": "[encoded data removed]",
      "text/plain": [
       "<Figure size 640x480 with 1 Axes>"
      ]
     },
     "metadata": {},
     "output_type": "display_data"
    }
   ],
   "source": [
    "N=13\n",
    "ks = range(1,N+1)\n",
    "ps = [outcomes(k)[1] for k in ks]\n",
    "import matplotlib.pyplot as plt\n",
    "plt.plot(ks, ps)\n",
    "plt.show()"
   ]
  },
  {
   "cell_type": "code",
   "execution_count": 31,
   "metadata": {},
   "outputs": [
    {
     "name": "stdout",
     "output_type": "stream",
     "text": [
      "0.6666666666666666\n",
      "0.56\n",
      "0.5279401592158794\n",
      "0.519218355130161\n",
      "0.5166943992619706\n",
      "0.515833745724985\n",
      "0.5155445666341768\n",
      "0.5154592300379058\n",
      "0.515437219149804\n",
      "0.5154322958839175\n",
      "0.5154314095552367\n",
      "0.5154313229728595\n",
      "0.5154313454474814\n"
     ]
    }
   ],
   "source": [
    "for p in ps:\n",
    "    print(p)"
   ]
  },
  {
   "cell_type": "markdown",
   "metadata": {},
   "source": []
  }
 ],
 "metadata": {
  "kernelspec": {
   "display_name": "Python 3",
   "language": "python",
   "name": "python3"
  },
  "language_info": {
   "codemirror_mode": {
    "name": "ipython",
    "version": 3
   },
   "file_extension": ".py",
   "mimetype": "text/x-python",
   "name": "python",
   "nbconvert_exporter": "python",
   "pygments_lexer": "ipython3",
   "version": "3.11.9"
  }
 },
 "nbformat": 4,
 "nbformat_minor": 2
}
