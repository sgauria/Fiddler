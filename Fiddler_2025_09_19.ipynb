{
 "cells": [
  {
   "cell_type": "markdown",
   "id": "e103c6bc",
   "metadata": {},
   "source": [
    "# Puzzle\n",
    "\n",
    "https://thefiddler.substack.com/p/can-your-team-self-organize\n",
    "\n",
    "**This Week’s Fiddler**\n",
    "\n",
    "...\n",
    "\n",
    "Suppose a total of four people are participating in this team building exercise. They all write down different numbers, and then independently place their names at random positions on the line.\n",
    "\n",
    "On average, what do you expect the team’s score to be?\n",
    "\n",
    "**This Week’s Extra Credit**\n",
    "\n",
    "Instead of four people, now suppose there are 10 people participating in the team building exercise. As before, they all write down different numbers, and then independently place their names at random positions on the line.\n",
    "\n",
    "On average, what do you expect the team’s score to be?\n"
   ]
  },
  {
   "cell_type": "markdown",
   "id": "08c5ccbe",
   "metadata": {},
   "source": [
    "# Solution\n",
    "\n",
    "I worked out the fiddler case mentally, and I believe the answer is 29/12 = 2.41667\n",
    "\n",
    "Lacking grand insights, I am going to write some code for the extra credit."
   ]
  },
  {
   "cell_type": "code",
   "execution_count": 27,
   "id": "4ac83059",
   "metadata": {},
   "outputs": [],
   "source": [
    "# The copilot suggested code is tidy, but there is no reuse of computed results.\n",
    "# The recursive code is less tidy, but it does reuse computed results.\n",
    "def find_longest_increasing_subseq_length(arr):\n",
    "    if not arr:\n",
    "        return 0\n",
    "    n = len(arr)\n",
    "    lis = [1] * n  # Initialize LIS values for all indexes as 1\n",
    "    # Compute optimized LIS values in a bottom-up manner\n",
    "    for i in range(1, n):\n",
    "        for j in range(i):\n",
    "            if arr[i] > arr[j] and lis[i] < lis[j] + 1:\n",
    "                lis[i] = lis[j] + 1\n",
    "    return max(lis)\n",
    "\n",
    "assert find_longest_increasing_subseq_length('ACBD') == 3\n",
    "\n",
    "from functools import cache\n",
    "@cache\n",
    "def find_longest_increasing_subseq_length_recursive(arr):\n",
    "    length = len(arr)\n",
    "    result = 0\n",
    "    if length <= 1:\n",
    "        result = length\n",
    "    elif length == 2:\n",
    "        result = 2 if arr[1] > arr[0] else 1\n",
    "    else:\n",
    "        max_pos = 0\n",
    "        max_elem = arr[0]\n",
    "        for i in range(1,length):\n",
    "            if arr[i] > max_elem:\n",
    "                max_elem = arr[i]\n",
    "                max_pos = i\n",
    "        maxlen_incl_maxelem, maxlen_excl_maxelem = 0, 0\n",
    "        if max_pos > 0:\n",
    "            maxlen_incl_maxelem = 1 + find_longest_increasing_subseq_length_recursive(arr[:max_pos])\n",
    "        if max_pos < length - 1:\n",
    "            maxlen_excl_maxelem = find_longest_increasing_subseq_length_recursive(arr[:max_pos]+arr[max_pos + 1:])\n",
    "        result = max(maxlen_incl_maxelem, maxlen_excl_maxelem)\n",
    "    return result\n",
    "\n",
    "assert find_longest_increasing_subseq_length_recursive('ACBDGEHF') == 5"
   ]
  },
  {
   "cell_type": "code",
   "execution_count": 28,
   "id": "3720859a",
   "metadata": {},
   "outputs": [],
   "source": [
    "from itertools import permutations\n",
    "def expected_lislen(arr, lisl_fn=find_longest_increasing_subseq_length):\n",
    "    E_sum = 0\n",
    "    E_cnt = 0\n",
    "    for perm in permutations(arr):\n",
    "        E_sum += lisl_fn(perm)\n",
    "        E_cnt += 1\n",
    "    return E_sum / E_cnt\n",
    "\n",
    "assert expected_lislen('ABC', find_longest_increasing_subseq_length) == 2\n",
    "assert expected_lislen('ABC', find_longest_increasing_subseq_length_recursive) == 2"
   ]
  },
  {
   "cell_type": "code",
   "execution_count": 29,
   "id": "dc13a137",
   "metadata": {},
   "outputs": [
    {
     "name": "stdout",
     "output_type": "stream",
     "text": [
      "Fiddler_answer=2.4166666666666665\n",
      "Fiddler_answer=2.4166666666666665\n"
     ]
    }
   ],
   "source": [
    "Fiddler_answer = expected_lislen('ABCD', find_longest_increasing_subseq_length)\n",
    "print(f'Fiddler_answer={Fiddler_answer}')\n",
    "Fiddler_answer = expected_lislen('ABCD', find_longest_increasing_subseq_length_recursive)\n",
    "print(f'Fiddler_answer={Fiddler_answer}')"
   ]
  },
  {
   "cell_type": "code",
   "execution_count": 30,
   "id": "fb14bdc0",
   "metadata": {},
   "outputs": [
    {
     "name": "stdout",
     "output_type": "stream",
     "text": [
      "Extra_Credit_answer=4.33496059303351\n",
      "Extra_Credit_answer=4.33496059303351\n"
     ]
    }
   ],
   "source": [
    "Extra_Credit_answer = expected_lislen('ABCDEFGHIJ', find_longest_increasing_subseq_length)\n",
    "print(f'Extra_Credit_answer={Extra_Credit_answer}')\n",
    "Extra_Credit_answer = expected_lislen('ABCDEFGHIJ', find_longest_increasing_subseq_length_recursive)\n",
    "print(f'Extra_Credit_answer={Extra_Credit_answer}')"
   ]
  },
  {
   "cell_type": "code",
   "execution_count": 32,
   "id": "3bf9471c",
   "metadata": {},
   "outputs": [
    {
     "name": "stdout",
     "output_type": "stream",
     "text": [
      "arr=AB, expected_lislen=1.5\n",
      "arr=ABC, expected_lislen=2.0\n",
      "arr=ABCD, expected_lislen=2.4166666666666665\n",
      "arr=ABCDE, expected_lislen=2.7916666666666665\n",
      "arr=ABCDEF, expected_lislen=3.140277777777778\n",
      "arr=ABCDEFG, expected_lislen=3.4652777777777777\n",
      "arr=ABCDEFGH, expected_lislen=3.7703373015873014\n",
      "arr=ABCDEFGHI, expected_lislen=4.059350198412698\n",
      "arr=ABCDEFGHIJ, expected_lislen=4.33496059303351\n",
      "arr=ABCDEFGHIJK, expected_lislen=4.598861055996473\n"
     ]
    }
   ],
   "source": [
    "for i in range(2, 12):\n",
    "    arr = ''.join(chr(ord('A') + j) for j in range(i))\n",
    "    ans = expected_lislen(arr, find_longest_increasing_subseq_length_recursive)\n",
    "    print(f'arr={arr}, expected_lislen={ans}')"
   ]
  },
  {
   "cell_type": "markdown",
   "id": "65819a7d",
   "metadata": {},
   "source": [
    "# Conclusions\n",
    "\n",
    "**Fiddler_answer=2.4166666666666665**\n",
    "\n",
    "**Extra_Credit_answer=4.33496059303351**\n",
    "\n",
    "The recursive code is faster, but not by that much at n=10.\n",
    "\n",
    "The runtime seems to increase quickly beyond n=10, but that might be an artifact of the cache."
   ]
  }
 ],
 "metadata": {
  "kernelspec": {
   "display_name": "Python 3",
   "language": "python",
   "name": "python3"
  },
  "language_info": {
   "codemirror_mode": {
    "name": "ipython",
    "version": 3
   },
   "file_extension": ".py",
   "mimetype": "text/x-python",
   "name": "python",
   "nbconvert_exporter": "python",
   "pygments_lexer": "ipython3",
   "version": "3.11.9"
  }
 },
 "nbformat": 4,
 "nbformat_minor": 5
}
