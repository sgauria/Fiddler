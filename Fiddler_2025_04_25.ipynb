{
 "cells": [
  {
   "cell_type": "markdown",
   "id": "3246b9d8",
   "metadata": {},
   "source": [
    "https://thefiddler.substack.com/p/can-you-see-between-the-trees\n",
    "\n",
    "---\n",
    "\n",
    "Um, I can't think of any clever way to solve these puzzles, so I am just going to write some code.\n",
    "\n",
    "---"
   ]
  },
  {
   "cell_type": "code",
   "execution_count": 71,
   "id": "6d3febf8",
   "metadata": {},
   "outputs": [
    {
     "data": {
      "text/plain": [
       "[(18.43494882292201, 71.56505117707799, 90.0, 1, 3, 0, 1),\n",
       " (18.43494882292201, 0.0, 18.43494882292201, 1, 0, 3, 1),\n",
       " (11.309932474020215, 45.0, 56.309932474020215, 1, 1, 2, 3),\n",
       " (11.309932474020215, 33.690067525979785, 45.0, 3, 2, 1, 1),\n",
       " (8.13010235415598, 63.43494882292201, 71.56505117707799, 1, 2, 1, 3),\n",
       " (8.13010235415598, 18.43494882292201, 26.56505117707799, 3, 1, 2, 1),\n",
       " (7.125016348901795, 56.309932474020215, 63.43494882292201, 2, 3, 1, 2),\n",
       " (7.125016348901795, 26.56505117707799, 33.690067525979785, 2, 1, 3, 2)]"
      ]
     },
     "execution_count": 71,
     "metadata": {},
     "output_type": "execute_result"
    }
   ],
   "source": [
    "import math as m\n",
    "\n",
    "# V is the visibility (distance that you can see)\n",
    "def find_sorted_gaps(V, full_quadrant=True):\n",
    "    pts = []\n",
    "    V_sq = V*V\n",
    "    for x in range(V+1):\n",
    "        x_sq = x*x\n",
    "        for y in range((V if full_quadrant else x)+1):\n",
    "            if (x != 0 or y != 0):\n",
    "                y_sq = y*y\n",
    "                if (x_sq + y_sq <= V_sq):\n",
    "                    if (m.gcd(x,y) == 1):\n",
    "                        # Found a valid visible point.\n",
    "                        a = m.degrees(m.atan2(y,x))\n",
    "                        pts.append((a,x,y))\n",
    "    \n",
    "    pts.sort()\n",
    "    l_pts = len(pts)\n",
    "\n",
    "    gaps = []\n",
    "    for i in range(l_pts-1):\n",
    "        a1,x1,y1 = pts[i]\n",
    "        a2,x2,y2 = pts[i+1]\n",
    "        g = a2 - a1\n",
    "        gaps.append((g,a1,a2,x1,y1,x2,y2))\n",
    "\n",
    "    gaps.sort(reverse=True)\n",
    "\n",
    "    return gaps\n",
    "\n",
    "find_sorted_gaps(4, full_quadrant=True)"
   ]
  },
  {
   "cell_type": "markdown",
   "id": "fbe3fb9c",
   "metadata": {},
   "source": [
    "Looks good so far. Matches up with the example provided."
   ]
  },
  {
   "cell_type": "code",
   "execution_count": 72,
   "id": "6cb50388",
   "metadata": {},
   "outputs": [],
   "source": [
    "def top_gap_locs(V, idx_lo=0, idx_hi=20, full_quadrant=False):\n",
    "    gaps = find_sorted_gaps(V, full_quadrant=full_quadrant)\n",
    "    locs = []\n",
    "    for i in range(idx_lo, idx_hi + 1):\n",
    "        if (i < len(gaps)):\n",
    "            g = gaps[i]\n",
    "            sz, a1, a2 = g[0], g[1], g[2]\n",
    "            #a_avg = (a1+a2)/2\n",
    "            locs.append(f\"{a1=}, {a2=}, {sz=}\")\n",
    "\n",
    "    locs.sort()\n",
    "    return locs"
   ]
  },
  {
   "cell_type": "markdown",
   "id": "3a242aec",
   "metadata": {},
   "source": [
    "----\n",
    "\n",
    "Let's use that code to find the solution to the Fiddler, which wants the largest pair of gap in the range 0 to 45 after the ones next to 0 and 45."
   ]
  },
  {
   "cell_type": "code",
   "execution_count": 73,
   "id": "315add3e",
   "metadata": {},
   "outputs": [
    {
     "name": "stdout",
     "output_type": "stream",
     "text": [
      "['a1=25.20112364547507, a2=26.56505117707799, sz=1.3639275316029185', 'a1=26.56505117707799, a2=27.89727103094763, sz=1.3322198538696384']\n",
      "['a1=25.709953780811265, a2=26.56505117707799, sz=0.855097396266725', 'a1=26.56505117707799, a2=27.474431626277134, sz=0.9093804491991442']\n",
      "['a1=25.906507999514385, a2=26.56505117707799, sz=0.6585431775636046', 'a1=26.56505117707799, a2=27.216111557307478, sz=0.6510603802294881']\n",
      "['a1=26.02959219151346, a2=26.56505117707799, sz=0.5354589855645315', 'a1=26.56505117707799, a2=27.0955524937518, sz=0.53050131667381']\n",
      "['a1=26.13100054493858, a2=26.56505117707799, sz=0.4340506321394102', 'a1=26.56505117707799, a2=26.99583839408662, sz=0.43078721700862843']\n",
      "['a1=26.188110697480855, a2=26.56505117707799, sz=0.3769404795971347', 'a1=26.56505117707799, a2=26.939528063800815, sz=0.37447688672282453']\n",
      "['a1=26.241349652157766, a2=26.56505117707799, sz=0.3237015249202244', 'a1=26.56505117707799, a2=26.886934192476716, sz=0.32188301539872555']\n",
      "['a1=26.274212154727437, a2=26.56505117707799, sz=0.2908390223505535', 'a1=26.56505117707799, a2=26.85442134051859, sz=0.2893701634406014']\n",
      "['a1=26.306963825741803, a2=26.56505117707799, sz=0.25808735133618654', 'a1=26.56505117707799, a2=26.8219812015815, sz=0.2569300245035109']\n",
      "['a1=26.32829310517088, a2=26.56505117707799, sz=0.2367580719071114', 'a1=26.56505117707799, a2=26.800834946954602, sz=0.23578376987661187']\n",
      "['a1=26.350461245948594, a2=26.56505117707799, sz=0.21458993112939595', 'a1=26.56505117707799, a2=26.77884040695511, sz=0.21378922987711846']\n",
      "['a1=26.36541512255361, a2=26.56505117707799, sz=0.1996360545243796', 'a1=26.56505117707799, a2=26.76399405643862, sz=0.19894287936062938']\n",
      "['a1=26.381411486958214, a2=26.56505117707799, sz=0.18363969011977588', 'a1=26.56505117707799, a2=26.74810416292146, sz=0.18305298584347085']\n",
      "['a1=26.392474049839155, a2=26.56505117707799, sz=0.172577127238835', 'a1=26.56505117707799, a2=26.73711005780587, sz=0.17205888072788156']\n",
      "['a1=26.40455921724337, a2=26.56505117707799, sz=0.16049195983461928', 'a1=26.56505117707799, a2=26.727361733014682, sz=0.16231055593669197']\n",
      "['a1=26.413073338514096, a2=26.56505117707799, sz=0.15197783856389435', 'a1=26.56505117707799, a2=26.7166269597463, sz=0.15157578266830996']\n",
      "['a1=26.422524656351417, a2=26.56505117707799, sz=0.14252652072657312', 'a1=26.56505117707799, a2=26.709010119149994, sz=0.143958942072004']\n",
      "['a1=26.429279441844372, a2=26.56505117707799, sz=0.13577173523361807', 'a1=26.56505117707799, a2=26.700501940139578, sz=0.13545076306158776']\n"
     ]
    }
   ],
   "source": [
    "for V in range(20,200,10):\n",
    "    print(top_gap_locs(V,2,3))"
   ]
  },
  {
   "cell_type": "markdown",
   "id": "06de2218",
   "metadata": {},
   "source": [
    "From the output above (and below), we can see that the desired pair of gaps is around the angle 26.565 degrees.\n",
    "\n",
    "**And the answer to the fiddler is 26.56505117707799 degrees (corresponding to the tree at point x=2,y=1)**\n",
    "\n",
    "---"
   ]
  },
  {
   "cell_type": "markdown",
   "id": "5b7ecbba",
   "metadata": {},
   "source": [
    "The extra credit: \"The fifth largest pair of adjacent gaps in this range are on either side of what angle up from the x-axis? \"\n",
    "So, let's first study the output to make sure that things are paired as we expect."
   ]
  },
  {
   "cell_type": "code",
   "execution_count": 74,
   "id": "c6c37163",
   "metadata": {},
   "outputs": [
    {
     "data": {
      "text/plain": [
       "[(0.5787255656077621, 0.0, 0.5787255656077621, 1, 0, 99, 1),\n",
       " (0.4063462333090371, 44.59365376669096, 45.0, 71, 70, 1, 1),\n",
       " (0.25808735133618654, 26.306963825741803, 26.56505117707799, 89, 44, 2, 1),\n",
       " (0.2569300245035109, 26.56505117707799, 26.8219812015815, 2, 1, 89, 45),\n",
       " (0.18663054356556685, 18.43494882292201, 18.621579366487577, 3, 1, 92, 31),\n",
       " (0.1830529858434673, 18.251895837078543, 18.43494882292201, 94, 31, 3, 1),\n",
       " (0.1609427775784127, 33.690067525979785, 33.8510103035582, 3, 2, 82, 55),\n",
       " (0.15959785884668776, 33.5304696671331, 33.690067525979785, 83, 55, 3, 2),\n",
       " (0.1418209467804239, 14.036243467926479, 14.178064414706903, 4, 1, 95, 24),\n",
       " (0.13906715291111915, 13.89717631501536, 14.036243467926479, 97, 24, 4, 1),\n",
       " (0.11887074129995767, 36.86989764584402, 36.98876838714398, 4, 3, 77, 58),\n",
       " (0.11716911992492385, 11.309932474020213, 11.427101593945137, 5, 1, 94, 19),\n",
       " (0.11621846031255245, 36.75367918553147, 36.86989764584402, 79, 59, 4, 3),\n",
       " (0.11482104772023582, 11.195111426299977, 11.309932474020213, 96, 19, 5, 1),\n",
       " (0.11234452173600928, 21.689064964615802, 21.80140948635181, 88, 35, 5, 2),\n",
       " (0.10729534183010614, 21.80140948635181, 21.908704828181918, 5, 2, 92, 37),\n",
       " (0.10286484372402072, 30.8608916883495, 30.96375653207352, 82, 49, 5, 3),\n",
       " (0.10140835342512844, 30.96375653207352, 31.06516488549865, 5, 3, 83, 50),\n",
       " (0.09777427286068452, 9.462322208025617, 9.560096480886301, 6, 1, 95, 16),\n",
       " (0.09581225101349489, 9.366509957012122, 9.462322208025617, 97, 16, 6, 1)]"
      ]
     },
     "execution_count": 74,
     "metadata": {},
     "output_type": "execute_result"
    }
   ],
   "source": [
    "gg = find_sorted_gaps(100, full_quadrant=False)\n",
    "gg[0:20]"
   ]
  },
  {
   "cell_type": "markdown",
   "id": "9d850347",
   "metadata": {},
   "source": [
    "Things do seem to pair up nicely.\n",
    "\n",
    "But the pair around 36.87 and 11.31 seem to be very close in size, and it is not clear which is larger. Let's see if things are clearer with larger V."
   ]
  },
  {
   "cell_type": "code",
   "execution_count": 75,
   "id": "86ccaa10",
   "metadata": {},
   "outputs": [
    {
     "data": {
      "text/plain": [
       "[(0.011500557756647822, 36.86989764584402, 36.88139820360067, 4, 3, 797, 598),\n",
       " (0.011475221058880436, 36.85842242478514, 36.86989764584402, 799, 599, 4, 3),\n",
       " (0.01128980862493556, 11.298642665395278, 11.309932474020213, 976, 195, 5, 1),\n",
       " (0.011254327003772602,\n",
       "  11.309932474020213,\n",
       "  11.321186801023986,\n",
       "  5,\n",
       "  1,\n",
       "  979,\n",
       "  196)]"
      ]
     },
     "execution_count": 75,
     "metadata": {},
     "output_type": "execute_result"
    }
   ],
   "source": [
    "gg2 = find_sorted_gaps(1000, full_quadrant=False)\n",
    "gg2[10:14]"
   ]
  },
  {
   "cell_type": "markdown",
   "id": "ff2d41b1",
   "metadata": {},
   "source": [
    "Trying out various larger values of V (200, 500, 1000, 10000), it is clear that the gap around 36.8698 is larger than the gap around 11.3099. \n",
    "\n",
    "**And so, the answer to the extra credit is 36.86989764584402 degrees (corresponding to the tree at point x=4,y=3).**\n",
    "\n",
    "----"
   ]
  }
 ],
 "metadata": {
  "kernelspec": {
   "display_name": "Python 3",
   "language": "python",
   "name": "python3"
  },
  "language_info": {
   "codemirror_mode": {
    "name": "ipython",
    "version": 3
   },
   "file_extension": ".py",
   "mimetype": "text/x-python",
   "name": "python",
   "nbconvert_exporter": "python",
   "pygments_lexer": "ipython3",
   "version": "3.11.9"
  }
 },
 "nbformat": 4,
 "nbformat_minor": 5
}
