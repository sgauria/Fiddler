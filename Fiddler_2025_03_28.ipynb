{
 "cells": [
  {
   "cell_type": "markdown",
   "metadata": {},
   "source": [
    "This Week’s Fiddler\n",
    "\n",
    "From Emilie Mitchell comes another March Madness mystery:\n",
    "\n",
    "Once again, there are four teams remaining in a bracket: the 1-seed, the 2-seed, the 3-seed, and the 4-seed. In the first round, the 1-seed faces the 4-seed, while the 2-seed faces the 3-seed. The winners of these two matches then face each other in the regional final.\n",
    "\n",
    "Also, each team possesses a “power index” equal to 5 minus that team’s seed. In other words:\n",
    "\n",
    "    The 1-seed has a power index of 4.\n",
    "\n",
    "    The 2-seed has a power index of 3.\n",
    "\n",
    "    The 3-seed has a power index of 2.\n",
    "\n",
    "    The 4-seed has a power index of 1.\n",
    "\n",
    "In any given matchup, the team with the greater power index would emerge victorious. However, March Madness fans love to root for the underdog. As a result, the team with the lower power index gets an effective “boost” B, where B is some positive non-integer. For example, B could be 0.5, 133.7, or 2𝜋, but not 1 or 42.\n",
    "\n",
    "As an illustration, consider the matchup between the 2- and 3-seeds. The favored 2-seed has a power index of 3, while the underdog 3-seed has a power index of 2+B. When B is greater than 1, the 3-seed will defeat the 2-seed in an upset.\n",
    "\n",
    "Depending on the value of B, different teams will win the tournament. Of the four teams, how many can never win, regardless of the value of B?\n",
    "\n",
    "\n",
    "\n",
    "This Week’s Extra Credit\n",
    "\n",
    "From Emilie Mitchell also comes some extra credit:\n",
    "\n",
    "Instead of four teams, now there are 2^6, or 64, seeded from 1 through 64. The power index of each team is equal to 65 minus that team’s seed.\n",
    "\n",
    "The teams play in a traditional seeded tournament format. That is, in the first round, the sum of opponents’ seeds is 26+1, or 65. If the stronger team always advances, then the sum of opponents’ seeds in the second round is 25+1, or 33, and so on.\n",
    "\n",
    "Once again, the underdog in every match gets a power index boost B, where B is some positive non-integer. Depending on the value of B, different teams will win the tournament. Of the 64 teams, how many can never win, regardless of the value of B?"
   ]
  },
  {
   "cell_type": "markdown",
   "metadata": {},
   "source": [
    "--- Let's create functions to calculate the winner for a particular input lineup and B value.\n",
    "It should suffice to check a finite set of B values 0.1, 1.1 .... 64.1"
   ]
  },
  {
   "cell_type": "code",
   "execution_count": 85,
   "metadata": {},
   "outputs": [
    {
     "data": {
      "text/plain": [
       "[1, 8, 4, 5, 2, 7, 3, 6]"
      ]
     },
     "execution_count": 85,
     "metadata": {},
     "output_type": "execute_result"
    }
   ],
   "source": [
    "def lineup(depth, level=0, min_seed=1):\n",
    "    \"\"\"depth is how deep you want the tournament tree to be.\"\"\"\n",
    "    if (level == depth):\n",
    "        # At the leaf of the tree, just return each team with probability 1.\n",
    "        return [min_seed]\n",
    "    next_level = level + 1\n",
    "    min_seed_sum = (2**next_level)+1\n",
    "    A = lineup(depth, next_level, min_seed)\n",
    "    B = lineup(depth, next_level, (min_seed_sum-min_seed))\n",
    "    return A + B\n",
    "\n",
    "lineup(3)"
   ]
  },
  {
   "cell_type": "code",
   "execution_count": 86,
   "metadata": {},
   "outputs": [
    {
     "data": {
      "text/plain": [
       "7"
      ]
     },
     "execution_count": 86,
     "metadata": {},
     "output_type": "execute_result"
    }
   ],
   "source": [
    "def one_match(u, v, power_index_base, B=0):\n",
    "    p_u = power_index_base - u\n",
    "    p_v = power_index_base - v\n",
    "    if (p_u < p_v):\n",
    "        p_u += B\n",
    "    else:\n",
    "        p_v += B\n",
    "    match_winner = u if (p_u > p_v) else v\n",
    "    return match_winner\n",
    "\n",
    "one_match(2,7,9,9)"
   ]
  },
  {
   "cell_type": "code",
   "execution_count": 87,
   "metadata": {},
   "outputs": [
    {
     "data": {
      "text/plain": [
       "1"
      ]
     },
     "execution_count": 87,
     "metadata": {},
     "output_type": "execute_result"
    }
   ],
   "source": [
    "def one_tournament(in_teams, power_index_base, B=0):\n",
    "    teams = in_teams\n",
    "    while (len(teams) > 1):\n",
    "        winners = []\n",
    "        for i in range(0,len(teams),2):\n",
    "            u,v = teams[i], teams[i+1]\n",
    "            w = one_match(u,v,power_index_base,B)\n",
    "            winners.append(w)\n",
    "        teams = winners\n",
    "    return winners[0]\n",
    "\n",
    "one_tournament([1,4,2,3], 5, 0)\n"
   ]
  },
  {
   "cell_type": "code",
   "execution_count": 105,
   "metadata": {},
   "outputs": [
    {
     "name": "stdout",
     "output_type": "stream",
     "text": [
      "[1, 8, 4, 5, 2, 7, 3, 6]\n",
      "B=0.1   winner=1\n",
      "B=1.1   winner=1\n",
      "B=2.1   winner=3\n",
      "B=3.1   winner=2\n",
      "B=4.1   winner=6\n",
      "B=5.1   winner=7\n",
      "B=6.1   winner=7\n",
      "B=7.1   winner=8\n",
      "[4, 5]\n"
     ]
    },
    {
     "data": {
      "text/plain": [
       "2"
      ]
     },
     "execution_count": 105,
     "metadata": {},
     "output_type": "execute_result"
    }
   ],
   "source": [
    "def find_num_possible_non_winners(depth, debug=0):\n",
    "    all_teams = lineup(depth)\n",
    "    if (debug > 1):\n",
    "        print(all_teams)\n",
    "    winners =[]\n",
    "    power_index_base = (2**depth)+1\n",
    "    for X in range(power_index_base-1):\n",
    "        B = X + 0.1\n",
    "        winner = one_tournament(all_teams, power_index_base, B)\n",
    "        winners.append(winner)\n",
    "        if (debug > 1):\n",
    "            print(f\"{B=}   {winner=}\")\n",
    "    winners = list(set(winners))\n",
    "    non_winners = list(set(all_teams) - set(winners))\n",
    "    if (debug > 0):\n",
    "        print(non_winners)\n",
    "    return len(non_winners)\n",
    "\n",
    "find_num_possible_non_winners(3,2)"
   ]
  },
  {
   "cell_type": "markdown",
   "metadata": {},
   "source": [
    "Now with all those functions in place, lets' solve the base fiddler."
   ]
  },
  {
   "cell_type": "code",
   "execution_count": 97,
   "metadata": {},
   "outputs": [
    {
     "data": {
      "text/plain": [
       "1"
      ]
     },
     "execution_count": 97,
     "metadata": {},
     "output_type": "execute_result"
    }
   ],
   "source": [
    "find_num_possible_non_winners(2)"
   ]
  },
  {
   "cell_type": "markdown",
   "metadata": {},
   "source": [
    "Looks correct.\n",
    "And solve the extra credit."
   ]
  },
  {
   "cell_type": "code",
   "execution_count": 98,
   "metadata": {},
   "outputs": [
    {
     "data": {
      "text/plain": [
       "27"
      ]
     },
     "execution_count": 98,
     "metadata": {},
     "output_type": "execute_result"
    }
   ],
   "source": [
    "find_num_possible_non_winners(6)"
   ]
  },
  {
   "cell_type": "markdown",
   "metadata": {},
   "source": [
    "Let's see how the fraction of non-winners evolves with the depth of the tournament tree."
   ]
  },
  {
   "cell_type": "code",
   "execution_count": 99,
   "metadata": {},
   "outputs": [],
   "source": [
    "def find_fraction_of_non_winners(depth, debug=0):\n",
    "    total = 2**depth\n",
    "    non_winners = find_num_possible_non_winners(depth, debug)\n",
    "    return (non_winners / total)"
   ]
  },
  {
   "cell_type": "code",
   "execution_count": 95,
   "metadata": {},
   "outputs": [
    {
     "name": "stdout",
     "output_type": "stream",
     "text": [
      "[0.0, 0.25, 0.25, 0.3125, 0.375, 0.421875, 0.453125, 0.47265625, 0.484375, 0.4912109375, 0.4951171875, 0.497314453125, 0.49853515625, 0.49920654296875, 0.49957275390625]\n"
     ]
    },
    {
     "data": {
      "image/png": "[encoded data removed]",
      "text/plain": [
       "<Figure size 640x480 with 1 Axes>"
      ]
     },
     "metadata": {},
     "output_type": "display_data"
    }
   ],
   "source": [
    "import matplotlib.pyplot as plt\n",
    "N1=15\n",
    "x_list = range(1,N1+1)\n",
    "y_list = [find_fraction_of_non_winners(k) for k in x_list]\n",
    "print ( y_list )\n",
    "plt.plot(x_list, y_list)\n",
    "plt.show()"
   ]
  },
  {
   "cell_type": "markdown",
   "metadata": {},
   "source": [
    "Interesting little kink for small sizes.\n",
    "\n",
    "And it clearly converges to 0.5\n",
    "Wonder if there is a way to reason that out directly.\n",
    "\n",
    "Actually, I see something. \n",
    "In the firt round, teams are paired up in a specific way.\n",
    "If seed A is playing seed B, then A + B = 2^k + 1, which is odd.\n",
    "Which means one of A and B is an odd seed, and the other is an even seed.\n",
    "So, the differences in seedings = |A-B| are also odd.\n",
    "Which means that while we have, say 64 teams, there are only 32 possible values for the differences in seedings.\n",
    "So, at least for the first round, there are only  33 ranges of values of B that are interesting.\n",
    "\n",
    "Not sure about propagating the reasoning to later rounds, but it's a good start.\n",
    "\n",
    "And we can see a similar pattern when checking which seed wins with each value of B in the printout below.\n",
    "Very frequently, the winner is the same for 2 successive values of B, and changes to another one for the next two, and so on.\n",
    "Example (for 64 teams):\n",
    "B=17.1   winner=23\n",
    "B=18.1   winner=23\n",
    "B=19.1   winner=22\n",
    "B=20.1   winner=22\n",
    "B=21.1   winner=21\n",
    "B=22.1   winner=21"
   ]
  },
  {
   "cell_type": "code",
   "execution_count": 107,
   "metadata": {},
   "outputs": [
    {
     "name": "stdout",
     "output_type": "stream",
     "text": [
      "[1, 64, 32, 33, 16, 49, 17, 48, 8, 57, 25, 40, 9, 56, 24, 41, 4, 61, 29, 36, 13, 52, 20, 45, 5, 60, 28, 37, 12, 53, 21, 44, 2, 63, 31, 34, 15, 50, 18, 47, 7, 58, 26, 39, 10, 55, 23, 42, 3, 62, 30, 35, 14, 51, 19, 46, 6, 59, 27, 38, 11, 54, 22, 43]\n",
      "B=0.1   winner=1\n",
      "B=1.1   winner=1\n",
      "B=2.1   winner=3\n",
      "B=3.1   winner=2\n",
      "B=4.1   winner=6\n",
      "B=5.1   winner=5\n",
      "B=6.1   winner=5\n",
      "B=7.1   winner=4\n",
      "B=8.1   winner=12\n",
      "B=9.1   winner=11\n",
      "B=10.1   winner=11\n",
      "B=11.1   winner=10\n",
      "B=12.1   winner=10\n",
      "B=13.1   winner=9\n",
      "B=14.1   winner=9\n",
      "B=15.1   winner=8\n",
      "B=16.1   winner=24\n",
      "B=17.1   winner=23\n",
      "B=18.1   winner=23\n",
      "B=19.1   winner=22\n",
      "B=20.1   winner=22\n",
      "B=21.1   winner=21\n",
      "B=22.1   winner=21\n",
      "B=23.1   winner=20\n",
      "B=24.1   winner=20\n",
      "B=25.1   winner=19\n",
      "B=26.1   winner=19\n",
      "B=27.1   winner=18\n",
      "B=28.1   winner=18\n",
      "B=29.1   winner=17\n",
      "B=30.1   winner=17\n",
      "B=31.1   winner=16\n",
      "B=32.1   winner=48\n",
      "B=33.1   winner=49\n",
      "B=34.1   winner=49\n",
      "B=35.1   winner=50\n",
      "B=36.1   winner=50\n",
      "B=37.1   winner=51\n",
      "B=38.1   winner=51\n",
      "B=39.1   winner=52\n",
      "B=40.1   winner=52\n",
      "B=41.1   winner=53\n",
      "B=42.1   winner=53\n",
      "B=43.1   winner=54\n",
      "B=44.1   winner=54\n",
      "B=45.1   winner=55\n",
      "B=46.1   winner=55\n",
      "B=47.1   winner=56\n",
      "B=48.1   winner=56\n",
      "B=49.1   winner=57\n",
      "B=50.1   winner=57\n",
      "B=51.1   winner=58\n",
      "B=52.1   winner=58\n",
      "B=53.1   winner=59\n",
      "B=54.1   winner=59\n",
      "B=55.1   winner=60\n",
      "B=56.1   winner=60\n",
      "B=57.1   winner=61\n",
      "B=58.1   winner=61\n",
      "B=59.1   winner=62\n",
      "B=60.1   winner=62\n",
      "B=61.1   winner=63\n",
      "B=62.1   winner=63\n",
      "B=63.1   winner=64\n",
      "[7, 13, 14, 15, 25, 26, 27, 28, 29, 30, 31, 32, 33, 34, 35, 36, 37, 38, 39, 40, 41, 42, 43, 44, 45, 46, 47]\n"
     ]
    },
    {
     "data": {
      "text/plain": [
       "27"
      ]
     },
     "execution_count": 107,
     "metadata": {},
     "output_type": "execute_result"
    }
   ],
   "source": [
    "find_num_possible_non_winners(6,2)"
   ]
  }
 ],
 "metadata": {
  "kernelspec": {
   "display_name": "Python 3",
   "language": "python",
   "name": "python3"
  },
  "language_info": {
   "codemirror_mode": {
    "name": "ipython",
    "version": 3
   },
   "file_extension": ".py",
   "mimetype": "text/x-python",
   "name": "python",
   "nbconvert_exporter": "python",
   "pygments_lexer": "ipython3",
   "version": "3.11.9"
  }
 },
 "nbformat": 4,
 "nbformat_minor": 2
}
