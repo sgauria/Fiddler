{
 "cells": [
  {
   "cell_type": "markdown",
   "id": "e17affd9",
   "metadata": {},
   "source": [
    "# Puzzle\n",
    "\n",
    "https://thefiddler.substack.com/p/when-will-you-cross-your-path\n",
    "\n",
    "**This Week’s Fiddler**\n",
    "\n",
    "Anita the ant is going for a walk in the sand, leaving a trail as she goes. First, she walks 1 inch in a straight line. Then she rotates counterclockwise by an angle 𝝋, after which she walks another 2 inches. She rotates counterclockwise an angle 𝝋 again, after which she walks 3 inches. She keeps doing this over and over again, rotating counterclockwise an angle 𝝋 and then walking 1 inch farther than she did in the previous segment.\n",
    "\n",
    "At some point during her journey, she crosses over her initial 1-inch segment. By “cross over,” I am including the two end points of that first segment.\n",
    "\n",
    "Anita realizes that 𝝋 was the smallest possible angle such that she crossed over her 1-inch segment. (Among the ants, she’s known for her mathematical prowess.)\n",
    "\n",
    "How long was the segment along which she first crossed over the 1-inch segment? Your answer should be a whole number of inches.\n",
    "\n",
    "**This Week’s Extra Credit**\n",
    "\n",
    "It’s time for you to check Anita’s work. What was the measure of angle 𝝋?\n",
    "\n",
    "Remember, this was the smallest possible angle for each turn such that she crossed over her 1-inch segment at some later point."
   ]
  },
  {
   "cell_type": "markdown",
   "id": "954b7d3b",
   "metadata": {},
   "source": [
    "# Solution\n",
    "\n",
    "Modelling the steps and the positions using complex numbers seems like a good choice because it has a tidy way to include the rotations.\n",
    "\n",
    "Let $ T = e^{i\\varphi} $ be the turning factor. \n",
    "\n",
    "Assuming Anita starts at the origin, her position after n steps will be:\n",
    "\n",
    "$ P_n = 1 + 2T + 3T^2 + 4T^3 + ... + nT^{n-1} $\n",
    "\n",
    "This is a well known structure ( https://en.wikipedia.org/wiki/Arithmetico-geometric_sequence ), and we can simplify it in a standard way.\n",
    "\n",
    "$ P_n = (1 + T + ... + T^{n-1}) + (T + .. T^{n-1}) ... + (T^{n-1}) $\n",
    "\n",
    "$ \\displaystyle P_n = \\frac{T^n - 1}{T-1} + \\frac{T^n - T}{T-1} + ... + \\frac{T^n - T^{n-1}}{T-1} $\n",
    "\n",
    "$ \\displaystyle P_n = \\frac{nT^n}{T-1} - \\frac{1 + T + ... + T^{n-1}}{T-1} $\n",
    "\n",
    "$ \\displaystyle P_n = \\frac{nT^n}{T-1} - \\frac{T^n - 1}{(T-1)^2} $\n",
    "\n",
    "$ \\displaystyle P_n = \\frac{nT^n(T-1) - (T^n - 1)}{(T-1)^2} $\n",
    "\n",
    "$ \\displaystyle P_n = \\frac{nT^{n+1} - (n+1)T^n + 1}{(T-1)^2} $\n",
    "\n",
    "If we plug in n=1 and simplify, we get $ \\displaystyle P_n = \\frac{T^2 - 2T + 1}{(T-1)^2} = 1 $, which is correct.\n",
    "\n",
    "If we plug in n=2 and simplify, we get $ \\displaystyle P_n = \\frac{2T^3 - 3T^2 + 1}{(T-1)^2} = \\frac{(2T + 1)(T^2 - 2T + 1}{(T-1)^2} = 1 + 2T $, which is correct.\n",
    "\n",
    "So, the formula looks good.\n",
    "\n",
    "Not sure how to use this to get an analytical answer at this point, but it at least gives us a numerically superior way of calculating positions (compared to summing large sequences), esp if we choose to use $ T^n = e^{in\\varphi} $ (which I won't, but still ... :) )\n",
    "\n",
    "So, now I will switch to desmos or python to try to figure out what the answer should be before we try to prove it more rigorously (if possible)."
   ]
  },
  {
   "cell_type": "markdown",
   "id": "66bdda4a",
   "metadata": {},
   "source": [
    "# Desmos\n",
    "\n",
    "It was relatively easy to create a graph in desmos that shows the path of Anita the Ant for any given angle $\\varphi$ and number of steps $N$. It's very fun to play with the sliders.\n",
    "\n",
    "https://www.desmos.com/calculator/snfcneiuqe\n",
    "\n",
    "Sliding the value of $\\varphi$ around I could see that until $\\varphi ~= 2.4$ the path simply diverges without intersecting itself at any point, and something around 2.4 is the time it intersects itself.\n",
    "\n",
    "Looking at the path at this point shows that the solution to the Fiddler is 4, i.e. the intersection happens at the 4th step.\n",
    "\n",
    "To calculate the value of $\\varphi$ more precisely, I just zoomed into the intersection point and adjusted the value of $\\varphi$ by typing in values numerically (i.e. not using the slider). With repeated iterations of this, it is clear that the desired value of $\\varphi$ is $\\varphi ~= 2.4188584058 \\  rad$. \n",
    "\n",
    "Here's a snapshot of that process : https://www.desmos.com/calculator/0tp4n68ixc"
   ]
  },
  {
   "cell_type": "markdown",
   "id": "7b108cdd",
   "metadata": {},
   "source": [
    "# Exact Value\n",
    "\n",
    "Looking at the desmos diagram from the matching condition, we can see a triangle. \n",
    "\n",
    "The first side is the step of length 2, the second side is the step of length 3, and the third side is some fraction of of the step of length 4. \n",
    "\n",
    "Since the angles between the sides are constant, we can infer that this is an isoceles triangle and the third side length is 2. \n",
    "\n",
    "So, this triangle has sides 2, 3, 2. Let both the angles around the base (side length 3) be $\\theta = \\pi - \\varphi$ .\n",
    "\n",
    "Applying some basic trignometry, we can calculate that:\n",
    "\n",
    "$\\theta = arccos(\\frac{1.5}{2}) = arccos(\\frac{3}{4})$\n",
    "\n",
    "And so:\n",
    "\n",
    "$\\varphi = \\pi - arccos(\\frac{3}{4})$"
   ]
  },
  {
   "cell_type": "code",
   "execution_count": 1,
   "id": "b4a3094c",
   "metadata": {},
   "outputs": [
    {
     "name": "stdout",
     "output_type": "stream",
     "text": [
      "theta (radians): 0.7227342478134157, theta (degrees): 41.40962210927086\n",
      "phi (radians): 2.4188584057763776, phi (degrees): 138.59037789072914\n"
     ]
    }
   ],
   "source": [
    "from math import pi, acos, degrees\n",
    "theta_rad = acos(3/4)\n",
    "theta_deg = degrees(theta_rad)\n",
    "\n",
    "phi_rad = pi - theta_rad\n",
    "phi_deg = degrees(phi_rad)\n",
    "print(f\"theta (radians): {theta_rad}, theta (degrees): {theta_deg}\")\n",
    "print(f\"phi (radians): {phi_rad}, phi (degrees): {phi_deg}\")"
   ]
  },
  {
   "cell_type": "markdown",
   "id": "2a44e49c",
   "metadata": {},
   "source": [
    "In very good agreement with the empirical result from desmos."
   ]
  },
  {
   "cell_type": "markdown",
   "id": "fb232487",
   "metadata": {},
   "source": [
    "# Conclusion\n",
    "\n",
    "The Fiddler Answer (length of crossing segment) is 4 inches.\n",
    "\n",
    "The Extra Credit Answer (turning angle $\\varphi$) is 2.4188584057763776 radians = 138.59037789072914 degrees."
   ]
  }
 ],
 "metadata": {
  "kernelspec": {
   "display_name": "Python 3",
   "language": "python",
   "name": "python3"
  },
  "language_info": {
   "codemirror_mode": {
    "name": "ipython",
    "version": 3
   },
   "file_extension": ".py",
   "mimetype": "text/x-python",
   "name": "python",
   "nbconvert_exporter": "python",
   "pygments_lexer": "ipython3",
   "version": "3.11.9"
  }
 },
 "nbformat": 4,
 "nbformat_minor": 5
}
