{
 "cells": [
  {
   "cell_type": "markdown",
   "id": "739fd5f6",
   "metadata": {},
   "source": [
    "# Puzzle\n",
    "\n",
    "https://thefiddler.substack.com/p/can-you-box-the-letters"
   ]
  },
  {
   "cell_type": "markdown",
   "id": "ce95ffb9",
   "metadata": {},
   "source": [
    "# Solution\n",
    "\n",
    "I am going to take a coding approach, but I'll do some estimation for the fiddler case beforehand to sanity check the results.\n",
    "\n",
    "If there was no constraint, then the answer would trivially be 8!.\n",
    "\n",
    "The fiddler answer should be less than 8!, because we put some constraints excluding some patterns.\n",
    "\n",
    "At each step, we have k choices left, but 0 or 1 may be excluded by being on the same line as the current choice. If we reduce each term in 8! by 1, then we get 7!.\n",
    "\n",
    "So, the fiddler answer should be between 5040 and 40320.\n",
    "\n",
    "And my guess for it is\n",
    "\n",
    "8 * 6 * 5 * 4.5 * 3.5 * 2.5 * 1.5 * 0.5 = 7087\n",
    "\n",
    "where the 4.5 indicates that the choice can be 4 or 5, so loose average would be 4.5.\n"
   ]
  },
  {
   "cell_type": "code",
   "execution_count": 21,
   "id": "aed35201",
   "metadata": {},
   "outputs": [],
   "source": [
    "from functools import cache\n",
    "@cache\n",
    "def count_letterboxed_sequences(choices_0, choices_1, choices_2, choices_3, last_side=-1):\n",
    "    if choices_0 == 0 and choices_1 == 0 and choices_2 == 0 and choices_3 == 0:\n",
    "        return 1\n",
    "    num_sequences = 0\n",
    "    if choices_0 > 0 and last_side != 0:\n",
    "        num_sequences += choices_0 * count_letterboxed_sequences(choices_0 - 1, choices_1, choices_2, choices_3, 0)\n",
    "    if choices_1 > 0 and last_side != 1:\n",
    "        num_sequences += choices_1 * count_letterboxed_sequences(choices_0, choices_1 - 1, choices_2, choices_3, 1)\n",
    "    if choices_2 > 0 and last_side != 2:\n",
    "        num_sequences += choices_2 * count_letterboxed_sequences(choices_0, choices_1, choices_2 - 1, choices_3, 2)\n",
    "    if choices_3 > 0 and last_side != 3:\n",
    "        num_sequences += choices_3 * count_letterboxed_sequences(choices_0, choices_1, choices_2, choices_3 - 1, 3)\n",
    "    #print(f\"choices: {choices_0}, {choices_1}, {choices_2}, {choices_3}, {last_side=} => {num_sequences}\")\n",
    "    return num_sequences\n",
    "\n",
    "assert count_letterboxed_sequences(0, 0, 2, 2) == 8"
   ]
  },
  {
   "cell_type": "code",
   "execution_count": 22,
   "id": "743c3f66",
   "metadata": {},
   "outputs": [
    {
     "name": "stdout",
     "output_type": "stream",
     "text": [
      "The Fiddler answer is: 13824\n"
     ]
    }
   ],
   "source": [
    "Fiddler_answer = count_letterboxed_sequences(2,2,2,2)\n",
    "print(f\"The Fiddler answer is: {Fiddler_answer}\")"
   ]
  },
  {
   "cell_type": "code",
   "execution_count": 23,
   "id": "98820272",
   "metadata": {},
   "outputs": [
    {
     "name": "stdout",
     "output_type": "stream",
     "text": [
      "The Extra Credit answer is: 53529984\n"
     ]
    }
   ],
   "source": [
    "Extra_credit_answer = count_letterboxed_sequences(3,3,3,3)\n",
    "print(f\"The Extra Credit answer is: {Extra_credit_answer}\")"
   ]
  },
  {
   "cell_type": "code",
   "execution_count": 29,
   "id": "3193d7b1",
   "metadata": {},
   "outputs": [
    {
     "name": "stdout",
     "output_type": "stream",
     "text": [
      "1 letters per side: ratio: 1.0\n",
      "2 letters per side: ratio: 0.34285714285714286\n",
      "3 letters per side: ratio: 0.11175324675324676\n",
      "4 letters per side: ratio: 0.035916845059702204\n",
      "5 letters per side: ratio: 0.011474857394804321\n",
      "6 letters per side: ratio: 0.0036547135016853673\n",
      "7 letters per side: ratio: 0.0011619089793505732\n",
      "8 letters per side: ratio: 0.0003689687462101741\n",
      "9 letters per side: ratio: 0.00011707605167168686\n",
      "10 letters per side: ratio: 3.7128430387165876e-05\n",
      "11 letters per side: ratio: 1.1769797803190356e-05\n",
      "12 letters per side: ratio: 3.729909887902065e-06\n",
      "13 letters per side: ratio: 1.1817474309603094e-06\n",
      "14 letters per side: ratio: 3.7434291937402635e-07\n",
      "15 letters per side: ratio: 1.1856300041559678e-07\n",
      "16 letters per side: ratio: 3.7547012740866436e-08\n",
      "17 letters per side: ratio: 1.1889333479336572e-08\n",
      "18 letters per side: ratio: 3.764460723428004e-09\n",
      "19 letters per side: ratio: 1.1918371214016043e-09\n",
      "20 letters per side: ratio: 3.7731539385853047e-10\n",
      "21 letters per side: ratio: 1.1944537986771785e-10\n",
      "22 letters per side: ratio: 3.781067846043279e-11\n",
      "23 letters per side: ratio: 1.196857393070391e-11\n",
      "24 letters per side: ratio: 3.7883952828172276e-12\n",
      "25 letters per side: ratio: 1.1990986038383537e-12\n",
      "26 letters per side: ratio: 3.7952706456975137e-13\n",
      "27 letters per side: ratio: 1.2012133268218014e-13\n",
      "28 letters per side: ratio: 3.801790472541159e-14\n",
      "29 letters per side: ratio: 1.2032276903807898e-14\n",
      "30 letters per side: ratio: 3.808025897412765e-15\n",
      "31 letters per side: ratio: 1.205161166370373e-15\n",
      "32 letters per side: ratio: 3.814030491890469e-16\n",
      "33 letters per side: ratio: 1.2070285632306116e-16\n",
      "34 letters per side: ratio: 3.8198453706788866e-17\n",
      "35 letters per side: ratio: 1.2088413433789876e-17\n",
      "36 letters per side: ratio: 3.8255026138987324e-18\n",
      "37 letters per side: ratio: 1.2106085178779826e-18\n",
      "38 letters per side: ratio: 3.8310276198447465e-19\n",
      "39 letters per side: ratio: 1.2123372686016166e-19\n",
      "40 letters per side: ratio: 3.8364407588779675e-20\n",
      "41 letters per side: ratio: 1.2140333900587906e-20\n",
      "42 letters per side: ratio: 3.841758559226358e-21\n",
      "43 letters per side: ratio: 1.2157016090521595e-21\n",
      "44 letters per side: ratio: 3.846994572297632e-22\n",
      "45 letters per side: ratio: 1.2173458198459306e-22\n",
      "46 letters per side: ratio: 3.852160014206307e-23\n",
      "47 letters per side: ratio: 1.2189692597983743e-23\n",
      "48 letters per side: ratio: 3.857264248247555e-24\n",
      "49 letters per side: ratio: 1.2205746423315874e-24\n",
      "50 letters per side: ratio: 3.8623151524995493e-25\n",
      "51 letters per side: ratio: 1.222164258858717e-25\n",
      "52 letters per side: ratio: 3.8673194032450064e-26\n",
      "53 letters per side: ratio: 1.223740057807062e-26\n",
      "54 letters per side: ratio: 3.872282695875843e-27\n",
      "55 letters per side: ratio: 1.2253037065250023e-27\n",
      "56 letters per side: ratio: 3.87720991879898e-28\n",
      "57 letters per side: ratio: 1.2268566402473322e-28\n",
      "58 letters per side: ratio: 3.8821052916098724e-29\n",
      "59 letters per side: ratio: 1.2284001011691176e-29\n",
      "60 letters per side: ratio: 3.88697247581579e-30\n"
     ]
    }
   ],
   "source": [
    "from math import factorial\n",
    "# Just for kicks.\n",
    "for i in range(1, 61):\n",
    "    num_sequences = count_letterboxed_sequences(i, i, i, i)\n",
    "    ratio = num_sequences / factorial(i * 4)\n",
    "    print(f\"{i} letters per side: ratio: {ratio}\")"
   ]
  },
  {
   "cell_type": "markdown",
   "id": "99c1655e",
   "metadata": {},
   "source": [
    "# Conclusions\n",
    "\n",
    "The Fiddler answer is: 13824\n",
    "\n",
    "The Extra Credit answer is: 53529984\n",
    "\n",
    "The sequence as we explore larger numbers of letters per side has a interesting structure where odd and even entries converge differently.\n",
    "\n",
    "Even N letters per side entries seem to be ~ (4N)! * 3.88 * 10^(-N/2)\n",
    "\n",
    "Odd N letters per side entries seem to be ~ (4N)! * 1.22 * 10^(-(N-1)/2)\n"
   ]
  }
 ],
 "metadata": {
  "kernelspec": {
   "display_name": "Python 3",
   "language": "python",
   "name": "python3"
  },
  "language_info": {
   "codemirror_mode": {
    "name": "ipython",
    "version": 3
   },
   "file_extension": ".py",
   "mimetype": "text/x-python",
   "name": "python",
   "nbconvert_exporter": "python",
   "pygments_lexer": "ipython3",
   "version": "3.11.9"
  }
 },
 "nbformat": 4,
 "nbformat_minor": 5
}
