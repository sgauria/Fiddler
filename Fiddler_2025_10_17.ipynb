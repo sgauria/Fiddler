{
 "cells": [
  {
   "cell_type": "markdown",
   "id": "a1e93d67",
   "metadata": {},
   "source": [
    "# Puzzle\n",
    "\n",
    "https://thefiddler.substack.com/p/can-you-reach-the-edge-of-the-square\n",
    "\n",
    "#### This Week’s Fiddler\n",
    "\n",
    "You start at the center of the unit square and then pick a random direction to move in, with all directions being equally likely. You move along this chosen direction until you reach a point on the perimeter of the unit square.\n",
    "\n",
    "On average, how far can you expect to have traveled?\n",
    "\n",
    "#### This Week’s Extra Credit\n",
    "\n",
    "Let’s raise the stakes by a dimension. Now, you start at the center of a unit cube. Again, you pick a random direction to move in, with all directions being equally likely. You move along this direction until you reach a point on the surface of the unit cube.\n",
    "\n",
    "On average, how far can you expect to have traveled?"
   ]
  },
  {
   "cell_type": "markdown",
   "id": "4d9dc2ca",
   "metadata": {},
   "source": [
    "# Fiddler Solution\n",
    "\n",
    "Since the distance varies from 0.5 to 0.707, the answer should be something in that range, say something like the halfway point - 0.6035.\n",
    "\n",
    "I am going to try to do this analytically - i.e. try to formulate the correct integral. :) \n",
    "I'll probably have to resort to a solver to solve the integral.\n",
    "\n",
    "Let R = 1/2 be the radius of the square, i.e. of the circle inscribed inside the square.\n",
    "\n",
    "Let $\\theta$ be the direction that you choose to move in, and let $L(\\theta)$ be the distance to the edge of the square along that direction. Given that, the expected value is:\n",
    "\n",
    "$ E = \\frac{1}{2\\pi R}\\int_0^{2\\pi} R d\\theta L(\\theta) $\n",
    "\n",
    "$ E = \\frac{1}{2\\pi}\\int_0^{2\\pi} d\\theta L(\\theta) $\n",
    "\n",
    "Since the square has 8-way symmetry, we can reduce the range of integration by a factor of 8:\n",
    "\n",
    "$ E = \\frac{4}{\\pi}\\int_0^{\\pi/4} d\\theta L(\\theta) $\n",
    "\n",
    "Now, in the first octant, the line to the edge along $\\theta$, the line to the edge along 0, and the edge ($x=1/2$), form a right triangle, so:\n",
    "\n",
    "$ cos(\\theta) = (1/2) / L(\\theta) $\n",
    "\n",
    "=> $ L(\\theta) = 1 / 2 cos(\\theta) $\n",
    "\n",
    "Plugging that back in:\n",
    "\n",
    "$ E = \\frac{4}{\\pi}\\int_0^{\\pi/4} d\\theta \\frac{1}{2cos(\\theta)} $\n",
    "\n",
    "$ E = \\frac{2}{\\pi}\\int_0^{\\pi/4} d\\theta \\frac{1}{cos(\\theta)} $\n",
    "\n",
    "$ E = \\frac{2}{\\pi}\\int_0^{\\pi/4} d\\theta sec(\\theta) $\n",
    "\n",
    "At this point, I will defer to the internet: \n",
    "https://www.cuemath.com/calculus/integral-of-sec-x/ .\n",
    "This page has a number of solutions, some of which I could follow completely. :)\n",
    "But since it solves this exact integral (except for the constant) at the bottom of the page, I'll just quote it as well:\n",
    "\n",
    "> What is the Integral of Sec x from 0 to π/4?\n",
    "\n",
    "> We know that the integral of secant x is ln |sec x + tan x|. Applying the limits 0 and π/4, we get ∫₀π/4 sec x dx = ln |sec π/4 + tan π/4| - ln |sec 0 + tan 0| = ln |√2 + 1| - ln 1 = ln |√2 + 1|.\n",
    "\n",
    "Plugging in one of the other formulae (for which I followed the derivation) to cross-check it myself and make sure:\n",
    "\n",
    "$ E = \\frac{2}{\\pi} [ \\frac{1}{2} ln(|\\frac{1+sin(\\theta)}{1-sin(\\theta)}|) \\big|_0^{\\pi/4}] $\n",
    "\n",
    "$ E = \\frac{1}{\\pi} [ ln(|\\frac{1+sin(\\pi/4)}{1-sin(\\pi/4)}|) - ln(|\\frac{1+0}{1-0}|)] $\n",
    "\n",
    "$ E = \\frac{1}{\\pi} [ ln(|\\frac{1+\\frac{1}{\\sqrt{2}}}{1-\\frac{1}{\\sqrt{2}}}|) ] $\n",
    "\n",
    "$ E = \\frac{1}{\\pi} [ ln(|\\frac{\\sqrt{2}+1}{\\sqrt{2}-1}|) ] $\n",
    "\n",
    "$ E = \\frac{1}{\\pi} [ ln(|(\\sqrt{2}+1)^2|) ] $\n",
    "\n",
    "$ E = \\frac{2}{\\pi} [ ln(\\sqrt{2}+1) ] $"
   ]
  },
  {
   "cell_type": "code",
   "execution_count": 2,
   "id": "8936f949",
   "metadata": {},
   "outputs": [
    {
     "name": "stdout",
     "output_type": "stream",
     "text": [
      "Fiddler's Answer: 0.5610998523391801\n"
     ]
    }
   ],
   "source": [
    "from math import pi, log, sqrt\n",
    "\n",
    "Fiddler_Answer = (2/pi) * log(1 + sqrt(2))\n",
    "print(f\"Fiddler's Answer: {Fiddler_Answer}\")"
   ]
  },
  {
   "cell_type": "markdown",
   "id": "045f2744",
   "metadata": {},
   "source": [
    "So, the Fiddler's answer is $ \\frac{2}{\\pi} [ ln(\\sqrt{2}+1) ] $ =~ 0.56109985 , which definitely seems to be in the right range."
   ]
  },
  {
   "cell_type": "markdown",
   "id": "516f6ae0",
   "metadata": {},
   "source": [
    "# Extra Credit Solution.\n",
    "\n",
    "Going to try an \"analytical approach\" here as well, with help from the internet, of course, and see how far it gets."
   ]
  },
  {
   "cell_type": "markdown",
   "id": "04537e72",
   "metadata": {},
   "source": [
    "As before, R = 1/2 is the radius.\n",
    "\n",
    "Now we have 2 angles that define a direction: \n",
    "- $\\phi$: angle with the +ve Z axis $0$ to $\\pi$\n",
    "- $\\theta$: angle with the +ve X axis in the X-Y plane (i.e. after projecting to the X-Y plane). $0$ to $2\\pi$\n",
    "\n",
    "And let $L(\\theta,\\phi)$ be the length along the $\\theta,\\phi$ direction to the unit cube.\n",
    "\n",
    "The area of the sphere inscribed inside the unit cube is $4 \\pi R^2 = \\pi$.\n",
    "\n",
    "So, the expected value is:\n",
    "\n",
    "$E = \\frac{1}{4\\pi R^2} \\int_{0}^{2\\pi} \\int_{0}^{\\pi} L(\\theta,\\phi) (R d\\phi) (R sin(\\phi) d\\theta) $\n",
    "\n",
    "$E = \\frac{1}{4\\pi} \\int_{0}^{2\\pi} \\int_{0}^{\\pi} L(\\theta,\\phi) d\\phi sin(\\phi) d\\theta $\n",
    "\n",
    "$E = \\frac{1}{4\\pi} \\int_{0}^{2\\pi} d\\theta \\int_{0}^{\\pi} d\\phi sin(\\phi) L(\\theta,\\phi) $\n",
    "\n",
    "> We can check that this is correct by replacing $ L(\\theta,\\phi) $ by R (expected value of the distance to the sphere over the whole sphere) and verifying that the result is R, as it should be.\n",
    "\n",
    "Since the sphere and cube can be halved symmetrically along each axis plane, we can reduce the ranges by a factor of 8 to just integrate over one octant.\n",
    "\n",
    "$E = \\frac{8}{4\\pi} \\int_{0}^{\\pi/2} d\\theta \\int_{0}^{\\pi/2} d\\phi sin(\\phi) L(\\theta,\\phi) $\n",
    "\n",
    "Since each octand could be divided into 3 symmetric parts corresponding to the 3 faces of the cube, we can reduce the ranges further. But now, the ranges of $\\phi$ and $\\theta$ are not independent. \n",
    "\n",
    "Some trig will show that for a given $\\theta$, the distance to the cube face along the X-Y plane($\\phi = \\pi/2$) is $R sec(\\theta)$ (similar to the fiddler case). And so the value of $\\phi$ corresponding to the top edge of that face is $tan^{-1}(sec(\\theta))$. To make things simpler, let's abbreviate this as:\n",
    "\n",
    "$ TS(\\theta) = tan^{-1}(sec(\\theta))$"
   ]
  },
  {
   "cell_type": "markdown",
   "id": "21785f07",
   "metadata": {},
   "source": [
    "~~I first made an attempt to do the integral on the $x=R$ face, but it turned out too complicated. \n",
    "[ $L_x(\\theta, \\phi) = R \\sqrt{1 + tan(\\theta)^2 + (\\frac{1}{tan(\\phi)cos(\\theta)})^2 } $ ] \n",
    "Then I switched to the $z=R$ face below.~~"
   ]
  },
  {
   "cell_type": "markdown",
   "id": "cd85864f",
   "metadata": {},
   "source": [
    "So, we can reduce the range further corresponding just to the face at $z=R$. Leading to:\n",
    "\n",
    "$E = \\frac{24}{4\\pi} [ \\int_{0}^{\\pi/4} d\\theta \\int_{0}^{TS(\\theta)} d\\phi sin(\\phi) L(\\theta,\\phi) + \\int_{\\pi/4}^{\\pi/2} d\\theta \\int_{0}^{TS(\\pi/2 - \\theta)} d\\phi sin(\\phi) L(\\theta,\\phi) ] $\n",
    "\n",
    "Now, let's first try to figure out what $L_z(\\theta,\\phi)$ is.\n",
    "\n",
    "The point on the sphere corresponding to $(\\theta,\\phi)$ is $R(sin(\\phi) cos(\\theta), sin(\\phi) sin(\\theta), cos(\\phi))$.\n",
    "\n",
    "The point $P(\\theta, \\phi)$ on the $z = R$ face along that ray can be found by scaling all components such that the Z-component becomes R, i.e. dividing throughout by $cos(\\phi)$. \n",
    "\n",
    "$P(\\theta, \\phi) = R(tan(\\phi) cos(\\theta), tan(\\phi) sin(\\theta), 1)$\n",
    "\n",
    "And so $L_z$ is:\n",
    "\n",
    "$L_z(\\theta, \\phi) = R \\sqrt{tan^2(\\phi) cos^2(\\theta) + tan^2(\\phi) sin^2(\\theta) + 1 } $\n",
    "\n",
    "$L_z(\\theta, \\phi) = R \\sqrt{tan^2(\\phi) + 1 } $\n",
    "\n",
    "Oh, this is great, much better than the Lx attempt, because now this has become independent of $\\theta$, and quite simple.\n",
    "\n",
    "$L_z(\\theta, \\phi) = R \\sqrt{ \\frac{sin^2(\\phi)}{cos^2(\\phi)} + \\frac{sin^2(\\phi)}{cos^2(\\phi)} } $\n",
    "\n",
    "$L_z(\\theta, \\phi) = R \\frac{1}{cos(\\phi)} $\n",
    "\n",
    "$L_z(\\theta, \\phi) = R sec(\\phi) $\n",
    "\n",
    "This makes so much sense, and could have been seen directly, but here we are. Better late than never. :)"
   ]
  },
  {
   "cell_type": "markdown",
   "id": "cda21137",
   "metadata": {},
   "source": [
    "Plugging that back in:\n",
    "\n",
    "$E = \\frac{24}{4\\pi} [ \\int_{0}^{\\pi/4} d\\theta \\int_{0}^{TS(\\theta)} d\\phi sin(\\phi) R \\frac{1}{cos(\\phi)} + \\int_{\\pi/4}^{\\pi/2} d\\theta \\int_{0}^{TS(\\pi/2 - \\theta)} d\\phi sin(\\phi) R \\frac{1}{cos(\\phi)} ] $\n",
    "\n",
    "$E = \\frac{24 R}{4\\pi} [ \\int_{0}^{\\pi/4} d\\theta \\int_{0}^{TS(\\theta)} d\\phi tan(\\phi) + \\int_{\\pi/4}^{\\pi/2} d\\theta \\int_{0}^{TS(\\pi/2 - \\theta)} d\\phi tan(\\phi) ] $\n",
    "\n",
    "The internet tells us that the integral of tanx is ln|secx|.\n",
    "https://www.cuemath.com/calculus/integration-of-tan-x/\n",
    "\n",
    "$E = \\frac{24 R}{4\\pi} [ \\int_{0}^{\\pi/4} d\\theta [ ln(|sec(\\phi)|) \\Big|_0^{TS(\\theta)} ] + \\int_{\\pi/4}^{\\pi/2} d\\theta [ ln(|sec(\\phi)|) \\Big|_0^{TS(\\pi/2 - \\theta)} ] ]  $\n",
    "\n",
    "$E = \\frac{24 R}{4\\pi} [ \\int_{0}^{\\pi/4} d\\theta [ ln(|sec(TS(\\theta))|) - ln(|sec(0)|) ] + \\int_{\\pi/4}^{\\pi/2} d\\theta [ ln(|sec(TS(\\pi/2 - \\theta))|) - ln(|sec(0)|) ] ]  $\n",
    "\n",
    "$E = \\frac{24 R}{4\\pi} [ \\int_{0}^{\\pi/4} d\\theta ln(|sec(TS(\\theta))|) + \\int_{\\pi/4}^{\\pi/2} d\\theta ln(|sec(TS(\\pi/2 - \\theta))|) ]  $\n",
    "\n",
    "The 2 parts are very similar. We can do a change of variables (e.g. $\\beta = \\pi/2 - \\theta$) in the second part to make it identical to the first part. So, let's make it simpler that way.\n",
    "\n",
    "$E = \\frac{48 R}{4\\pi} \\int_{0}^{\\pi/4} d\\theta ln(|sec(TS(\\theta))|) $\n",
    "\n",
    "Wowzer. That's a handful. :)"
   ]
  },
  {
   "cell_type": "markdown",
   "id": "f1b51194",
   "metadata": {},
   "source": [
    "I'll hand the mic over to the experts now. :)\n",
    "\n",
    "https://www.wolframalpha.com/input?i=integral&assumption=%7B%22F%22%2C+%22Integral%22%2C+%22rangestart%22%7D+-%3E%220%22&assumption=%7B%22C%22%2C+%22integral%22%7D+-%3E+%7B%22Calculator%22%2C+%22dflt%22%7D&assumption=%7B%22F%22%2C+%22Integral%22%2C+%22integrand%22%7D+-%3E%22ln%28sec%28arctan%28sec%28x%29%29%29%29%22&assumption=%7B%22F%22%2C+%22Integral%22%2C+%22rangeend%22%7D+-%3E%22pi%2F4%22\n",
    "\n",
    "$ \\int_0^{π/4} log(\\sqrt{1 + sec^2(x)}) dx = 0.319755 $\n",
    "\n",
    "> And in case the details appear wrong, Wolfram Alpha also shows us that $sec(tan^{-1}(sec(x)))$ is $\\sqrt{ sec^2(x) + 1}$. \n",
    "\n",
    "> https://www.wolframalpha.com/input?i=sec%28arctan%28sec%28x%29%29%29\n",
    "\n",
    "And I am not even going to try to express that as an exact value because: https://www.wolframalpha.com/input?i=integral+of+ln%28sec%28arctan%28sec%28x%29%29%29%29\n"
   ]
  },
  {
   "cell_type": "markdown",
   "id": "692cb012",
   "metadata": {},
   "source": [
    "Anyway, plugging the number from WolframAlpha back into our expression, we get \n",
    "\n",
    "$ E = \\frac{6}{\\pi} \\times 0.319755 $\n",
    "\n",
    "$ E = 0.610687 $\n",
    "\n",
    "Which is very reasonable. It is in the range 0.5 - 0.866, which is the range of distances. It is higher than the Fiddler answer, which is also plausible."
   ]
  },
  {
   "cell_type": "markdown",
   "id": "0402cf29",
   "metadata": {},
   "source": [
    "# Conclusion\n",
    "\n",
    "Fiddler Answer = $ \\frac{2}{\\pi} [ ln(\\sqrt{2}+1) ] $ =~ 0.56109985\n",
    "\n",
    "Extra Credit Answer = Something very very complex =~ 0.610687"
   ]
  }
 ],
 "metadata": {
  "kernelspec": {
   "display_name": "Python 3",
   "language": "python",
   "name": "python3"
  },
  "language_info": {
   "codemirror_mode": {
    "name": "ipython",
    "version": 3
   },
   "file_extension": ".py",
   "mimetype": "text/x-python",
   "name": "python",
   "nbconvert_exporter": "python",
   "pygments_lexer": "ipython3",
   "version": "3.11.9"
  }
 },
 "nbformat": 4,
 "nbformat_minor": 5
}
