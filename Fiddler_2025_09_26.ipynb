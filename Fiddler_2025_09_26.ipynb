{
 "cells": [
  {
   "cell_type": "markdown",
   "id": "d7022353",
   "metadata": {},
   "source": [
    "# Puzzle\n",
    "\n",
    "https://thefiddler.substack.com/p/can-you-take-a-risk\n",
    "\n",
    "**This Week’s Fiddler**\n",
    "\n",
    "Earlier this week, I was playing the board game Risk with one of my kids. At the end of each turn in the game in which you conquer at least one enemy territory on the board, you are dealt a card.\n",
    "\n",
    "There are 42 territory cards in the deck—14 that depict an infantry unit, 14 that depict a cavalry unit, and 14 that depict an artillery unit. Once you have three cards that either (1) all depict the same kind of unit, or (2) all depict different kinds of units, you can trade them in at the beginning of your next turn in exchange for some bonus units to be placed on the board.\n",
    "\n",
    "If you are randomly dealt three cards from the 42, what is the probability that you can trade them in?\n",
    "\n",
    "**This Week’s Extra Credit**\n",
    "\n",
    "The full deck of Risk cards also contains two wildcards, which can be used as any of the three types of cards (infantry, cavalry, and artillery) upon trading them in. Thus, the full deck consists of 44 cards.\n",
    "\n",
    "You must have at least three cards to have any shot at trading them in. Meanwhile, having five cards guarantees that you have three you can trade in.\n",
    "\n",
    "If you are randomly dealt cards from a complete deck of 44 one at a time, how many cards would you need, on average, until you can trade in three? (Your answer should be somewhere between three and five. And no, it’s not four.)"
   ]
  },
  {
   "cell_type": "markdown",
   "id": "5ca3d1a1",
   "metadata": {},
   "source": [
    "# Fiddler Solution\n",
    "\n",
    "This seems like a good problem for a direct counting approach, as long as we are careful about our counting. :)\n",
    "\n",
    "The total number of ways to draw 3 cards is 42 * 41 * 40\n",
    "\n",
    "For all to be the same, we pick one of the 3 groups, and pick 3 cards from that group. This can be done in 3 * 14 * 13 * 12 ways.\n",
    "\n",
    "For all different, we pick an ordering of groups, and then pick one card from each group. This can be done in 6 * 14 * 14 * 14 ways.\n",
    "\n",
    "The probability can be calculated by adding and taking the ratio, simplifying by cancelling 42*4 throughout, etc.\n",
    "\n",
    "This yields 137/410, which is close to 1/3, but not quite.\n",
    "\n",
    "> An alternative approach is to use probabilities. \n",
    "> For all to be the same,  the first card can be anything (p = 42/42 = 1), the second card must be the same as the first (p = 13/41), and the third must also be the same (p = 12/40).\n",
    "> For all different,  the first card can be anything (p = 42/42 = 1), the second card must be the different from the first (p = 28/41), and the third must be different from the first 2 (p = 14/40). This should also yield the same result. "
   ]
  },
  {
   "cell_type": "code",
   "execution_count": 30,
   "id": "149539a8",
   "metadata": {},
   "outputs": [
    {
     "name": "stdout",
     "output_type": "stream",
     "text": [
      "Fiddler answer: 137/410 = 0.334146\n"
     ]
    }
   ],
   "source": [
    "from fractions import Fraction as F\n",
    "from itertools import permutations\n",
    "\n",
    "Fiddler_answer_counting = F((3 * 14 * 13 * 12 + 6 * 14 * 14 * 14), (42 * 41 * 40))\n",
    "\n",
    "Fiddler_answer_probabilities = F(42,42) * F(13,41) * F(12,40) + F(42,42) * F(28,41) * F(14,40) \n",
    "assert Fiddler_answer_counting == Fiddler_answer_probabilities\n",
    "\n",
    "deck_without_wildcards = \"A\" * 14 + \"I\" * 14 + \"C\" * 14\n",
    "Hand_count, E_sum = 0, 0\n",
    "for hand in permutations(deck_without_wildcards, 3):\n",
    "    Hand_count += 1\n",
    "    if hand[0] == hand[1] == hand[2] or (hand[0] != hand[1] and hand[1] != hand[2] and hand[0] != hand[2]):\n",
    "        E_sum += 1\n",
    "Fiddler_answer_exhaustive = F(E_sum, Hand_count)\n",
    "assert Fiddler_answer_exhaustive == Fiddler_answer_counting\n",
    "\n",
    "print (f\"Fiddler answer: {Fiddler_answer_counting} = {float(Fiddler_answer_counting):.6f}\")"
   ]
  },
  {
   "cell_type": "markdown",
   "id": "91784f9b",
   "metadata": {},
   "source": [
    "# Extra Credit Solution.\n",
    "\n",
    "In any instance of cards being dealt, the number of cards you are dealt before you can trade in can either be 3, 4 or 5. Figuring out the probabilities for these 3 events should make the answer easy to find.\n",
    "\n",
    "P3 can be calculated in a way similiar to the Fiddler, except that there are 2 more cases to consider, 1 wildcard or 2 wildcards. In either case, you are sure to be able to trade in because X,X,wildcard and X,Y,wildcard can be treated as either all same or all different.\n",
    "\n",
    "P5 is also easy to calculate. The only way to reach 5 cards is if your first 4 cards fall into just 2 categories. There are 3 ways to pick 2 categories and 4!/(2! * 2!) = 6 ways to arrange them, and then 14 * 13 ways to pick card for each category.\n",
    "\n",
    "P4 = 1 - P4 -P5\n",
    "\n",
    "And the desired expected value is 3 * P3 + 4 * P4 + 5 * P5.\n",
    "\n",
    "This can be simplified to 4 - P3 + P5."
   ]
  },
  {
   "cell_type": "code",
   "execution_count": 31,
   "id": "a0d7ce76",
   "metadata": {},
   "outputs": [
    {
     "name": "stdout",
     "output_type": "stream",
     "text": [
      "P3 = 200/473 = 0.422833\n",
      "P4 = 7644/19393 = 0.394163\n",
      "P5 = 3549/19393 = 0.183004\n",
      "Expected cards drawn = 72921/19393 = 3.760171\n"
     ]
    }
   ],
   "source": [
    "# github copiliot guiding me to better variable names than I would have chosen myself :)\n",
    "Ways_to_choose_3_cards = 44 * 43 * 42\n",
    "Ways_to_choose_all_same = 3 * 14 * 13 * 12\n",
    "Ways_to_choose_all_different = 6 * 14 * 14 * 14\n",
    "Ways_to_choose_one_wildcard = 3 * 42 * 41 * 2 \n",
    "Ways_to_choose_two_wildcards = 3 * 42 * 2 * 1\n",
    "\n",
    "P3 = F(Ways_to_choose_all_same + Ways_to_choose_all_different + Ways_to_choose_one_wildcard + Ways_to_choose_two_wildcards, Ways_to_choose_3_cards)\n",
    "\n",
    "Ways_to_choose_4_cards = 44 * 43 * 42 * 41\n",
    "Ways_to_choose_4_in_2_groups_of_2 = 3 * 6 * 14 * 13 * 14 * 13\n",
    "\n",
    "P5 = F(Ways_to_choose_4_in_2_groups_of_2, Ways_to_choose_4_cards)\n",
    "\n",
    "P4 = 1 - P3 - P5\n",
    "\n",
    "print(f\"P3 = {P3} = {float(P3):.6f}\")\n",
    "print(f\"P4 = {P4} = {float(P4):.6f}\")\n",
    "print(f\"P5 = {P5} = {float(P5):.6f}\")\n",
    "\n",
    "Expected_cards_explicit = 3 * P3 + 4 * P4 + 5 * P5\n",
    "\n",
    "Expected_cards_simplified = 4 - P3 + P5\n",
    "assert Expected_cards_explicit == Expected_cards_simplified\n",
    "\n",
    "print(f\"Expected cards drawn = {Expected_cards_explicit} = {float(Expected_cards_explicit):.6f}\")"
   ]
  },
  {
   "cell_type": "code",
   "execution_count": 34,
   "id": "0ba61033",
   "metadata": {},
   "outputs": [
    {
     "name": "stdout",
     "output_type": "stream",
     "text": [
      "P3 (exhaustive) = 200/473 = 0.422833\n",
      "P4 (exhaustive) = 7644/19393 = 0.394163\n",
      "P5 (exhaustive) = 3549/19393 = 0.183004\n",
      "Expected cards drawn (exhaustive) = 72921/19393 = 3.760171\n"
     ]
    }
   ],
   "source": [
    "from functools import cache\n",
    "@cache\n",
    "def num_cards_from_hand(hand):\n",
    "    first_3_cards = hand[0:3]\n",
    "    first_4_cards = hand[0:4]\n",
    "    if first_3_cards[0] == first_3_cards[1] == first_3_cards[2]:\n",
    "        return 3\n",
    "    elif first_3_cards[0] != first_3_cards[1] and first_3_cards[1] != first_3_cards[2] and first_3_cards[0] != first_3_cards[2]:\n",
    "        return 3\n",
    "    elif first_3_cards.count('W') >= 1:\n",
    "        return 3\n",
    "    elif first_4_cards[3] == 'W':\n",
    "        return 4\n",
    "    elif first_4_cards.count('A') >= 3 or first_4_cards.count('I') >= 3 or first_4_cards.count('C') >= 3:\n",
    "        return 4\n",
    "    elif first_4_cards.count('A') >= 1 and first_4_cards.count('I') >= 1 and first_4_cards.count('C') >= 1:\n",
    "        return 4\n",
    "    else:\n",
    "        return 5\n",
    "\n",
    "assert num_cards_from_hand(\"AAAIW\") == 3\n",
    "assert num_cards_from_hand(\"AIWAI\") == 3\n",
    "assert num_cards_from_hand(\"AICAI\") == 3\n",
    "assert num_cards_from_hand(\"AIICC\") == 4\n",
    "assert num_cards_from_hand(\"AIAIC\") == 5\n",
    "\n",
    "deck_with_wildcards = deck_without_wildcards + \"W\" * 2\n",
    "Hand_count, E_sum, P3_cnt, P4_cnt, P5_cnt = 0, 0, 0, 0, 0\n",
    "for hand in permutations(deck_with_wildcards, 5):\n",
    "    Hand_count += 1\n",
    "    nch = num_cards_from_hand(hand)\n",
    "    E_sum += nch\n",
    "    if nch == 3:\n",
    "        P3_cnt += 1\n",
    "    elif nch == 4:\n",
    "        P4_cnt += 1\n",
    "    elif nch == 5:\n",
    "        P5_cnt += 1\n",
    "    else:\n",
    "        raise ValueError(\"Unexpected number of cards\")\n",
    "\n",
    "P3_exhaustive = F(P3_cnt, Hand_count)\n",
    "P4_exhaustive = F(P4_cnt, Hand_count)\n",
    "P5_exhaustive = F(P5_cnt, Hand_count)\n",
    "Expected_cards_exhaustive = F(E_sum, Hand_count)\n",
    "print(f\"P3 (exhaustive) = {P3_exhaustive} = {float(P3_exhaustive):.6f}\")\n",
    "print(f\"P4 (exhaustive) = {P4_exhaustive} = {float(P4_exhaustive):.6f}\")\n",
    "print(f\"P5 (exhaustive) = {P5_exhaustive} = {float(P5_exhaustive):.6f}\")\n",
    "print(f\"Expected cards drawn (exhaustive) = {Expected_cards_exhaustive} = {float(Expected_cards_exhaustive):.6f}\")\n",
    "assert P3_exhaustive == P3\n",
    "assert P4_exhaustive == P4\n",
    "assert P5_exhaustive == P5\n",
    "assert Expected_cards_exhaustive == Expected_cards_explicit"
   ]
  }
 ],
 "metadata": {
  "kernelspec": {
   "display_name": "Python 3",
   "language": "python",
   "name": "python3"
  },
  "language_info": {
   "codemirror_mode": {
    "name": "ipython",
    "version": 3
   },
   "file_extension": ".py",
   "mimetype": "text/x-python",
   "name": "python",
   "nbconvert_exporter": "python",
   "pygments_lexer": "ipython3",
   "version": "3.11.9"
  }
 },
 "nbformat": 4,
 "nbformat_minor": 5
}
