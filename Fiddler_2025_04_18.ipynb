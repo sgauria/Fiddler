{
 "cells": [
  {
   "cell_type": "markdown",
   "id": "68fc4cde",
   "metadata": {},
   "source": [
    "https://thefiddler.substack.com/p/can-you-throw-the-hammer\n",
    "\n",
    "**This Week’s Fiddler**\n",
    "\n",
    "Chris Payne recently introduced me to “TGL” golf, which looks bonkers. Here’s a puzzle that’s inspired by one of the rules from TGL:\n",
    "\n",
    "You and your opponent are competing in a golf match. On any given hole you play, each of you has a 50 percent chance of winning the hole (and a zero percent chance of tying). That said, scorekeeping in this match is a little different from the norm.\n",
    "\n",
    "Each hole is worth 1 point. Before starting each hole, either you or your opponent can “throw the hammer.” When the hammer has been thrown, whoever did not throw the hammer must either accept the hammer or reject it. If they accept the hammer, the hole is worth 2 points. If they reject the hammer, they concede the hole and its 1 point to their opponent. Both players can throw the hammer on as many holes as they wish. (Should both players decide to throw the hammer at the exact same time—something that can’t be planned in advance—the hole is worth 2 points.)\n",
    "\n",
    "The first player to reach 3 points wins the match. Suppose all players always make rational decisions to maximize their own chances of winning.\n",
    "\n",
    "Good news! You have won the first hole, and now lead 1-0. What is your probability of winning the match?\n",
    "\n",
    "\n",
    "**This Week’s Extra Credit**\n",
    "\n",
    "Instead of playing to 3 points, now the first player to 5 points wins the match.\n",
    "\n",
    "Good news (again)! You have won the first hole, and now lead 1-0. What is your probability of winning the match?\n",
    "\n",
    "---\n",
    "\n",
    "---"
   ]
  },
  {
   "cell_type": "markdown",
   "id": "93a341a8",
   "metadata": {},
   "source": [
    "Um,  I am not sure this hammer does anything. Seems to me that if throwing the hammer hurts player A, then it helps player B. So, at least one of the players will always throw the hammer. Once it is thrown, there is no advantage to conceding, because you just start over in a worse situation. So, I think hammers will always be accepted.\n",
    "\n",
    "Let's code it all up, and see if that's what really happens.\n",
    "\n",
    "---"
   ]
  },
  {
   "cell_type": "code",
   "execution_count": 44,
   "id": "37e9845b",
   "metadata": {},
   "outputs": [],
   "source": [
    "def calc_one_scores_probs(rslt, a_pts, b_pts, win_pts, p_a_wins_hole=0.5):\n",
    "    ab_pts = (a_pts, b_pts)\n",
    "    rslt[ab_pts] = {}\n",
    "    if (a_pts >= win_pts):\n",
    "        rslt[ab_pts]['p_a_wins_overall'] = 1\n",
    "    elif (b_pts >= win_pts):\n",
    "        rslt[ab_pts]['p_a_wins_overall'] = 0\n",
    "    else:\n",
    "        # If no hammer is thrown, either A or B gets a point, and we move to the corresponding states\n",
    "        rslt[ab_pts]['p_a_wins_no_hammer'] = p_a_wins_hole * rslt[(a_pts+1,b_pts)]['p_a_wins_overall'] + (1-p_a_wins_hole) * rslt[(a_pts,b_pts+1)]['p_a_wins_overall']\n",
    "\n",
    "        # If hammer is thrown and accepted, either A or B gets 2 points, and we move to the corresponding states\n",
    "        rslt[ab_pts]['p_a_wins_yes_hammer'] = p_a_wins_hole * rslt[(a_pts+2,b_pts)]['p_a_wins_overall'] + (1-p_a_wins_hole) * rslt[(a_pts,b_pts+2)]['p_a_wins_overall']\n",
    "\n",
    "        # A should accept a hammer thrown by B if accepting improves A's win prob relative to conceding\n",
    "        rslt[ab_pts]['a_shoud_accept'] = (rslt[ab_pts]['p_a_wins_yes_hammer'] >= rslt[(a_pts,b_pts+1)]['p_a_wins_overall'])\n",
    "\n",
    "        # B should accept a hammer thrown by A if accepting improves B's win prob relative to conceding\n",
    "        rslt[ab_pts]['b_shoud_accept'] = (rslt[ab_pts]['p_a_wins_yes_hammer'] <= rslt[(a_pts+1,b_pts)]['p_a_wins_overall'])\n",
    "\n",
    "        # A's prob of winning when throwing a hammer will be the min of the 2 options, since B will choose to help itself.\n",
    "        rslt[ab_pts]['p_a_wins__a_threw'] = min((rslt[ab_pts]['p_a_wins_yes_hammer'],  rslt[(a_pts+1,b_pts)]['p_a_wins_overall']))\n",
    "\n",
    "        # B's prob of winning when throwing a hammer will be the max of the 2 options, since A will choose to help itself.\n",
    "        rslt[ab_pts]['p_a_wins__b_threw'] = max((rslt[ab_pts]['p_a_wins_yes_hammer'],  rslt[(a_pts,b_pts+1)]['p_a_wins_overall']))\n",
    "\n",
    "        # A and B should throw if it helps them.\n",
    "        rslt[ab_pts]['a_should_throw'] = rslt[ab_pts]['p_a_wins__a_threw'] >= rslt[ab_pts]['p_a_wins_no_hammer'] \n",
    "        rslt[ab_pts]['b_should_throw'] = rslt[ab_pts]['p_a_wins__b_threw'] <= rslt[ab_pts]['p_a_wins_no_hammer'] \n",
    "\n",
    "        rslt[ab_pts]['either_throws_hammer'] = rslt[ab_pts]['a_should_throw'] or rslt[ab_pts]['b_should_throw']\n",
    "        rslt[ab_pts]['both_throw_hammer'] = rslt[ab_pts]['a_should_throw'] and rslt[ab_pts]['b_should_throw']\n",
    "\n",
    "        if (rslt[ab_pts]['both_throw_hammer']):\n",
    "            rslt[ab_pts]['p_a_wins_overall'] = rslt[ab_pts]['p_a_wins_yes_hammer']\n",
    "        elif (rslt[ab_pts]['either_throws_hammer']):\n",
    "            if (rslt[ab_pts]['a_should_throw']):\n",
    "                rslt[ab_pts]['p_a_wins_overall'] = rslt[ab_pts]['p_a_wins__a_threw']\n",
    "            else:\n",
    "                rslt[ab_pts]['p_a_wins_overall'] = rslt[ab_pts]['p_a_wins__b_threw']\n",
    "        else:\n",
    "            rslt[ab_pts]['p_a_wins_overall'] = rslt[ab_pts]['p_a_wins_no_hammer']\n",
    "\n",
    "\n",
    "def calc_probs(win_pts, verbose=False, p_a_wins_hole=0.5):\n",
    "    results = {}\n",
    "    for total_pts in range(2*win_pts, -1, -1):\n",
    "        for a_pts in range(total_pts+1):\n",
    "            b_pts = total_pts - a_pts\n",
    "            calc_one_scores_probs(results, a_pts, b_pts, win_pts, p_a_wins_hole)\n",
    "    \n",
    "    if (verbose):\n",
    "        for k in results:\n",
    "            print (k, results[k])\n",
    "        return\n",
    "    return results\n",
    "    \n",
    "#calc_probs(3, True)"
   ]
  },
  {
   "cell_type": "markdown",
   "id": "40af8668",
   "metadata": {},
   "source": [
    "Let use that to solve the puzzles."
   ]
  },
  {
   "cell_type": "code",
   "execution_count": 45,
   "id": "3d2fba30",
   "metadata": {},
   "outputs": [
    {
     "data": {
      "text/plain": [
       "0.75"
      ]
     },
     "execution_count": 45,
     "metadata": {},
     "output_type": "execute_result"
    }
   ],
   "source": [
    "def solve_fiddler():\n",
    "    results = calc_probs(3)\n",
    "    return results[(1,0)]['p_a_wins_overall']\n",
    "solve_fiddler()"
   ]
  },
  {
   "cell_type": "code",
   "execution_count": 46,
   "id": "6b9c5671",
   "metadata": {},
   "outputs": [
    {
     "data": {
      "text/plain": [
       "0.6875"
      ]
     },
     "execution_count": 46,
     "metadata": {},
     "output_type": "execute_result"
    }
   ],
   "source": [
    "def solve_extra_credit():\n",
    "    results = calc_probs(5)\n",
    "    return results[(1,0)]['p_a_wins_overall']\n",
    "solve_extra_credit()"
   ]
  },
  {
   "cell_type": "markdown",
   "id": "5429367d",
   "metadata": {},
   "source": [
    "----\n",
    "\n",
    "----\n",
    "\n",
    "----\n",
    "And we can see that the hammer effect (or lack thereof) is as expected by examining the calculation steps in detail below.\n",
    "either_throws_hammer is always True. a/b_should_accept is also always True."
   ]
  },
  {
   "cell_type": "code",
   "execution_count": 47,
   "id": "cdf96ee8",
   "metadata": {},
   "outputs": [
    {
     "name": "stdout",
     "output_type": "stream",
     "text": [
      "(0, 6) {'p_a_wins_overall': 0}\n",
      "(1, 5) {'p_a_wins_overall': 0}\n",
      "(2, 4) {'p_a_wins_overall': 0}\n",
      "(3, 3) {'p_a_wins_overall': 1}\n",
      "(4, 2) {'p_a_wins_overall': 1}\n",
      "(5, 1) {'p_a_wins_overall': 1}\n",
      "(6, 0) {'p_a_wins_overall': 1}\n",
      "(0, 5) {'p_a_wins_overall': 0}\n",
      "(1, 4) {'p_a_wins_overall': 0}\n",
      "(2, 3) {'p_a_wins_overall': 0}\n",
      "(3, 2) {'p_a_wins_overall': 1}\n",
      "(4, 1) {'p_a_wins_overall': 1}\n",
      "(5, 0) {'p_a_wins_overall': 1}\n",
      "(0, 4) {'p_a_wins_overall': 0}\n",
      "(1, 3) {'p_a_wins_overall': 0}\n",
      "(2, 2) {'p_a_wins_no_hammer': 0.5, 'p_a_wins_yes_hammer': 0.5, 'a_shoud_accept': True, 'b_shoud_accept': True, 'p_a_wins__a_threw': 0.5, 'p_a_wins__b_threw': 0.5, 'a_should_throw': True, 'b_should_throw': True, 'either_throws_hammer': True, 'both_throw_hammer': True, 'p_a_wins_overall': 0.5}\n",
      "(3, 1) {'p_a_wins_overall': 1}\n",
      "(4, 0) {'p_a_wins_overall': 1}\n",
      "(0, 3) {'p_a_wins_overall': 0}\n",
      "(1, 2) {'p_a_wins_no_hammer': 0.25, 'p_a_wins_yes_hammer': 0.5, 'a_shoud_accept': True, 'b_shoud_accept': True, 'p_a_wins__a_threw': 0.5, 'p_a_wins__b_threw': 0.5, 'a_should_throw': True, 'b_should_throw': False, 'either_throws_hammer': True, 'both_throw_hammer': False, 'p_a_wins_overall': 0.5}\n",
      "(2, 1) {'p_a_wins_no_hammer': 0.75, 'p_a_wins_yes_hammer': 0.5, 'a_shoud_accept': True, 'b_shoud_accept': True, 'p_a_wins__a_threw': 0.5, 'p_a_wins__b_threw': 0.5, 'a_should_throw': False, 'b_should_throw': True, 'either_throws_hammer': True, 'both_throw_hammer': False, 'p_a_wins_overall': 0.5}\n",
      "(3, 0) {'p_a_wins_overall': 1}\n",
      "(0, 2) {'p_a_wins_no_hammer': 0.25, 'p_a_wins_yes_hammer': 0.25, 'a_shoud_accept': True, 'b_shoud_accept': True, 'p_a_wins__a_threw': 0.25, 'p_a_wins__b_threw': 0.25, 'a_should_throw': True, 'b_should_throw': True, 'either_throws_hammer': True, 'both_throw_hammer': True, 'p_a_wins_overall': 0.25}\n",
      "(1, 1) {'p_a_wins_no_hammer': 0.5, 'p_a_wins_yes_hammer': 0.5, 'a_shoud_accept': True, 'b_shoud_accept': True, 'p_a_wins__a_threw': 0.5, 'p_a_wins__b_threw': 0.5, 'a_should_throw': True, 'b_should_throw': True, 'either_throws_hammer': True, 'both_throw_hammer': True, 'p_a_wins_overall': 0.5}\n",
      "(2, 0) {'p_a_wins_no_hammer': 0.75, 'p_a_wins_yes_hammer': 0.75, 'a_shoud_accept': True, 'b_shoud_accept': True, 'p_a_wins__a_threw': 0.75, 'p_a_wins__b_threw': 0.75, 'a_should_throw': True, 'b_should_throw': True, 'either_throws_hammer': True, 'both_throw_hammer': True, 'p_a_wins_overall': 0.75}\n",
      "(0, 1) {'p_a_wins_no_hammer': 0.375, 'p_a_wins_yes_hammer': 0.25, 'a_shoud_accept': True, 'b_shoud_accept': True, 'p_a_wins__a_threw': 0.25, 'p_a_wins__b_threw': 0.25, 'a_should_throw': False, 'b_should_throw': True, 'either_throws_hammer': True, 'both_throw_hammer': False, 'p_a_wins_overall': 0.25}\n",
      "(1, 0) {'p_a_wins_no_hammer': 0.625, 'p_a_wins_yes_hammer': 0.75, 'a_shoud_accept': True, 'b_shoud_accept': True, 'p_a_wins__a_threw': 0.75, 'p_a_wins__b_threw': 0.75, 'a_should_throw': True, 'b_should_throw': False, 'either_throws_hammer': True, 'both_throw_hammer': False, 'p_a_wins_overall': 0.75}\n",
      "(0, 0) {'p_a_wins_no_hammer': 0.5, 'p_a_wins_yes_hammer': 0.5, 'a_shoud_accept': True, 'b_shoud_accept': True, 'p_a_wins__a_threw': 0.5, 'p_a_wins__b_threw': 0.5, 'a_should_throw': True, 'b_should_throw': True, 'either_throws_hammer': True, 'both_throw_hammer': True, 'p_a_wins_overall': 0.5}\n"
     ]
    }
   ],
   "source": [
    "calc_probs(3, True)"
   ]
  },
  {
   "cell_type": "code",
   "execution_count": 48,
   "id": "58c0f790",
   "metadata": {},
   "outputs": [
    {
     "name": "stdout",
     "output_type": "stream",
     "text": [
      "(0, 10) {'p_a_wins_overall': 0}\n",
      "(1, 9) {'p_a_wins_overall': 0}\n",
      "(2, 8) {'p_a_wins_overall': 0}\n",
      "(3, 7) {'p_a_wins_overall': 0}\n",
      "(4, 6) {'p_a_wins_overall': 0}\n",
      "(5, 5) {'p_a_wins_overall': 1}\n",
      "(6, 4) {'p_a_wins_overall': 1}\n",
      "(7, 3) {'p_a_wins_overall': 1}\n",
      "(8, 2) {'p_a_wins_overall': 1}\n",
      "(9, 1) {'p_a_wins_overall': 1}\n",
      "(10, 0) {'p_a_wins_overall': 1}\n",
      "(0, 9) {'p_a_wins_overall': 0}\n",
      "(1, 8) {'p_a_wins_overall': 0}\n",
      "(2, 7) {'p_a_wins_overall': 0}\n",
      "(3, 6) {'p_a_wins_overall': 0}\n",
      "(4, 5) {'p_a_wins_overall': 0}\n",
      "(5, 4) {'p_a_wins_overall': 1}\n",
      "(6, 3) {'p_a_wins_overall': 1}\n",
      "(7, 2) {'p_a_wins_overall': 1}\n",
      "(8, 1) {'p_a_wins_overall': 1}\n",
      "(9, 0) {'p_a_wins_overall': 1}\n",
      "(0, 8) {'p_a_wins_overall': 0}\n",
      "(1, 7) {'p_a_wins_overall': 0}\n",
      "(2, 6) {'p_a_wins_overall': 0}\n",
      "(3, 5) {'p_a_wins_overall': 0}\n",
      "(4, 4) {'p_a_wins_no_hammer': 0.5, 'p_a_wins_yes_hammer': 0.5, 'a_shoud_accept': True, 'b_shoud_accept': True, 'p_a_wins__a_threw': 0.5, 'p_a_wins__b_threw': 0.5, 'a_should_throw': True, 'b_should_throw': True, 'either_throws_hammer': True, 'both_throw_hammer': True, 'p_a_wins_overall': 0.5}\n",
      "(5, 3) {'p_a_wins_overall': 1}\n",
      "(6, 2) {'p_a_wins_overall': 1}\n",
      "(7, 1) {'p_a_wins_overall': 1}\n",
      "(8, 0) {'p_a_wins_overall': 1}\n",
      "(0, 7) {'p_a_wins_overall': 0}\n",
      "(1, 6) {'p_a_wins_overall': 0}\n",
      "(2, 5) {'p_a_wins_overall': 0}\n",
      "(3, 4) {'p_a_wins_no_hammer': 0.25, 'p_a_wins_yes_hammer': 0.5, 'a_shoud_accept': True, 'b_shoud_accept': True, 'p_a_wins__a_threw': 0.5, 'p_a_wins__b_threw': 0.5, 'a_should_throw': True, 'b_should_throw': False, 'either_throws_hammer': True, 'both_throw_hammer': False, 'p_a_wins_overall': 0.5}\n",
      "(4, 3) {'p_a_wins_no_hammer': 0.75, 'p_a_wins_yes_hammer': 0.5, 'a_shoud_accept': True, 'b_shoud_accept': True, 'p_a_wins__a_threw': 0.5, 'p_a_wins__b_threw': 0.5, 'a_should_throw': False, 'b_should_throw': True, 'either_throws_hammer': True, 'both_throw_hammer': False, 'p_a_wins_overall': 0.5}\n",
      "(5, 2) {'p_a_wins_overall': 1}\n",
      "(6, 1) {'p_a_wins_overall': 1}\n",
      "(7, 0) {'p_a_wins_overall': 1}\n",
      "(0, 6) {'p_a_wins_overall': 0}\n",
      "(1, 5) {'p_a_wins_overall': 0}\n",
      "(2, 4) {'p_a_wins_no_hammer': 0.25, 'p_a_wins_yes_hammer': 0.25, 'a_shoud_accept': True, 'b_shoud_accept': True, 'p_a_wins__a_threw': 0.25, 'p_a_wins__b_threw': 0.25, 'a_should_throw': True, 'b_should_throw': True, 'either_throws_hammer': True, 'both_throw_hammer': True, 'p_a_wins_overall': 0.25}\n",
      "(3, 3) {'p_a_wins_no_hammer': 0.5, 'p_a_wins_yes_hammer': 0.5, 'a_shoud_accept': True, 'b_shoud_accept': True, 'p_a_wins__a_threw': 0.5, 'p_a_wins__b_threw': 0.5, 'a_should_throw': True, 'b_should_throw': True, 'either_throws_hammer': True, 'both_throw_hammer': True, 'p_a_wins_overall': 0.5}\n",
      "(4, 2) {'p_a_wins_no_hammer': 0.75, 'p_a_wins_yes_hammer': 0.75, 'a_shoud_accept': True, 'b_shoud_accept': True, 'p_a_wins__a_threw': 0.75, 'p_a_wins__b_threw': 0.75, 'a_should_throw': True, 'b_should_throw': True, 'either_throws_hammer': True, 'both_throw_hammer': True, 'p_a_wins_overall': 0.75}\n",
      "(5, 1) {'p_a_wins_overall': 1}\n",
      "(6, 0) {'p_a_wins_overall': 1}\n",
      "(0, 5) {'p_a_wins_overall': 0}\n",
      "(1, 4) {'p_a_wins_no_hammer': 0.125, 'p_a_wins_yes_hammer': 0.25, 'a_shoud_accept': True, 'b_shoud_accept': True, 'p_a_wins__a_threw': 0.25, 'p_a_wins__b_threw': 0.25, 'a_should_throw': True, 'b_should_throw': False, 'either_throws_hammer': True, 'both_throw_hammer': False, 'p_a_wins_overall': 0.25}\n",
      "(2, 3) {'p_a_wins_no_hammer': 0.375, 'p_a_wins_yes_hammer': 0.25, 'a_shoud_accept': True, 'b_shoud_accept': True, 'p_a_wins__a_threw': 0.25, 'p_a_wins__b_threw': 0.25, 'a_should_throw': False, 'b_should_throw': True, 'either_throws_hammer': True, 'both_throw_hammer': False, 'p_a_wins_overall': 0.25}\n",
      "(3, 2) {'p_a_wins_no_hammer': 0.625, 'p_a_wins_yes_hammer': 0.75, 'a_shoud_accept': True, 'b_shoud_accept': True, 'p_a_wins__a_threw': 0.75, 'p_a_wins__b_threw': 0.75, 'a_should_throw': True, 'b_should_throw': False, 'either_throws_hammer': True, 'both_throw_hammer': False, 'p_a_wins_overall': 0.75}\n",
      "(4, 1) {'p_a_wins_no_hammer': 0.875, 'p_a_wins_yes_hammer': 0.75, 'a_shoud_accept': True, 'b_shoud_accept': True, 'p_a_wins__a_threw': 0.75, 'p_a_wins__b_threw': 0.75, 'a_should_throw': False, 'b_should_throw': True, 'either_throws_hammer': True, 'both_throw_hammer': False, 'p_a_wins_overall': 0.75}\n",
      "(5, 0) {'p_a_wins_overall': 1}\n",
      "(0, 4) {'p_a_wins_no_hammer': 0.125, 'p_a_wins_yes_hammer': 0.125, 'a_shoud_accept': True, 'b_shoud_accept': True, 'p_a_wins__a_threw': 0.125, 'p_a_wins__b_threw': 0.125, 'a_should_throw': True, 'b_should_throw': True, 'either_throws_hammer': True, 'both_throw_hammer': True, 'p_a_wins_overall': 0.125}\n",
      "(1, 3) {'p_a_wins_no_hammer': 0.25, 'p_a_wins_yes_hammer': 0.25, 'a_shoud_accept': True, 'b_shoud_accept': True, 'p_a_wins__a_threw': 0.25, 'p_a_wins__b_threw': 0.25, 'a_should_throw': True, 'b_should_throw': True, 'either_throws_hammer': True, 'both_throw_hammer': True, 'p_a_wins_overall': 0.25}\n",
      "(2, 2) {'p_a_wins_no_hammer': 0.5, 'p_a_wins_yes_hammer': 0.5, 'a_shoud_accept': True, 'b_shoud_accept': True, 'p_a_wins__a_threw': 0.5, 'p_a_wins__b_threw': 0.5, 'a_should_throw': True, 'b_should_throw': True, 'either_throws_hammer': True, 'both_throw_hammer': True, 'p_a_wins_overall': 0.5}\n",
      "(3, 1) {'p_a_wins_no_hammer': 0.75, 'p_a_wins_yes_hammer': 0.75, 'a_shoud_accept': True, 'b_shoud_accept': True, 'p_a_wins__a_threw': 0.75, 'p_a_wins__b_threw': 0.75, 'a_should_throw': True, 'b_should_throw': True, 'either_throws_hammer': True, 'both_throw_hammer': True, 'p_a_wins_overall': 0.75}\n",
      "(4, 0) {'p_a_wins_no_hammer': 0.875, 'p_a_wins_yes_hammer': 0.875, 'a_shoud_accept': True, 'b_shoud_accept': True, 'p_a_wins__a_threw': 0.875, 'p_a_wins__b_threw': 0.875, 'a_should_throw': True, 'b_should_throw': True, 'either_throws_hammer': True, 'both_throw_hammer': True, 'p_a_wins_overall': 0.875}\n",
      "(0, 3) {'p_a_wins_no_hammer': 0.1875, 'p_a_wins_yes_hammer': 0.125, 'a_shoud_accept': True, 'b_shoud_accept': True, 'p_a_wins__a_threw': 0.125, 'p_a_wins__b_threw': 0.125, 'a_should_throw': False, 'b_should_throw': True, 'either_throws_hammer': True, 'both_throw_hammer': False, 'p_a_wins_overall': 0.125}\n",
      "(1, 2) {'p_a_wins_no_hammer': 0.375, 'p_a_wins_yes_hammer': 0.5, 'a_shoud_accept': True, 'b_shoud_accept': True, 'p_a_wins__a_threw': 0.5, 'p_a_wins__b_threw': 0.5, 'a_should_throw': True, 'b_should_throw': False, 'either_throws_hammer': True, 'both_throw_hammer': False, 'p_a_wins_overall': 0.5}\n",
      "(2, 1) {'p_a_wins_no_hammer': 0.625, 'p_a_wins_yes_hammer': 0.5, 'a_shoud_accept': True, 'b_shoud_accept': True, 'p_a_wins__a_threw': 0.5, 'p_a_wins__b_threw': 0.5, 'a_should_throw': False, 'b_should_throw': True, 'either_throws_hammer': True, 'both_throw_hammer': False, 'p_a_wins_overall': 0.5}\n",
      "(3, 0) {'p_a_wins_no_hammer': 0.8125, 'p_a_wins_yes_hammer': 0.875, 'a_shoud_accept': True, 'b_shoud_accept': True, 'p_a_wins__a_threw': 0.875, 'p_a_wins__b_threw': 0.875, 'a_should_throw': True, 'b_should_throw': False, 'either_throws_hammer': True, 'both_throw_hammer': False, 'p_a_wins_overall': 0.875}\n",
      "(0, 2) {'p_a_wins_no_hammer': 0.3125, 'p_a_wins_yes_hammer': 0.3125, 'a_shoud_accept': True, 'b_shoud_accept': True, 'p_a_wins__a_threw': 0.3125, 'p_a_wins__b_threw': 0.3125, 'a_should_throw': True, 'b_should_throw': True, 'either_throws_hammer': True, 'both_throw_hammer': True, 'p_a_wins_overall': 0.3125}\n",
      "(1, 1) {'p_a_wins_no_hammer': 0.5, 'p_a_wins_yes_hammer': 0.5, 'a_shoud_accept': True, 'b_shoud_accept': True, 'p_a_wins__a_threw': 0.5, 'p_a_wins__b_threw': 0.5, 'a_should_throw': True, 'b_should_throw': True, 'either_throws_hammer': True, 'both_throw_hammer': True, 'p_a_wins_overall': 0.5}\n",
      "(2, 0) {'p_a_wins_no_hammer': 0.6875, 'p_a_wins_yes_hammer': 0.6875, 'a_shoud_accept': True, 'b_shoud_accept': True, 'p_a_wins__a_threw': 0.6875, 'p_a_wins__b_threw': 0.6875, 'a_should_throw': True, 'b_should_throw': True, 'either_throws_hammer': True, 'both_throw_hammer': True, 'p_a_wins_overall': 0.6875}\n",
      "(0, 1) {'p_a_wins_no_hammer': 0.40625, 'p_a_wins_yes_hammer': 0.3125, 'a_shoud_accept': True, 'b_shoud_accept': True, 'p_a_wins__a_threw': 0.3125, 'p_a_wins__b_threw': 0.3125, 'a_should_throw': False, 'b_should_throw': True, 'either_throws_hammer': True, 'both_throw_hammer': False, 'p_a_wins_overall': 0.3125}\n",
      "(1, 0) {'p_a_wins_no_hammer': 0.59375, 'p_a_wins_yes_hammer': 0.6875, 'a_shoud_accept': True, 'b_shoud_accept': True, 'p_a_wins__a_threw': 0.6875, 'p_a_wins__b_threw': 0.6875, 'a_should_throw': True, 'b_should_throw': False, 'either_throws_hammer': True, 'both_throw_hammer': False, 'p_a_wins_overall': 0.6875}\n",
      "(0, 0) {'p_a_wins_no_hammer': 0.5, 'p_a_wins_yes_hammer': 0.5, 'a_shoud_accept': True, 'b_shoud_accept': True, 'p_a_wins__a_threw': 0.5, 'p_a_wins__b_threw': 0.5, 'a_should_throw': True, 'b_should_throw': True, 'either_throws_hammer': True, 'both_throw_hammer': True, 'p_a_wins_overall': 0.5}\n"
     ]
    }
   ],
   "source": [
    "calc_probs(5, True)"
   ]
  },
  {
   "cell_type": "markdown",
   "id": "1539a39b",
   "metadata": {},
   "source": [
    "----\n",
    "\n",
    "----\n",
    "\n",
    "----\n",
    "And trying the suggestion to have asymmetric probabilities from the comments. \n",
    "It makes the numbers a bit more interesting, but the hammer situation remains the same, presumably because all rounds have the same probabilities of winning/losing."
   ]
  },
  {
   "cell_type": "code",
   "execution_count": 49,
   "id": "2aa26f07",
   "metadata": {},
   "outputs": [
    {
     "name": "stdout",
     "output_type": "stream",
     "text": [
      "(0, 6) {'p_a_wins_overall': 0}\n",
      "(1, 5) {'p_a_wins_overall': 0}\n",
      "(2, 4) {'p_a_wins_overall': 0}\n",
      "(3, 3) {'p_a_wins_overall': 1}\n",
      "(4, 2) {'p_a_wins_overall': 1}\n",
      "(5, 1) {'p_a_wins_overall': 1}\n",
      "(6, 0) {'p_a_wins_overall': 1}\n",
      "(0, 5) {'p_a_wins_overall': 0}\n",
      "(1, 4) {'p_a_wins_overall': 0}\n",
      "(2, 3) {'p_a_wins_overall': 0}\n",
      "(3, 2) {'p_a_wins_overall': 1}\n",
      "(4, 1) {'p_a_wins_overall': 1}\n",
      "(5, 0) {'p_a_wins_overall': 1}\n",
      "(0, 4) {'p_a_wins_overall': 0}\n",
      "(1, 3) {'p_a_wins_overall': 0}\n",
      "(2, 2) {'p_a_wins_no_hammer': 0.25, 'p_a_wins_yes_hammer': 0.25, 'a_shoud_accept': True, 'b_shoud_accept': True, 'p_a_wins__a_threw': 0.25, 'p_a_wins__b_threw': 0.25, 'a_should_throw': True, 'b_should_throw': True, 'either_throws_hammer': True, 'both_throw_hammer': True, 'p_a_wins_overall': 0.25}\n",
      "(3, 1) {'p_a_wins_overall': 1}\n",
      "(4, 0) {'p_a_wins_overall': 1}\n",
      "(0, 3) {'p_a_wins_overall': 0}\n",
      "(1, 2) {'p_a_wins_no_hammer': 0.0625, 'p_a_wins_yes_hammer': 0.25, 'a_shoud_accept': True, 'b_shoud_accept': True, 'p_a_wins__a_threw': 0.25, 'p_a_wins__b_threw': 0.25, 'a_should_throw': True, 'b_should_throw': False, 'either_throws_hammer': True, 'both_throw_hammer': False, 'p_a_wins_overall': 0.25}\n",
      "(2, 1) {'p_a_wins_no_hammer': 0.4375, 'p_a_wins_yes_hammer': 0.25, 'a_shoud_accept': True, 'b_shoud_accept': True, 'p_a_wins__a_threw': 0.25, 'p_a_wins__b_threw': 0.25, 'a_should_throw': False, 'b_should_throw': True, 'either_throws_hammer': True, 'both_throw_hammer': False, 'p_a_wins_overall': 0.25}\n",
      "(3, 0) {'p_a_wins_overall': 1}\n",
      "(0, 2) {'p_a_wins_no_hammer': 0.0625, 'p_a_wins_yes_hammer': 0.0625, 'a_shoud_accept': True, 'b_shoud_accept': True, 'p_a_wins__a_threw': 0.0625, 'p_a_wins__b_threw': 0.0625, 'a_should_throw': True, 'b_should_throw': True, 'either_throws_hammer': True, 'both_throw_hammer': True, 'p_a_wins_overall': 0.0625}\n",
      "(1, 1) {'p_a_wins_no_hammer': 0.25, 'p_a_wins_yes_hammer': 0.25, 'a_shoud_accept': True, 'b_shoud_accept': True, 'p_a_wins__a_threw': 0.25, 'p_a_wins__b_threw': 0.25, 'a_should_throw': True, 'b_should_throw': True, 'either_throws_hammer': True, 'both_throw_hammer': True, 'p_a_wins_overall': 0.25}\n",
      "(2, 0) {'p_a_wins_no_hammer': 0.4375, 'p_a_wins_yes_hammer': 0.4375, 'a_shoud_accept': True, 'b_shoud_accept': True, 'p_a_wins__a_threw': 0.4375, 'p_a_wins__b_threw': 0.4375, 'a_should_throw': True, 'b_should_throw': True, 'either_throws_hammer': True, 'both_throw_hammer': True, 'p_a_wins_overall': 0.4375}\n",
      "(0, 1) {'p_a_wins_no_hammer': 0.109375, 'p_a_wins_yes_hammer': 0.0625, 'a_shoud_accept': True, 'b_shoud_accept': True, 'p_a_wins__a_threw': 0.0625, 'p_a_wins__b_threw': 0.0625, 'a_should_throw': False, 'b_should_throw': True, 'either_throws_hammer': True, 'both_throw_hammer': False, 'p_a_wins_overall': 0.0625}\n",
      "(1, 0) {'p_a_wins_no_hammer': 0.296875, 'p_a_wins_yes_hammer': 0.4375, 'a_shoud_accept': True, 'b_shoud_accept': True, 'p_a_wins__a_threw': 0.4375, 'p_a_wins__b_threw': 0.4375, 'a_should_throw': True, 'b_should_throw': False, 'either_throws_hammer': True, 'both_throw_hammer': False, 'p_a_wins_overall': 0.4375}\n",
      "(0, 0) {'p_a_wins_no_hammer': 0.15625, 'p_a_wins_yes_hammer': 0.15625, 'a_shoud_accept': True, 'b_shoud_accept': True, 'p_a_wins__a_threw': 0.15625, 'p_a_wins__b_threw': 0.15625, 'a_should_throw': True, 'b_should_throw': True, 'either_throws_hammer': True, 'both_throw_hammer': True, 'p_a_wins_overall': 0.15625}\n"
     ]
    }
   ],
   "source": [
    "calc_probs(3,True,0.25)"
   ]
  }
 ],
 "metadata": {
  "kernelspec": {
   "display_name": "Python 3",
   "language": "python",
   "name": "python3"
  },
  "language_info": {
   "codemirror_mode": {
    "name": "ipython",
    "version": 3
   },
   "file_extension": ".py",
   "mimetype": "text/x-python",
   "name": "python",
   "nbconvert_exporter": "python",
   "pygments_lexer": "ipython3",
   "version": "3.11.9"
  }
 },
 "nbformat": 4,
 "nbformat_minor": 5
}
