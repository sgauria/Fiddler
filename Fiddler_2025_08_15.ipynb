{
 "cells": [
  {
   "cell_type": "markdown",
   "id": "83b2badf",
   "metadata": {},
   "source": [
    "# Puzzle\n",
    "\n",
    "**This Week’s Fiddler**\n",
    "\n",
    "From Bowen Kerins comes a chance at free money:\n",
    "\n",
    "A casino offers you $55 worth of “free play vouchers.” You specifically receive three $10 vouchers and one $25 voucher.\n",
    "\n",
    "You can play any or all vouchers on either side of an even-money game (think red vs. black in roulette, without those pesky green pockets) as many times as you want (or can). You keep the vouchers wagered on any winning bet and get a corresponding cash amount equal to the vouchers for the win. But you lose the vouchers wagered on any losing bet, with no cash award. Vouchers cannot be split into smaller amounts, and you can only wager vouchers (not cash).\n",
    "\n",
    "What is the guaranteed minimum amount of money you can surely win, no matter how bad your luck? And what betting strategy always gets you at least that amount?\n",
    "\n",
    "Hint: You can play vouchers on both sides of the even money game at the same time!\n",
    "\n",
    "**This Week’s Extra Credit**\n",
    "\n",
    "From Bowen Kerins also comes some Extra Credit:\n",
    "\n",
    "You have the same $55 worth of vouchers from the casino in the same denominations. But this time, you’re not interested in guaranteed winnings. Instead, you set your betting strategy so that you will have at least a 50 percent chance of winning W dollars or more. As before, you cannot split vouchers and cannot wager cash.\n",
    "\n",
    "What is the maximum possible value of W? In other words, what is the greatest amount of money you can have at least a 50 percent chance of winning from the outset, with an appropriate strategy? And what is that betting strategy?"
   ]
  },
  {
   "cell_type": "markdown",
   "id": "9ffc225b",
   "metadata": {},
   "source": [
    "# Fiddler Solution\n",
    "\n",
    "If we play each voucher individually, then our worst-case (minimum) win amount would be 0. So, we must pair the vouchers in some order. And for a particular pair of bets, the min is maximized by having the 2 sides balanced.\n",
    "\n",
    "After some exploration, I think the best strategy is:\n",
    "\n",
    "1. Bet 25 vs 10+10 on 2 sides of one game, keeping a 10 in reserve. You win either 25 (go to step 2) or 20 (go to step 3).\n",
    "2. If you win 25 in step 1, you next play 25 vs 10, where you would win at least 10. You can play that 10 (or 25) again, but you might not win. Your min win total is 35. Done.\n",
    "3. If you win 10+10 in step 1, you next play 10 vs 10, winning at least 10. Go to step 4.\n",
    "4. Play 10 vs 10 again, winning at least 10. You can play the remaining 10 voucher again, but you might not win. Your min total is 20 + 10 + 10 = 40. Done.\n",
    "\n",
    "So, you are guaranteed to have $35 in cash at the end of this process, and the answer to the Fiddler is **35**."
   ]
  },
  {
   "cell_type": "markdown",
   "id": "10602382",
   "metadata": {},
   "source": [
    "# Extra Credit Solution\n",
    "\n",
    "It took me quite a while to wrap my head around what was being asked. But I think I finally have it.\n",
    "\n",
    "What we need to do for each strategy is:\n",
    "- enumerate all possible win amounts and corresponding probabilities. \n",
    "- Sort that table by win amount.\n",
    "- calculate the cumulative probabilities.\n",
    "- W (for this strategy) is the amount where the cumulative probability equals or crosses 50%.\n",
    "\n",
    "The table is infinite in size, but the amounts increase and probabilities drop rather quickly -- so it should be possible to find the 50% threshold with a manageable number of entries.\n",
    "\n",
    "And then we need to search across strategies to find the one with the highest W. I have no instinct for what's a good strategy here.\n",
    "\n",
    "Great. Let's go."
   ]
  },
  {
   "cell_type": "markdown",
   "id": "3277373e",
   "metadata": {},
   "source": [
    "---\n",
    "\n",
    "##### Strategy 0 : Everything is bet in one lump, i.e. all $55 of vouchers on one side of one bet, and repeated if you win.\n",
    "Easy to analyze. \n",
    "Prob 1/2 you get 0.\n",
    "Prob 1/4 you get $55.\n",
    "Remaining probabilities yield higher amount.\n",
    "W = 55."
   ]
  },
  {
   "cell_type": "markdown",
   "id": "dd9746b6",
   "metadata": {},
   "source": [
    "---\n",
    "\n",
    "##### Strategy 1: Each voucher is bet separately and independently.\n",
    "\n",
    "| Amount | Probability | Cumulative |\n",
    "| - | - | - |\n",
    "| 0 | 1/16 = 2/32 | ? | \n",
    "| 10 | 3/32 |? | \n",
    "| 20 | 3/64 + 3/64 = 3/32 | 1/4 | \n",
    "| 25 | 1/32 | ? | \n",
    "| 30 | 1/128 + 6/128 + 3/128 = 5/64 | 23/64 |\n",
    "| 40 | 3/32 + ... | |\n",
    "| 50 | 1/64 + ... | |\n",
    "\n",
    "This is so tedious and error prone. \n",
    "\n",
    "But there may be a better way ... Let p denote a 10, and q denote a 25.\n",
    "Then the outcomes for q are:\n",
    "\n",
    "Q = 1/2 + q/4 + q^2/8 + q^3/16 + ....\n",
    "\n",
    "where the coefficient denotes the probability and the power denotes the number of times it happens. e.g. q^3/16 denotes that 1/16 is the probability of winning 25 exactly 3 times.\n",
    "And similarly, \n",
    "\n",
    "P = 1/2 + p/4 + p^2/8 + ...\n",
    "\n",
    "Now the total space of possibilities is \n",
    "\n",
    "S = Q * P^3 \n",
    "\n",
    "Which wolfram alpha is so kind as to calculate for us (approximating P and Q by the first few terms):\n",
    "\n",
    "https://www.wolframalpha.com/input?i=%281%2F2+%2B+q%2F4+%2B+q%5E2%2F8+%2B+q%5E3%2F16+%2B+q%5E4%2F32+%2B+q%5E5%2F64%29+*+%28%281%2F2+%2B+p%2F4+%2B+p%5E2%2F8+%2B+p%5E3%2F16+%2B+p%5E4%2F32+%2B+p%5E5%2F64%29%5E3%29\n",
    "\n",
    "Using that, let's fill out the table again.\n",
    "\n",
    "| Amount |Terms| Probability | Cumulative |\n",
    "| - | - | - | - |\n",
    "| 0 | | 1/16  | 1/16 | \n",
    "| 10 | p |3/32 | 5/32 | \n",
    "| 20 | p^2 | 3/32 | 1/4 | \n",
    "| 25 | q | 1/32 | 9/32 | \n",
    "| 30 | p^3 | 5/64 | 23/64 |\n",
    "| 35 | pq | 3/64 | 26/64 |\n",
    "| 40 | p^4 | 15/256 | 119/256 |\n",
    "| 45 | p^2q | 3/64 | 131/256 |\n",
    "\n",
    "119/256 < 0.5 < 131/256 . So, we have a less than 50% chance of winning 40 or lower. And hence we have a greater than 50% chance of winning 45 or more.\n",
    "\n",
    "So, W = 45."
   ]
  },
  {
   "cell_type": "markdown",
   "id": "49958b5e",
   "metadata": {},
   "source": [
    "---\n",
    "\n",
    "##### Strategy 3: Play 25 vs 30. Club $30 into one set for remaining plays.\n",
    "\n",
    "| Amount | Probability | Cumulative |\n",
    "| - | - | - |\n",
    "| 25 | 1/4 | 1/4 | \n",
    "| 30 | 1/4 | 1/2 |\n",
    "\n",
    "So you have 50% probability of winning 30 or lower. And 50% of winning 35 or more.\n",
    "So, W = 35."
   ]
  },
  {
   "cell_type": "markdown",
   "id": "302e8166",
   "metadata": {},
   "source": [
    "----\n",
    "\n",
    "# Extra Credit Conclusion\n",
    "\n",
    "This is getting quite tedious.\n",
    "\n",
    "W = 55 (Strategy 0 - all at once on one side) is the best that I have found, and I am not seeing why more complex strategies would yield better results.\n",
    "\n",
    "So, my answer is **W = 55**"
   ]
  }
 ],
 "metadata": {
  "language_info": {
   "name": "python"
  }
 },
 "nbformat": 4,
 "nbformat_minor": 5
}
