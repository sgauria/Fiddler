{
 "cells": [
  {
   "cell_type": "markdown",
   "id": "23d11d34",
   "metadata": {},
   "source": [
    "# Puzzle\n",
    "\n",
    "https://thefiddler.substack.com/p/how-low-or-high-can-you-go\n",
    "\n",
    "**This Week’s Fiddler**\n",
    "\n",
    "From Alex Barnard comes a puzzle about game you can play using nothing but your favorite random number generator:\n",
    "\n",
    "You’re playing a game of “high-low,” which proceeds as follows:\n",
    "\n",
    ">    First, you are presented with a random number, x1, which is between 0 and 1.\n",
    ">    A new number, x2, is about to be randomly selected between 0 and 1, independent of the first number. But before it’s selected, you must guess how x2 will compare to x1. If you think x2 will be greater than x1 you guess “high.” If you think x2 will be less than x1, you guess “low.” If you guess correctly, you earn a point and advance to the next round. Otherwise, the game is over.\n",
    ">   If you correctly guessed how x2 compared to x1 then another random number, x3, will be selected between 0 and 1. This time, you must compare x3 to x2, guessing whether it will be “high” or “low.” If you guess correctly, you earn a point and advance to the next round. Otherwise, the game is over.\n",
    "\n",
    "You continue playing as many rounds as you can, as long as you keep guessing correctly.\n",
    "\n",
    "You quickly realize that the best strategy is to guess “high” whenever the previous number is less than 0.5, and “low” whenever the previous number is greater than 0.5.\n",
    "\n",
    "With this strategy, what is the probability you will earn at least two points? That is, what are your chances of correctly comparing x2 to x1 and then also correctly comparing x3 to x2?\n",
    "\n",
    "\n",
    "**This Week’s Extra Credit**\n",
    "\n",
    "From Alex Barnard also comes some Extra Credit:\n",
    "\n",
    "Your friend is playing an epic game of “high-low” and has made it incredibly far, having racked up a huge number of points.\n",
    "\n",
    "Given this information, and only this information, what is the probability that your friend wins the next round of the game?"
   ]
  },
  {
   "cell_type": "markdown",
   "id": "0a840016",
   "metadata": {},
   "source": [
    "# Fiddler Solution\n",
    "\n",
    "I am quite happy that I found a way to do this without resorting to integrals (anlytically or numerically).\n",
    "\n",
    "We have 3 random variables. Each can be in the higher half (U for up) or lower half (D for down). So, we have 8 equally likely cases. In each case, it is easy to calculate the probability. When we transition from U to D or D to U, we are sure to guess correctly. If we stay in the same half (e.g. UUU), then we guess correctly only if the random variables are in a strict order (decreasing for UUU). Since all possible orderings of the three random variables is equally likely, and only one works, the probability of winning in this case is 1 / 3!. And similarly for the other cases.\n",
    "\n",
    "- UUU : 1/6\n",
    "- UUD : 1/2\n",
    "- UDU : 1\n",
    "- UDD : 1/2\n",
    "\n",
    "And the other 4 cases are reflected versions of this.\n",
    "\n",
    "- DUU : 1/2\n",
    "- DUD : 1\n",
    "- DDU : 1/2\n",
    "- DDD : 1/6\n",
    "\n",
    "So, the total probability is the average of either set of 4 = 1/4 * 13/6 = 13/24.\n",
    "\n",
    "**The Fiddler Answer is 13/24**"
   ]
  },
  {
   "cell_type": "markdown",
   "id": "9c629b2c",
   "metadata": {},
   "source": [
    "# Extra Credit Solution\n",
    "\n",
    "We need to find the prob of winning a point given that N points have been won.\n",
    "\n",
    "Because P(A|B) = P(A&B)/P(B), this is equivalent to finding the probabilities of winning N points and taking the ratio of successive terms as N tends to Infinity.\n",
    "\n",
    "While we can calculate the probability for each n following steps similar to the ones outlined above, I was not able to find a way to condense it into a general formula for all n. But we can write code to calculate some small values of n, and see how it does."
   ]
  },
  {
   "cell_type": "code",
   "execution_count": 31,
   "id": "a66c9461",
   "metadata": {},
   "outputs": [],
   "source": [
    "from math import factorial\n",
    "\n",
    "def prod_factorial_run_lengths(nbits, val):\n",
    "    \"\"\"Compute the product of the factorials of the run lengths in the binary\n",
    "    representation of case considered as a nbits bit integer.\n",
    "\n",
    "    Args:\n",
    "        nbits (int): The number of bits to consider.\n",
    "        val (int): A positive integer.\n",
    "\n",
    "    Returns:\n",
    "        int: The product of the factorials of the run lengths.\n",
    "    \"\"\"\n",
    "    if nbits <= 0 or val < 0 or val >= (1 << nbits):\n",
    "        raise ValueError(\"Input must be a positive integer.\")\n",
    "\n",
    "\n",
    "    if True: # Slightly faster bitwise method\n",
    "        v = val\n",
    "        prod = 1\n",
    "        for i in range(nbits):\n",
    "            if v & 1:\n",
    "                bit = 1\n",
    "            else:\n",
    "                bit = 0\n",
    "            v >>= 1\n",
    "\n",
    "            if i == 0:\n",
    "                current_run_length = 1\n",
    "                last_bit = bit\n",
    "                run_lengths = []\n",
    "            else:\n",
    "                if bit == last_bit:\n",
    "                    current_run_length += 1\n",
    "                else:\n",
    "                    prod *= factorial(current_run_length)\n",
    "                    current_run_length = 1\n",
    "                    last_bit = bit\n",
    "        prod *= factorial(current_run_length)\n",
    "        return prod\n",
    "    else:\n",
    "        binary_str = bin(val)[2:].zfill(nbits)  # Get binary representation without '0b' prefix\n",
    "        run_lengths = []\n",
    "        current_run_length = 1\n",
    "\n",
    "        for i in range(1, len(binary_str)):\n",
    "            if binary_str[i] == binary_str[i - 1]:\n",
    "                current_run_length += 1\n",
    "            else:\n",
    "                run_lengths.append(current_run_length)\n",
    "                current_run_length = 1\n",
    "\n",
    "        run_lengths.append(current_run_length)  # Append the last run length\n",
    "\n",
    "        product = 1\n",
    "        for length in run_lengths:\n",
    "            product *= factorial(length)\n",
    "\n",
    "        return product\n",
    "\n",
    "assert(prod_factorial_run_lengths(6, 49) == 12) \n",
    "# 49 is 110001 in binary, runs are 11, 000, 1 -> 2!, 3!, 1! = 2 * 6 * 1 = 12"
   ]
  },
  {
   "cell_type": "code",
   "execution_count": 45,
   "id": "2e765f63",
   "metadata": {},
   "outputs": [
    {
     "name": "stdout",
     "output_type": "stream",
     "text": [
      " Fiddler Answer is 13/24 = 0.5416666666666666\n"
     ]
    }
   ],
   "source": [
    "from fractions import Fraction as Fr\n",
    "def p_all_wins(n, exact=False):\n",
    "    \"\"\"\n",
    "      n : number of random variables. Max score is n-1.\n",
    "      exact : if True, return exact probability as a Fraction.\n",
    "    \"\"\"\n",
    "    # Halve the range because of symmetry\n",
    "    num_cases = 1 << (n - 1)  # 2^(n-1)\n",
    "    prob_sum = 0\n",
    "    for i in range(num_cases):\n",
    "        pfrl = prod_factorial_run_lengths(n, i)\n",
    "        prob_sum += Fr(1, pfrl) if exact else 1/pfrl\n",
    "    average_prob = Fr(prob_sum, num_cases) if exact else prob_sum / num_cases\n",
    "    return average_prob\n",
    "\n",
    "Fiddler_Answer = p_all_wins(3, exact=True)\n",
    "print(f\" Fiddler Answer is {Fiddler_Answer} = {float(Fiddler_Answer)}\")  # Exact probability as a fraction\n"
   ]
  },
  {
   "cell_type": "code",
   "execution_count": 33,
   "id": "a0246d8b",
   "metadata": {},
   "outputs": [
    {
     "name": "stdout",
     "output_type": "stream",
     "text": [
      "\n",
      "Exact = True, max_n = 25\n",
      "n=2, qf=0.75, q=3/4, time=0.0010 seconds\n",
      "n=3, qf=0.7222222222222222, q=13/18, time=0.0000 seconds\n",
      "n=4, qf=0.7211538461538461, q=75/104, time=0.0000 seconds\n",
      "n=5, qf=0.7213333333333334, q=541/750, time=0.0000 seconds\n",
      "n=6, qf=0.7213493530499075, q=1561/2164, time=0.0000 seconds\n",
      "n=7, qf=0.7213477319178793, q=47293/65562, time=0.0011 seconds\n",
      "n=8, qf=0.721347503858922, q=545835/756688, time=0.0000 seconds\n",
      "n=9, qf=0.7213475175139414, q=7087261/9825030, time=0.0010 seconds\n",
      "n=10, qf=0.7213475205724751, q=102247563/141745220, time=0.0020 seconds\n",
      "n=11, qf=0.7213475204827575, q=1622632573/2249446386, time=0.0040 seconds\n",
      "n=12, qf=0.7213475204438657, q=9363855865/12981060584, time=0.0054 seconds\n",
      "n=13, qf=0.7213475204440069, q=526858348381/730380757470, time=0.0110 seconds\n",
      "n=14, qf=0.7213475204444777, q=10641342970443/14752033754668, time=0.0281 seconds\n",
      "n=15, qf=0.7213475204444874, q=230283190977853/319240289113290, time=0.0403 seconds\n",
      "n=16, qf=0.7213475204444819, q=5315654681981355/7369062111291296, time=0.0840 seconds\n",
      "n=17, qf=0.7213475204444817, q=130370767029135901/180732259187366070, time=0.1829 seconds\n",
      "n=18, qf=0.7213475204444817, q=1128511554418948441/1564449204349630812, time=0.3901 seconds\n",
      "n=19, qf=0.7213475204444817, q=92801587319328411133/128650317203760122274, time=0.7769 seconds\n",
      "n=20, qf=0.7213475204444817, q=535537559248876840623/742412698554627289064, time=1.5370 seconds\n",
      "n=21, qf=0.7213475204444817, q=81124824998504073881821/112462887442264136530830, time=3.1264 seconds\n",
      "n=22, qf=0.7213475204444817, q=2574844419803190384544203/3569492299934179250800124, time=6.9101 seconds\n",
      "n=23, qf=0.7213475204444817, q=85438451336745709294580413/118442843310946757689033338, time=14.0333 seconds\n",
      "n=24, qf=0.7213475204444817, q=986093040358048490883549625/1367015221387931348713286608, time=35.3244 seconds\n",
      "n=25, qf=0.7213475204444817, q=106697365438475775825583498141/147913956053707273632532443750, time=87.2702 seconds\n"
     ]
    }
   ],
   "source": [
    "import time\n",
    "for e in [True]: # Exact is not much slower than float, so just do exact\n",
    "    max_n = 25\n",
    "    print(f\"\\nExact = {e}, max_n = {max_n}\")\n",
    "    P_list = [1]\n",
    "    Q_list = []\n",
    "    for i in range(2, max_n + 1):\n",
    "        start_time = time.time()\n",
    "        p = p_all_wins(i, exact=e)\n",
    "        P_list.append(p)\n",
    "        q = P_list[-1]/P_list[-2]\n",
    "        Q_list.append(q)\n",
    "        end_time = time.time()\n",
    "        print(f\"n={i}, qf={float(q)}, q={q}, time={(end_time - start_time):.4f} seconds\")\n"
   ]
  },
  {
   "cell_type": "markdown",
   "id": "bf3c5c06",
   "metadata": {},
   "source": [
    "The decimal values have converged, and rather quickly too.\n",
    "\n",
    "**So, the Extra Credit answer is 0.7213475204444817**\n",
    "\n",
    "Now some plots to see things a bit more visually..."
   ]
  },
  {
   "cell_type": "code",
   "execution_count": 44,
   "id": "08e0ba05",
   "metadata": {},
   "outputs": [
    {
     "data": {
      "image/png": "[encoded data removed]",
      "text/plain": [
       "<Figure size 1000x600 with 1 Axes>"
      ]
     },
     "metadata": {},
     "output_type": "display_data"
    }
   ],
   "source": [
    "\n",
    "import matplotlib.pyplot as plt\n",
    "plt.figure(figsize=(10, 6)) # Set figure size\n",
    "plt.plot(range(2, max_n + 1), [float(p) for p in P_list[1:]], marker='o', label='P(n)')\n",
    "plt.plot(range(2, max_n + 1), [float(q) for q in Q_list], marker='*', label='Q(n) = P(n)/P(n-1)')\n",
    "#plt.yscale('log') # Logarithmic scale for y-axis\n",
    "plt.axhline(y=0.7213475204444817, color='g', linestyle=':', label='Limit ~0.7213')\n",
    "plt.xlabel('n')\n",
    "plt.ylabel('Probability')\n",
    "plt.title('Probabilities P(n) and Q(n)')\n",
    "plt.legend()\n",
    "plt.grid()\n",
    "plt.show()\n"
   ]
  },
  {
   "cell_type": "markdown",
   "id": "0d8a843b",
   "metadata": {},
   "source": [
    "Some google searching and evalulation reveals that $0.7213475204444817 = 1/ln(4) = log_{4}(e)$. \n",
    "Not really sure how that comes about in this problem, but good to know."
   ]
  },
  {
   "cell_type": "markdown",
   "id": "8959caf4",
   "metadata": {},
   "source": [
    "UPDATE: Official Solution -> https://thefiddler.substack.com/p/can-you-box-the-letters"
   ]
  }
 ],
 "metadata": {
  "kernelspec": {
   "display_name": "Python 3",
   "language": "python",
   "name": "python3"
  },
  "language_info": {
   "codemirror_mode": {
    "name": "ipython",
    "version": 3
   },
   "file_extension": ".py",
   "mimetype": "text/x-python",
   "name": "python",
   "nbconvert_exporter": "python",
   "pygments_lexer": "ipython3",
   "version": "3.11.9"
  }
 },
 "nbformat": 4,
 "nbformat_minor": 5
}
