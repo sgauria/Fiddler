{
 "cells": [
  {
   "cell_type": "markdown",
   "id": "d70cf919",
   "metadata": {},
   "source": [
    "Puzzle\n",
    "------\n",
    "\n",
    "https://thefiddler.substack.com/p/can-you-squeeze-the-bubbles\n",
    "\n",
    "Solution to Fiddler\n",
    "----\n",
    "This was fun to sketch up in desmos.\n",
    "https://www.desmos.com/calculator/zplyaznad3\n",
    "\n",
    "Without any proof, I am claiming that the optimal arrangement is to have 6 circles around a central circle in a heaxogonal arrangement, where the distance between the central center and other centers is 1 + delta, so that the 6 outer centers are just outside the central circle, and are also spaced 1 + delta from each other.\n",
    "\n",
    "I calculated the area as sum and difference of various intersections, but I wonder if there is a simpler way to calculate it.\n",
    "\n",
    "Solution to Extra Credit\n",
    "----\n",
    "Again, without any proof, I think the optimal arrangement is to create a(equilateral) triangular tiling with distance $`1 + \\delta`$ between vertices, and place a circle on each vertex.\n",
    "\n",
    "Each vertex corresponds to 6 triangles, and each triangle has 3 vertices, so we can say that the number of triangles $`T`$ will be\n",
    "\n",
    "$`T \\approx 6N/3 = 2N`$\n",
    "\n",
    "Each triangle has area \n",
    "\n",
    "$`\\sqrt{3}/4 * (1+\\delta)^2  \\approx \\sqrt{3}/4 `$\n",
    "\n",
    "So, to first order, the total area $`A`$ is  \n",
    "\n",
    "$`A \\approx T \\sqrt{3}/4  \\approx  N \\sqrt{3}/2`$\n",
    "\n",
    "By analogy with the area and perimeter of a circle, we can estimate the number of circles on perimeter of our arrangement $``P`$\n",
    "\n",
    "$`P = 2 \\pi \\sqrt{N/\\pi} = 2 \\sqrt{\\pi N}`$\n",
    "\n",
    "Since N is very very large, the perimeter will be locally flat, and so each perimter circle will be half covered by the grid of triangles, and half outside. In the outside part, there will be overlap with the adjacent circles, so the incremental area from each circle will $`\\pi / 2 - I / 2  = 0.877152166192 `$\n",
    "\n",
    "So, the overall area expression can be refined a bit as\n",
    "\n",
    "$`A \\approx  N \\sqrt{3}/2 + 1.7543 \\sqrt{\\pi N}  `$\n",
    "\n",
    "i.e.\n",
    "\n",
    "$A \\approx  0.866 N  + 3.11 \\sqrt{N}  $\n",
    "\n",
    "There are still further correction terms possible, but I am going to stop here."
   ]
  }
 ],
 "metadata": {
  "language_info": {
   "name": "python"
  }
 },
 "nbformat": 4,
 "nbformat_minor": 5
}
