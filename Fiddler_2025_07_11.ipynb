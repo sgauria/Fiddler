{
 "cells": [
  {
   "cell_type": "markdown",
   "id": "9c95e45f",
   "metadata": {},
   "source": [
    "Puzzle\n",
    "----\n",
    "\n",
    "https://thefiddler.substack.com/p/can-you-hack-bowling\n",
    "\n",
    "**Fiddler**\n",
    "\n",
    "what’s the minimum total number of pins you need to knock down such that you can attain a score of at least 100?\n",
    "\n",
    "**Extra Credit**\n",
    "\n",
    "\"Given only the information that we knocked down the same number of pins in our two games, there’s no way the difference between our scores could have been any greater!”\n",
    "\n",
    "What is this difference between your two scores?\n"
   ]
  },
  {
   "cell_type": "markdown",
   "id": "e12b6749",
   "metadata": {},
   "source": [
    "Fiddler Solution\n",
    "----\n",
    "\n",
    "For the fiddler, I think the solution is 44.\n",
    "\n",
    "10,10,10,10,4,0,0....\n",
    "\n",
    "which has points\n",
    "30,30,24,14,4,0....\n",
    "\n",
    "which adds up to 102.\n",
    "\n",
    "**Justification**\n",
    "\n",
    "Each pin can contribute at most 3 points (by being counted in the scores for 3 frames).\n",
    "So, we need at least 34 pins.\n",
    "\n",
    "But the first frame can only be counted once and the second frame can only be counted twice.\n",
    "So, those frames can only contribute 30 points over 20 pins.\n",
    "The remainder must contribute 70 points. 70 divided by 3 is 23.33, i.e. 24 here. So, we need 20 + 24 = 44 pins.\n",
    "\n"
   ]
  },
  {
   "cell_type": "markdown",
   "id": "dadd6bfe",
   "metadata": {},
   "source": [
    "Extra Credit Solution.\n",
    "-----\n",
    "\n",
    "**Max:** \n",
    "\n",
    "10 frames of 10,, i.e. 10 strikes, followed by a 10, and a 0.\n",
    "\n",
    "10,10,10,10,10,10,10,10,10,10  , 10, 0\n",
    "\n",
    "Which has scores of \n",
    "\n",
    "30,30,30,30,30,30,30,30,30,20\n",
    "\n",
    "i.e. 290 points with 110 pins.\n",
    "\n",
    "**Min:** \n",
    "\n",
    "10 frames of 0+10 followed by a 10 ,i.e. 10 spares followed by a 10.\n",
    "\n",
    "0+10, 0+10, 0+10, 0+10, 0+10, 0+10, 0+10, 0+10, 0+10, 0+10,    10\n",
    "\n",
    "which has scores of \n",
    "\n",
    "10,10,10,10,10,10,10,10,10,20,\n",
    "\n",
    "i.e. 110 points with 110 pins.\n",
    "\n",
    "**Diff** = 180 points.\n",
    "\n",
    "**Justification**\n",
    "\n",
    "We should have lots of valid frames because that allows the differences to add up.\n",
    "\n",
    "Also, there should be strikes or spares involved because otherwise it's just 1 point per pin, i.e. no difference.\n",
    "\n",
    "The strike-vs-(0,10)-spare gives us a 20 point difference per frame.\n",
    "\n",
    "The last bit is of what happens around the final frame is figured out by considering a few cases."
   ]
  }
 ],
 "metadata": {
  "language_info": {
   "name": "python"
  }
 },
 "nbformat": 4,
 "nbformat_minor": 5
}
